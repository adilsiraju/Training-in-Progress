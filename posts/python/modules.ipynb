{
 "cells": [
  {
   "cell_type": "markdown",
   "id": "a7bbf76f",
   "metadata": {},
   "source": [
    "---\n",
    "title: \"Python Modules and Packages\"\n",
    "author: \"Mohammed Adil Siraju\"\n",
    "date: \"2025-09-18\"\n",
    "categories: [python, fundamentals, modules]\n",
    "description: \"Understanding Python modules, packages, and imports\"\n",
    "---"
   ]
  },
  {
   "cell_type": "markdown",
   "id": "63b00fe7",
   "metadata": {},
   "source": [
    "## What are Modules?\n",
    "\n",
    "A module is a file containing Python definitions and statements. The file name is the module name with the suffix `.py` added."
   ]
  },
  {
   "cell_type": "code",
   "execution_count": 1,
   "id": "e5dae9b8",
   "metadata": {},
   "outputs": [
    {
     "name": "stdout",
     "output_type": "stream",
     "text": [
      "Pi value: 3.141592653589793\n",
      "Square root of 16: 4.0\n",
      "Current time: 2025-09-18 11:56:02.592034\n"
     ]
    }
   ],
   "source": [
    "# Example: Using built-in modules\n",
    "import math\n",
    "import datetime\n",
    "\n",
    "# Using math module\n",
    "print(f\"Pi value: {math.pi}\")\n",
    "print(f\"Square root of 16: {math.sqrt(16)}\")\n",
    "\n",
    "# Using datetime module\n",
    "now = datetime.datetime.now()\n",
    "print(f\"Current time: {now}\")"
   ]
  },
  {
   "cell_type": "markdown",
   "id": "642380ac",
   "metadata": {},
   "source": [
    "## Import Statements\n",
    "\n",
    "There are several ways to import modules in Python:"
   ]
  },
  {
   "cell_type": "code",
   "execution_count": 2,
   "id": "3d53360c",
   "metadata": {},
   "outputs": [
    {
     "name": "stdout",
     "output_type": "stream",
     "text": [
      "Array: [1 2 3 4 5]\n",
      "Mean: 3.0\n",
      "Using imported sqrt: 5.0\n",
      "Using imported pi: 3.141592653589793\n"
     ]
    }
   ],
   "source": [
    "# 1. Import entire module\n",
    "import numpy\n",
    "\n",
    "# 2. Import with alias\n",
    "import numpy as np\n",
    "\n",
    "# 3. Import specific functions\n",
    "from math import sqrt, pi\n",
    "\n",
    "# 4. Import all (not recommended)\n",
    "# from math import *\n",
    "\n",
    "# Examples\n",
    "arr = np.array([1, 2, 3, 4, 5])\n",
    "print(f\"Array: {arr}\")\n",
    "print(f\"Mean: {np.mean(arr)}\")\n",
    "\n",
    "print(f\"Using imported sqrt: {sqrt(25)}\")\n",
    "print(f\"Using imported pi: {pi}\")"
   ]
  },
  {
   "cell_type": "markdown",
   "id": "8c9d325c",
   "metadata": {},
   "source": [
    "## Creating Custom Modules\n",
    "\n",
    "You can create your own modules by saving Python code in a `.py` file."
   ]
  },
  {
   "cell_type": "code",
   "execution_count": 3,
   "id": "63c2f63b",
   "metadata": {},
   "outputs": [
    {
     "name": "stdout",
     "output_type": "stream",
     "text": [
      "Hello, Adil!\n",
      "Area of circle with radius 5: 78.54\n",
      "Module version: 1.0.0\n"
     ]
    }
   ],
   "source": [
    "# Example: Creating a simple utility module (conceptually)\n",
    "# This would be saved as utils.py\n",
    "\n",
    "def greet(name):\n",
    "    \"\"\"Greet a person by name\"\"\"\n",
    "    return f\"Hello, {name}!\"\n",
    "\n",
    "def calculate_area(radius):\n",
    "    \"\"\"Calculate area of a circle\"\"\"\n",
    "    import math\n",
    "    return math.pi * radius ** 2\n",
    "\n",
    "# Constants\n",
    "VERSION = \"1.0.0\"\n",
    "AUTHOR = \"Mohammed Adil Siraju\"\n",
    "\n",
    "# Test the functions\n",
    "print(greet(\"Adil\"))\n",
    "print(f\"Area of circle with radius 5: {calculate_area(5):.2f}\")\n",
    "print(f\"Module version: {VERSION}\")"
   ]
  },
  {
   "cell_type": "markdown",
   "id": "4ee548e5",
   "metadata": {},
   "source": [
    "## Packages\n",
    "\n",
    "A package is a collection of modules organized in directories. Packages help organize related modules together."
   ]
  },
  {
   "cell_type": "code",
   "execution_count": 4,
   "id": "fd86effb",
   "metadata": {},
   "outputs": [
    {
     "name": "stdout",
     "output_type": "stream",
     "text": [
      "Package structure example shown above\n"
     ]
    }
   ],
   "source": [
    "# Example package structure:\n",
    "# mypackage/\n",
    "#     __init__.py\n",
    "#     module1.py\n",
    "#     module2.py\n",
    "#     subpackage/\n",
    "#         __init__.py\n",
    "#         submodule.py\n",
    "\n",
    "# Importing from packages\n",
    "# import mypackage.module1\n",
    "# from mypackage import module2\n",
    "# from mypackage.subpackage import submodule\n",
    "\n",
    "print(\"Package structure example shown above\")"
   ]
  },
  {
   "cell_type": "markdown",
   "id": "293508f1",
   "metadata": {},
   "source": [
    "## Popular Python Packages for Data Science\n",
    "\n",
    "Let's explore some essential packages for AI/ML work:"
   ]
  },
  {
   "cell_type": "code",
   "execution_count": 5,
   "id": "e3d00cca",
   "metadata": {},
   "outputs": [
    {
     "name": "stdout",
     "output_type": "stream",
     "text": [
      "Sample DataFrame:\n",
      "   x   y\n",
      "0  1   2\n",
      "1  2   4\n",
      "2  3   6\n",
      "3  4   8\n",
      "4  5  10\n",
      "\n",
      "Linear Regression Results:\n",
      "Slope: 2.00\n",
      "Intercept: -0.00\n",
      "MSE: 0.00\n"
     ]
    }
   ],
   "source": [
    "# Data manipulation and analysis\n",
    "import pandas as pd\n",
    "import numpy as np\n",
    "\n",
    "# Visualization\n",
    "import matplotlib.pyplot as plt\n",
    "import seaborn as sns\n",
    "\n",
    "# Machine Learning\n",
    "from sklearn.model_selection import train_test_split\n",
    "from sklearn.linear_model import LinearRegression\n",
    "from sklearn.metrics import mean_squared_error\n",
    "\n",
    "# Create sample data\n",
    "data = {\n",
    "    'x': [1, 2, 3, 4, 5],\n",
    "    'y': [2, 4, 6, 8, 10]\n",
    "}\n",
    "\n",
    "df = pd.DataFrame(data)\n",
    "print(\"Sample DataFrame:\")\n",
    "print(df)\n",
    "\n",
    "# Simple linear regression example\n",
    "X = df[['x']]\n",
    "y = df['y']\n",
    "\n",
    "model = LinearRegression()\n",
    "model.fit(X, y)\n",
    "\n",
    "predictions = model.predict(X)\n",
    "mse = mean_squared_error(y, predictions)\n",
    "\n",
    "print(f\"\\nLinear Regression Results:\")\n",
    "print(f\"Slope: {model.coef_[0]:.2f}\")\n",
    "print(f\"Intercept: {model.intercept_:.2f}\")\n",
    "print(f\"MSE: {mse:.2f}\")"
   ]
  },
  {
   "cell_type": "markdown",
   "id": "d477c078",
   "metadata": {},
   "source": [
    "## Best Practices\n",
    "\n",
    "1. **Use descriptive names** for modules and packages\n",
    "2. **Keep modules focused** on a single responsibility\n",
    "3. **Use `__init__.py`** to control package imports\n",
    "4. **Document your modules** with docstrings\n",
    "5. **Follow PEP 8** naming conventions\n",
    "6. **Avoid circular imports**\n",
    "\n",
    "## Key Takeaways\n",
    "\n",
    "- Modules help organize and reuse code\n",
    "- Packages group related modules together\n",
    "- Import statements control what code is available\n",
    "- Python's standard library provides many useful modules\n",
    "- Third-party packages extend Python's capabilities\n",
    "\n",
    "---\n",
    "\n",
    "*Next: We'll explore Python functions and classes in detail.*"
   ]
  }
 ],
 "metadata": {
  "kernelspec": {
   "display_name": "base",
   "language": "python",
   "name": "python3"
  },
  "language_info": {
   "codemirror_mode": {
    "name": "ipython",
    "version": 3
   },
   "file_extension": ".py",
   "mimetype": "text/x-python",
   "name": "python",
   "nbconvert_exporter": "python",
   "pygments_lexer": "ipython3",
   "version": "3.13.5"
  }
 },
 "nbformat": 4,
 "nbformat_minor": 5
}
