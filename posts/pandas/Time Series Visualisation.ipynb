{
 "cells": [
  {
   "cell_type": "markdown",
   "id": "6e7a0fcd",
   "metadata": {},
   "source": [
    "---\n",
    "title: \"Time Series Visualization with Pandas\"\n",
    "author: \"Mohammed Adil Siraju\"\n",
    "date: \"2025-09-21\"\n",
    "categories: [pandas, dataframe, time-series, visualization, matplotlib]\n",
    "description: \"Learn to create compelling time series visualizations using Pandas and Matplotlib. Master line plots, area plots, and customization techniques for effective temporal data analysis.\"\n",
    "---\n",
    "\n",
    "Time series data visualization is crucial for understanding trends, patterns, and changes over time. This notebook covers:\n",
    "\n",
    "- **Creating Time Series Data**: Using datetime indices and ranges\n",
    "- **Basic Line Plots**: Essential time series visualization\n",
    "- **Plot Customization**: Colors, markers, styles, and labels\n",
    "- **DataFrame Visualization**: Plotting multiple series\n",
    "- **Best Practices**: Making your time series plots clear and informative\n",
    "\n",
    "Effective visualization helps you communicate temporal patterns and insights from your data.\n",
    "\n",
    "## 1. Creating Time Series Data\n",
    "\n",
    "Let's start by creating time series data using Pandas' powerful datetime capabilities."
   ]
  },
  {
   "cell_type": "markdown",
   "id": "7ce02aed",
   "metadata": {},
   "source": [
    "### Creating a Time Series with DateTime Index\n",
    "\n",
    "Use `pd.date_range()` to create a sequence of dates, then create a Series with datetime index:"
   ]
  },
  {
   "cell_type": "code",
   "execution_count": 8,
   "id": "77bb850f",
   "metadata": {},
   "outputs": [
    {
     "data": {
      "text/plain": [
       "2025-01-01    100\n",
       "2025-01-02    120\n",
       "2025-01-03     80\n",
       "2025-01-04    110\n",
       "2025-01-05     90\n",
       "Freq: D, dtype: int64"
      ]
     },
     "execution_count": 8,
     "metadata": {},
     "output_type": "execute_result"
    }
   ],
   "source": [
    "import pandas as pd\n",
    "\n",
    "time_index = pd.date_range('2025-01-01', periods=5, freq='D')\n",
    "ts_data = pd.Series([100,120,80,110,90], index=time_index)\n",
    "\n",
    "ts_data"
   ]
  },
  {
   "cell_type": "markdown",
   "id": "84ebaee8",
   "metadata": {},
   "source": [
    "### Converting Series to DataFrame\n",
    "\n",
    "You can easily convert a time series Series to a DataFrame for additional operations:"
   ]
  },
  {
   "cell_type": "code",
   "execution_count": 9,
   "id": "620b4ed1",
   "metadata": {},
   "outputs": [
    {
     "data": {
      "text/html": [
       "<div>\n",
       "<style scoped>\n",
       "    .dataframe tbody tr th:only-of-type {\n",
       "        vertical-align: middle;\n",
       "    }\n",
       "\n",
       "    .dataframe tbody tr th {\n",
       "        vertical-align: top;\n",
       "    }\n",
       "\n",
       "    .dataframe thead th {\n",
       "        text-align: right;\n",
       "    }\n",
       "</style>\n",
       "<table border=\"1\" class=\"dataframe\">\n",
       "  <thead>\n",
       "    <tr style=\"text-align: right;\">\n",
       "      <th></th>\n",
       "      <th>0</th>\n",
       "    </tr>\n",
       "  </thead>\n",
       "  <tbody>\n",
       "    <tr>\n",
       "      <th>2025-01-01</th>\n",
       "      <td>100</td>\n",
       "    </tr>\n",
       "    <tr>\n",
       "      <th>2025-01-02</th>\n",
       "      <td>120</td>\n",
       "    </tr>\n",
       "    <tr>\n",
       "      <th>2025-01-03</th>\n",
       "      <td>80</td>\n",
       "    </tr>\n",
       "    <tr>\n",
       "      <th>2025-01-04</th>\n",
       "      <td>110</td>\n",
       "    </tr>\n",
       "    <tr>\n",
       "      <th>2025-01-05</th>\n",
       "      <td>90</td>\n",
       "    </tr>\n",
       "  </tbody>\n",
       "</table>\n",
       "</div>"
      ],
      "text/plain": [
       "              0\n",
       "2025-01-01  100\n",
       "2025-01-02  120\n",
       "2025-01-03   80\n",
       "2025-01-04  110\n",
       "2025-01-05   90"
      ]
     },
     "execution_count": 9,
     "metadata": {},
     "output_type": "execute_result"
    }
   ],
   "source": [
    "df = pd.DataFrame(ts_data)\n",
    "df"
   ]
  },
  {
   "cell_type": "markdown",
   "id": "fb25e017",
   "metadata": {},
   "source": [
    "## 2. Basic Time Series Visualization\n",
    "\n",
    "Pandas integrates seamlessly with Matplotlib for creating time series plots. The `.plot()` method provides an easy interface for visualization.\n",
    "\n",
    "### Line Plot with Customization\n",
    "\n",
    "Create a line plot with markers, custom colors, and styling:"
   ]
  },
  {
   "cell_type": "code",
   "execution_count": 10,
   "id": "47227501",
   "metadata": {},
   "outputs": [
    {
     "data": {
      "image/png": "[encoded data removed]",
      "text/plain": [
       "<Figure size 640x480 with 1 Axes>"
      ]
     },
     "metadata": {},
     "output_type": "display_data"
    }
   ],
   "source": [
    "import matplotlib.pyplot as plt\n",
    "\n",
    "ts_data.plot(kind='line', marker='o', color='b', linestyle='--')\n",
    "plt.xlabel('Date')\n",
    "plt.ylabel('Value')\n",
    "\n",
    "plt.grid()\n",
    "plt.show()"
   ]
  },
  {
   "cell_type": "markdown",
   "id": "06420baf",
   "metadata": {},
   "source": [
    "## Summary\n",
    "\n",
    "Time series visualization is essential for understanding temporal patterns in your data. In this notebook, you learned:\n",
    "\n",
    "### 📅 **Time Series Creation**\n",
    "- `pd.date_range()`: Create sequences of dates\n",
    "- Datetime indexing: Set dates as DataFrame/Series index\n",
    "- Series to DataFrame conversion\n",
    "\n",
    "### 📊 **Visualization Techniques**\n",
    "- **Line plots**: Basic time series visualization with `.plot()`\n",
    "- **Customization**: Colors, markers, line styles, and labels\n",
    "- **Matplotlib integration**: Pandas plotting with Matplotlib backend\n",
    "\n",
    "### 🎨 **Plot Customization Options**\n",
    "- `kind='line'`: Line plot type\n",
    "- `marker='o'`: Data point markers\n",
    "- `color='b'`: Line colors\n",
    "- `linestyle='--'`: Line styles (solid, dashed, etc.)\n",
    "- `plt.xlabel()`, `plt.ylabel()`: Axis labels\n",
    "- `plt.grid()`: Add grid lines\n",
    "\n",
    "### 💡 **Key Concepts**\n",
    "1. **Datetime Index**: Essential for time series operations\n",
    "2. **Plot Method**: Pandas' built-in plotting interface\n",
    "3. **Matplotlib Integration**: Customize plots with full Matplotlib control\n",
    "4. **Clear Labeling**: Always label axes and add titles\n",
    "\n",
    "### 🚀 **Best Practices**\n",
    "- Use appropriate date ranges for your analysis period\n",
    "- Choose colors and styles that enhance readability\n",
    "- Add grid lines for better value estimation\n",
    "- Label axes clearly for context\n",
    "\n",
    "### 📈 **Next Steps**\n",
    "- Explore advanced plots (area plots, bar plots)\n",
    "- Learn about subplots for multiple time series\n",
    "- Practice with real time series datasets\n",
    "- Experiment with different styling options\n",
    "\n",
    "Mastering time series visualization will help you effectively communicate temporal trends and patterns! 📊⏰"
   ]
  }
 ],
 "metadata": {
  "kernelspec": {
   "display_name": "base",
   "language": "python",
   "name": "python3"
  },
  "language_info": {
   "codemirror_mode": {
    "name": "ipython",
    "version": 3
   },
   "file_extension": ".py",
   "mimetype": "text/x-python",
   "name": "python",
   "nbconvert_exporter": "python",
   "pygments_lexer": "ipython3",
   "version": "3.13.5"
  }
 },
 "nbformat": 4,
 "nbformat_minor": 5
}
