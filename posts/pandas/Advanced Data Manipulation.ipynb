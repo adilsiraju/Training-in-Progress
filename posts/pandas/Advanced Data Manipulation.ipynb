{
 "cells": [
  {
   "cell_type": "markdown",
   "id": "6e7a0fcd",
   "metadata": {},
   "source": [
    "---\n",
    "title: \"Advanced Data Manipulation (apply, map, applymap)\"\n",
    "author: \"Mohammed Adil Siraju\"\n",
    "date: \"2025-09-21\"\n",
    "categories: [pandas, dataframe, transformation]\n",
    "description: \"Overview of `apply`, `map`, and `applymap` for advanced DataFrame/Series transformations.\"\n",
    "---\n",
    "\n",
    "This notebook demonstrates advanced element-wise and row/column-wise transformations in pandas using `apply`, `map`, and `applymap`.\n"
   ]
  },
  {
   "cell_type": "markdown",
   "id": "a9912be1",
   "metadata": {},
   "source": [
    "## Introduction\n",
    "\n",
    "Pandas provides flexible methods to transform data:\n",
    "- `Series.map(func)`: elementwise mapping for a Series.\n",
    "- `DataFrame.apply(func, axis=...)`: apply a function to each column or row (as Series).\n",
    "- `DataFrame.applymap(func)`: elementwise operation across the entire DataFrame.\n",
    "\n",
    "We'll illustrate each with short examples and best-practice notes."
   ]
  },
  {
   "cell_type": "code",
   "execution_count": 1,
   "id": "77bb850f",
   "metadata": {},
   "outputs": [
    {
     "data": {
      "text/html": [
       "<div>\n",
       "<style scoped>\n",
       "    .dataframe tbody tr th:only-of-type {\n",
       "        vertical-align: middle;\n",
       "    }\n",
       "\n",
       "    .dataframe tbody tr th {\n",
       "        vertical-align: top;\n",
       "    }\n",
       "\n",
       "    .dataframe thead th {\n",
       "        text-align: right;\n",
       "    }\n",
       "</style>\n",
       "<table border=\"1\" class=\"dataframe\">\n",
       "  <thead>\n",
       "    <tr style=\"text-align: right;\">\n",
       "      <th></th>\n",
       "      <th>A</th>\n",
       "      <th>B</th>\n",
       "    </tr>\n",
       "  </thead>\n",
       "  <tbody>\n",
       "    <tr>\n",
       "      <th>0</th>\n",
       "      <td>1</td>\n",
       "      <td>10</td>\n",
       "    </tr>\n",
       "    <tr>\n",
       "      <th>1</th>\n",
       "      <td>2</td>\n",
       "      <td>20</td>\n",
       "    </tr>\n",
       "    <tr>\n",
       "      <th>2</th>\n",
       "      <td>3</td>\n",
       "      <td>30</td>\n",
       "    </tr>\n",
       "    <tr>\n",
       "      <th>3</th>\n",
       "      <td>4</td>\n",
       "      <td>40</td>\n",
       "    </tr>\n",
       "    <tr>\n",
       "      <th>4</th>\n",
       "      <td>5</td>\n",
       "      <td>50</td>\n",
       "    </tr>\n",
       "  </tbody>\n",
       "</table>\n",
       "</div>"
      ],
      "text/plain": [
       "   A   B\n",
       "0  1  10\n",
       "1  2  20\n",
       "2  3  30\n",
       "3  4  40\n",
       "4  5  50"
      ]
     },
     "execution_count": 1,
     "metadata": {},
     "output_type": "execute_result"
    }
   ],
   "source": [
    "# Import libraries and create sample DataFrame\n",
    "import pandas as pd\n",
    "\n",
    "data = {\n",
    "    'A': [1, 2, 3, 4, 5],\n",
    "    'B': [10, 20, 30, 40, 50],\n",
    "}\n",
    "\n",
    "df = pd.DataFrame(data)\n",
    "df"
   ]
  },
  {
   "cell_type": "markdown",
   "id": "2d8e34bb",
   "metadata": {},
   "source": [
    "## Using `apply`\n",
    "\n",
    "`DataFrame.apply` calls a function on each column (by default) or each row when `axis=1`. The function receives a Series and should return a single value or a Series (for aggregation or transformation).\n",
    "\n",
    "Use `apply` when your operation needs to work on an entire row/column at once (e.g., compute a statistic or combine multiple columns)."
   ]
  },
  {
   "cell_type": "code",
   "execution_count": 2,
   "id": "e9bc3069",
   "metadata": {},
   "outputs": [
    {
     "data": {
      "text/html": [
       "<div>\n",
       "<style scoped>\n",
       "    .dataframe tbody tr th:only-of-type {\n",
       "        vertical-align: middle;\n",
       "    }\n",
       "\n",
       "    .dataframe tbody tr th {\n",
       "        vertical-align: top;\n",
       "    }\n",
       "\n",
       "    .dataframe thead th {\n",
       "        text-align: right;\n",
       "    }\n",
       "</style>\n",
       "<table border=\"1\" class=\"dataframe\">\n",
       "  <thead>\n",
       "    <tr style=\"text-align: right;\">\n",
       "      <th></th>\n",
       "      <th>A</th>\n",
       "      <th>B</th>\n",
       "    </tr>\n",
       "  </thead>\n",
       "  <tbody>\n",
       "    <tr>\n",
       "      <th>0</th>\n",
       "      <td>2</td>\n",
       "      <td>20</td>\n",
       "    </tr>\n",
       "    <tr>\n",
       "      <th>1</th>\n",
       "      <td>4</td>\n",
       "      <td>40</td>\n",
       "    </tr>\n",
       "    <tr>\n",
       "      <th>2</th>\n",
       "      <td>6</td>\n",
       "      <td>60</td>\n",
       "    </tr>\n",
       "    <tr>\n",
       "      <th>3</th>\n",
       "      <td>8</td>\n",
       "      <td>80</td>\n",
       "    </tr>\n",
       "    <tr>\n",
       "      <th>4</th>\n",
       "      <td>10</td>\n",
       "      <td>100</td>\n",
       "    </tr>\n",
       "  </tbody>\n",
       "</table>\n",
       "</div>"
      ],
      "text/plain": [
       "    A    B\n",
       "0   2   20\n",
       "1   4   40\n",
       "2   6   60\n",
       "3   8   80\n",
       "4  10  100"
      ]
     },
     "execution_count": 2,
     "metadata": {},
     "output_type": "execute_result"
    }
   ],
   "source": [
    "# Example: multiply each column (Series) by 2 using apply\n",
    "# Note: apply receives a Series (column) by default, so multiplying the Series scales all values in that column\n",
    "df_apply = df.apply(lambda col: col * 2)\n",
    "df_apply"
   ]
  },
  {
   "cell_type": "markdown",
   "id": "f71cfe85",
   "metadata": {},
   "source": [
    "## Using `map` (Series)\n",
    "\n",
    "`Series.map` is an elementwise operation on a Series. Use it for simple scalar transformations or to map values via a dict/Series/function. It is not available on `DataFrame` directly (use `applymap` for elementwise on DataFrame)."
   ]
  },
  {
   "cell_type": "code",
   "execution_count": 3,
   "id": "76e51f22",
   "metadata": {},
   "outputs": [
    {
     "data": {
      "text/plain": [
       "0     1\n",
       "1     4\n",
       "2     9\n",
       "3    16\n",
       "4    25\n",
       "dtype: int64"
      ]
     },
     "execution_count": 3,
     "metadata": {},
     "output_type": "execute_result"
    }
   ],
   "source": [
    "# Series example using map\n",
    "series_data = pd.Series([1, 2, 3, 4, 5])\n",
    "mapped_data = series_data.map(lambda x: x ** 2)\n",
    "mapped_data"
   ]
  },
  {
   "cell_type": "code",
   "execution_count": 4,
   "id": "19caf2df",
   "metadata": {},
   "outputs": [
    {
     "data": {
      "text/plain": [
       "0    1\n",
       "1    2\n",
       "2    3\n",
       "3    4\n",
       "4    5\n",
       "dtype: int64"
      ]
     },
     "execution_count": 4,
     "metadata": {},
     "output_type": "execute_result"
    }
   ],
   "source": [
    "# original series\n",
    "series_data"
   ]
  },
  {
   "cell_type": "markdown",
   "id": "6fa1a313",
   "metadata": {},
   "source": [
    "## Using `applymap` (elementwise on DataFrame)\n",
    "\n",
    "`DataFrame.applymap` applies a function to each element of the DataFrame. This is the correct choice for elementwise numeric transforms across all cells. For column/row-wise operations, prefer `apply`."
   ]
  },
  {
   "cell_type": "code",
   "execution_count": 5,
   "id": "5cfe81b6",
   "metadata": {},
   "outputs": [
    {
     "data": {
      "text/html": [
       "<div>\n",
       "<style scoped>\n",
       "    .dataframe tbody tr th:only-of-type {\n",
       "        vertical-align: middle;\n",
       "    }\n",
       "\n",
       "    .dataframe tbody tr th {\n",
       "        vertical-align: top;\n",
       "    }\n",
       "\n",
       "    .dataframe thead th {\n",
       "        text-align: right;\n",
       "    }\n",
       "</style>\n",
       "<table border=\"1\" class=\"dataframe\">\n",
       "  <thead>\n",
       "    <tr style=\"text-align: right;\">\n",
       "      <th></th>\n",
       "      <th>A</th>\n",
       "      <th>B</th>\n",
       "    </tr>\n",
       "  </thead>\n",
       "  <tbody>\n",
       "    <tr>\n",
       "      <th>0</th>\n",
       "      <td>1</td>\n",
       "      <td>10</td>\n",
       "    </tr>\n",
       "    <tr>\n",
       "      <th>1</th>\n",
       "      <td>2</td>\n",
       "      <td>20</td>\n",
       "    </tr>\n",
       "    <tr>\n",
       "      <th>2</th>\n",
       "      <td>3</td>\n",
       "      <td>30</td>\n",
       "    </tr>\n",
       "    <tr>\n",
       "      <th>3</th>\n",
       "      <td>4</td>\n",
       "      <td>40</td>\n",
       "    </tr>\n",
       "    <tr>\n",
       "      <th>4</th>\n",
       "      <td>5</td>\n",
       "      <td>50</td>\n",
       "    </tr>\n",
       "  </tbody>\n",
       "</table>\n",
       "</div>"
      ],
      "text/plain": [
       "   A   B\n",
       "0  1  10\n",
       "1  2  20\n",
       "2  3  30\n",
       "3  4  40\n",
       "4  5  50"
      ]
     },
     "execution_count": 5,
     "metadata": {},
     "output_type": "execute_result"
    }
   ],
   "source": [
    "# show the DataFrame\n",
    "df"
   ]
  },
  {
   "cell_type": "code",
   "execution_count": 6,
   "id": "2e708649",
   "metadata": {},
   "outputs": [
    {
     "name": "stderr",
     "output_type": "stream",
     "text": [
      "C:\\Users\\adila\\AppData\\Local\\Temp\\ipykernel_5712\\4130872161.py:2: FutureWarning: DataFrame.applymap has been deprecated. Use DataFrame.map instead.\n",
      "  df_applymap = df.applymap(lambda x: x ** 3)\n"
     ]
    },
    {
     "data": {
      "text/html": [
       "<div>\n",
       "<style scoped>\n",
       "    .dataframe tbody tr th:only-of-type {\n",
       "        vertical-align: middle;\n",
       "    }\n",
       "\n",
       "    .dataframe tbody tr th {\n",
       "        vertical-align: top;\n",
       "    }\n",
       "\n",
       "    .dataframe thead th {\n",
       "        text-align: right;\n",
       "    }\n",
       "</style>\n",
       "<table border=\"1\" class=\"dataframe\">\n",
       "  <thead>\n",
       "    <tr style=\"text-align: right;\">\n",
       "      <th></th>\n",
       "      <th>A</th>\n",
       "      <th>B</th>\n",
       "    </tr>\n",
       "  </thead>\n",
       "  <tbody>\n",
       "    <tr>\n",
       "      <th>0</th>\n",
       "      <td>1</td>\n",
       "      <td>1000</td>\n",
       "    </tr>\n",
       "    <tr>\n",
       "      <th>1</th>\n",
       "      <td>8</td>\n",
       "      <td>8000</td>\n",
       "    </tr>\n",
       "    <tr>\n",
       "      <th>2</th>\n",
       "      <td>27</td>\n",
       "      <td>27000</td>\n",
       "    </tr>\n",
       "    <tr>\n",
       "      <th>3</th>\n",
       "      <td>64</td>\n",
       "      <td>64000</td>\n",
       "    </tr>\n",
       "    <tr>\n",
       "      <th>4</th>\n",
       "      <td>125</td>\n",
       "      <td>125000</td>\n",
       "    </tr>\n",
       "  </tbody>\n",
       "</table>\n",
       "</div>"
      ],
      "text/plain": [
       "     A       B\n",
       "0    1    1000\n",
       "1    8    8000\n",
       "2   27   27000\n",
       "3   64   64000\n",
       "4  125  125000"
      ]
     },
     "execution_count": 6,
     "metadata": {},
     "output_type": "execute_result"
    }
   ],
   "source": [
    "# elementwise cube using applymap\n",
    "df_applymap = df.applymap(lambda x: x ** 3)\n",
    "df_applymap"
   ]
  },
  {
   "cell_type": "markdown",
   "id": "ef5664cb",
   "metadata": {},
   "source": [
    "## Creating new columns with `apply` (row-wise)\n",
    "\n",
    "When you need to compute a value using multiple columns, use `apply` with `axis=1`. For better performance, prefer vectorized operations when possible (see Best Practices below)."
   ]
  },
  {
   "cell_type": "code",
   "execution_count": 7,
   "id": "5fb57896",
   "metadata": {},
   "outputs": [
    {
     "data": {
      "text/html": [
       "<div>\n",
       "<style scoped>\n",
       "    .dataframe tbody tr th:only-of-type {\n",
       "        vertical-align: middle;\n",
       "    }\n",
       "\n",
       "    .dataframe tbody tr th {\n",
       "        vertical-align: top;\n",
       "    }\n",
       "\n",
       "    .dataframe thead th {\n",
       "        text-align: right;\n",
       "    }\n",
       "</style>\n",
       "<table border=\"1\" class=\"dataframe\">\n",
       "  <thead>\n",
       "    <tr style=\"text-align: right;\">\n",
       "      <th></th>\n",
       "      <th>A</th>\n",
       "      <th>B</th>\n",
       "      <th>C</th>\n",
       "    </tr>\n",
       "  </thead>\n",
       "  <tbody>\n",
       "    <tr>\n",
       "      <th>0</th>\n",
       "      <td>1</td>\n",
       "      <td>10</td>\n",
       "      <td>10</td>\n",
       "    </tr>\n",
       "    <tr>\n",
       "      <th>1</th>\n",
       "      <td>2</td>\n",
       "      <td>20</td>\n",
       "      <td>40</td>\n",
       "    </tr>\n",
       "    <tr>\n",
       "      <th>2</th>\n",
       "      <td>3</td>\n",
       "      <td>30</td>\n",
       "      <td>90</td>\n",
       "    </tr>\n",
       "    <tr>\n",
       "      <th>3</th>\n",
       "      <td>4</td>\n",
       "      <td>40</td>\n",
       "      <td>160</td>\n",
       "    </tr>\n",
       "    <tr>\n",
       "      <th>4</th>\n",
       "      <td>5</td>\n",
       "      <td>50</td>\n",
       "      <td>250</td>\n",
       "    </tr>\n",
       "  </tbody>\n",
       "</table>\n",
       "</div>"
      ],
      "text/plain": [
       "   A   B    C\n",
       "0  1  10   10\n",
       "1  2  20   40\n",
       "2  3  30   90\n",
       "3  4  40  160\n",
       "4  5  50  250"
      ]
     },
     "execution_count": 7,
     "metadata": {},
     "output_type": "execute_result"
    }
   ],
   "source": [
    "# create column 'C' as product of A and B using apply row-wise\n",
    "df['C'] = df.apply(lambda row: row['A'] * row['B'], axis=1)\n",
    "df"
   ]
  },
  {
   "cell_type": "markdown",
   "id": "04bd8545",
   "metadata": {},
   "source": [
    "## Best Practices\n",
    "\n",
    "- Prefer pandas vectorized operations (e.g., `df['A'] * df['B']`) over `apply` when possible — they are faster and clearer.\n",
    "- Use `map` for Series-to-Series elementwise mappings or label replacements.\n",
    "- Use `applymap` only when you need a uniform elementwise transform across the entire DataFrame.\n",
    "- When using `apply` with `axis=1`, consider `np.where`, `pd.Series.where`, or vectorized arithmetic to improve performance.\n",
    "- Keep functions simple and avoid expensive Python-level loops inside `apply`/`map` for large DataFrames."
   ]
  },
  {
   "cell_type": "markdown",
   "id": "b8266e5f",
   "metadata": {},
   "source": [
    "## Summary & Further Reading\n",
    "\n",
    "This notebook covered the differences between `map`, `apply`, and `applymap` and showed practical examples. For more, see the pandas documentation: https://pandas.pydata.org/pandas-docs/stable/reference/index.html\n",
    "\n",
    "Further exercises: try rewriting the `df['C']` calculation using a fully vectorized expression and compare timing with `%timeit`."
   ]
  }
 ],
 "metadata": {
  "kernelspec": {
   "display_name": "base",
   "language": "python",
   "name": "python3"
  },
  "language_info": {
   "codemirror_mode": {
    "name": "ipython",
    "version": 3
   },
   "file_extension": ".py",
   "mimetype": "text/x-python",
   "name": "python",
   "nbconvert_exporter": "python",
   "pygments_lexer": "ipython3",
   "version": "3.13.5"
  }
 },
 "nbformat": 4,
 "nbformat_minor": 5
}
