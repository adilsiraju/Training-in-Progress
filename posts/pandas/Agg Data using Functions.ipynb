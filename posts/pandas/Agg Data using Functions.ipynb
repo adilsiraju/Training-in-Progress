{
 "cells": [
  {
   "cell_type": "markdown",
   "id": "6e7a0fcd",
   "metadata": {},
   "source": [
    "---\n",
    "title: \"Advanced Data Aggregation with Pandas Functions\"\n",
    "author: \"Mohammed Adil Siraju\"\n",
    "date: \"2025-09-21\"\n",
    "categories: [pandas, dataframe, aggregation, functions]\n",
    "description: \"Master advanced data aggregation techniques in Pandas using built-in functions, custom functions, and lambda expressions. Learn to create powerful summary statistics and custom aggregations.\"\n",
    "---\n",
    "\n",
    "Data aggregation is a fundamental operation in data analysis that allows you to summarize and analyze data by groups. This notebook covers:\n",
    "\n",
    "- **Built-in Aggregation Functions**: Using Pandas' built-in functions like sum, mean, max\n",
    "- **Custom Aggregation Functions**: Creating your own aggregation logic with lambda functions and custom functions\n",
    "- **Multiple Aggregations**: Applying several functions simultaneously\n",
    "- **Dictionary-based Aggregation**: Specifying different functions for different columns\n",
    "\n",
    "Mastering these techniques will give you powerful tools for data summarization and analysis.\n",
    "\n",
    "## 1. Setting Up Sample Data\n",
    "\n",
    "Let's create a sample dataset to demonstrate various aggregation techniques. We'll work with categorical data and numerical values."
   ]
  },
  {
   "cell_type": "code",
   "execution_count": 1,
   "id": "77bb850f",
   "metadata": {},
   "outputs": [
    {
     "data": {
      "text/html": [
       "<div>\n",
       "<style scoped>\n",
       "    .dataframe tbody tr th:only-of-type {\n",
       "        vertical-align: middle;\n",
       "    }\n",
       "\n",
       "    .dataframe tbody tr th {\n",
       "        vertical-align: top;\n",
       "    }\n",
       "\n",
       "    .dataframe thead th {\n",
       "        text-align: right;\n",
       "    }\n",
       "</style>\n",
       "<table border=\"1\" class=\"dataframe\">\n",
       "  <thead>\n",
       "    <tr style=\"text-align: right;\">\n",
       "      <th></th>\n",
       "      <th>Category</th>\n",
       "      <th>Value</th>\n",
       "    </tr>\n",
       "  </thead>\n",
       "  <tbody>\n",
       "    <tr>\n",
       "      <th>0</th>\n",
       "      <td>A</td>\n",
       "      <td>10</td>\n",
       "    </tr>\n",
       "    <tr>\n",
       "      <th>1</th>\n",
       "      <td>B</td>\n",
       "      <td>15</td>\n",
       "    </tr>\n",
       "    <tr>\n",
       "      <th>2</th>\n",
       "      <td>A</td>\n",
       "      <td>20</td>\n",
       "    </tr>\n",
       "    <tr>\n",
       "      <th>3</th>\n",
       "      <td>B</td>\n",
       "      <td>25</td>\n",
       "    </tr>\n",
       "    <tr>\n",
       "      <th>4</th>\n",
       "      <td>A</td>\n",
       "      <td>30</td>\n",
       "    </tr>\n",
       "  </tbody>\n",
       "</table>\n",
       "</div>"
      ],
      "text/plain": [
       "  Category  Value\n",
       "0        A     10\n",
       "1        B     15\n",
       "2        A     20\n",
       "3        B     25\n",
       "4        A     30"
      ]
     },
     "execution_count": 1,
     "metadata": {},
     "output_type": "execute_result"
    }
   ],
   "source": [
    "import pandas as pd\n",
    "\n",
    "data = {\n",
    "    'Category': ['A', 'B', 'A', 'B', 'A'],\n",
    "    'Value': [10,15,20,25,30]\n",
    "}\n",
    "\n",
    "df = pd.DataFrame(data)\n",
    "df"
   ]
  },
  {
   "cell_type": "markdown",
   "id": "e222eab6",
   "metadata": {},
   "source": [
    "## 2. Built-in Aggregation Functions\n",
    "\n",
    "Pandas provides many built-in aggregation functions that you can use with the `agg()` method. These are the most common summary statistics.\n",
    "\n",
    "### Sum Aggregation\n",
    "\n",
    "Calculate the total sum of values for each category:"
   ]
  },
  {
   "cell_type": "code",
   "execution_count": 2,
   "id": "5cec25e1",
   "metadata": {},
   "outputs": [
    {
     "data": {
      "text/html": [
       "<div>\n",
       "<style scoped>\n",
       "    .dataframe tbody tr th:only-of-type {\n",
       "        vertical-align: middle;\n",
       "    }\n",
       "\n",
       "    .dataframe tbody tr th {\n",
       "        vertical-align: top;\n",
       "    }\n",
       "\n",
       "    .dataframe thead th {\n",
       "        text-align: right;\n",
       "    }\n",
       "</style>\n",
       "<table border=\"1\" class=\"dataframe\">\n",
       "  <thead>\n",
       "    <tr style=\"text-align: right;\">\n",
       "      <th></th>\n",
       "      <th>Value</th>\n",
       "    </tr>\n",
       "    <tr>\n",
       "      <th>Category</th>\n",
       "      <th></th>\n",
       "    </tr>\n",
       "  </thead>\n",
       "  <tbody>\n",
       "    <tr>\n",
       "      <th>A</th>\n",
       "      <td>60</td>\n",
       "    </tr>\n",
       "    <tr>\n",
       "      <th>B</th>\n",
       "      <td>40</td>\n",
       "    </tr>\n",
       "  </tbody>\n",
       "</table>\n",
       "</div>"
      ],
      "text/plain": [
       "          Value\n",
       "Category       \n",
       "A            60\n",
       "B            40"
      ]
     },
     "execution_count": 2,
     "metadata": {},
     "output_type": "execute_result"
    }
   ],
   "source": [
    "df.groupby('Category').agg({'Value':'sum'})"
   ]
  },
  {
   "cell_type": "markdown",
   "id": "905a2af7",
   "metadata": {},
   "source": [
    "### Mean Aggregation\n",
    "\n",
    "Calculate the average value for each category:"
   ]
  },
  {
   "cell_type": "code",
   "execution_count": 3,
   "id": "f47c5c9a",
   "metadata": {},
   "outputs": [
    {
     "data": {
      "text/html": [
       "<div>\n",
       "<style scoped>\n",
       "    .dataframe tbody tr th:only-of-type {\n",
       "        vertical-align: middle;\n",
       "    }\n",
       "\n",
       "    .dataframe tbody tr th {\n",
       "        vertical-align: top;\n",
       "    }\n",
       "\n",
       "    .dataframe thead th {\n",
       "        text-align: right;\n",
       "    }\n",
       "</style>\n",
       "<table border=\"1\" class=\"dataframe\">\n",
       "  <thead>\n",
       "    <tr style=\"text-align: right;\">\n",
       "      <th></th>\n",
       "      <th>Value</th>\n",
       "    </tr>\n",
       "    <tr>\n",
       "      <th>Category</th>\n",
       "      <th></th>\n",
       "    </tr>\n",
       "  </thead>\n",
       "  <tbody>\n",
       "    <tr>\n",
       "      <th>A</th>\n",
       "      <td>20.0</td>\n",
       "    </tr>\n",
       "    <tr>\n",
       "      <th>B</th>\n",
       "      <td>20.0</td>\n",
       "    </tr>\n",
       "  </tbody>\n",
       "</table>\n",
       "</div>"
      ],
      "text/plain": [
       "          Value\n",
       "Category       \n",
       "A          20.0\n",
       "B          20.0"
      ]
     },
     "execution_count": 3,
     "metadata": {},
     "output_type": "execute_result"
    }
   ],
   "source": [
    "df.groupby('Category').agg({'Value':'mean'})"
   ]
  },
  {
   "cell_type": "markdown",
   "id": "c287f58a",
   "metadata": {},
   "source": [
    "### Maximum Value Aggregation\n",
    "\n",
    "Find the highest value in each category:"
   ]
  },
  {
   "cell_type": "code",
   "execution_count": 4,
   "id": "7f9907da",
   "metadata": {},
   "outputs": [
    {
     "data": {
      "text/html": [
       "<div>\n",
       "<style scoped>\n",
       "    .dataframe tbody tr th:only-of-type {\n",
       "        vertical-align: middle;\n",
       "    }\n",
       "\n",
       "    .dataframe tbody tr th {\n",
       "        vertical-align: top;\n",
       "    }\n",
       "\n",
       "    .dataframe thead th {\n",
       "        text-align: right;\n",
       "    }\n",
       "</style>\n",
       "<table border=\"1\" class=\"dataframe\">\n",
       "  <thead>\n",
       "    <tr style=\"text-align: right;\">\n",
       "      <th></th>\n",
       "      <th>Value</th>\n",
       "    </tr>\n",
       "    <tr>\n",
       "      <th>Category</th>\n",
       "      <th></th>\n",
       "    </tr>\n",
       "  </thead>\n",
       "  <tbody>\n",
       "    <tr>\n",
       "      <th>A</th>\n",
       "      <td>30</td>\n",
       "    </tr>\n",
       "    <tr>\n",
       "      <th>B</th>\n",
       "      <td>25</td>\n",
       "    </tr>\n",
       "  </tbody>\n",
       "</table>\n",
       "</div>"
      ],
      "text/plain": [
       "          Value\n",
       "Category       \n",
       "A            30\n",
       "B            25"
      ]
     },
     "execution_count": 4,
     "metadata": {},
     "output_type": "execute_result"
    }
   ],
   "source": [
    "df.groupby('Category').agg({'Value':'max'})"
   ]
  },
  {
   "cell_type": "markdown",
   "id": "c51cb9ac",
   "metadata": {},
   "source": [
    "## 3. Custom Aggregation Functions\n",
    "\n",
    "Sometimes built-in functions aren't enough. Pandas allows you to create custom aggregation functions using lambda expressions or named functions.\n",
    "\n",
    "### Lambda Functions for Custom Aggregation\n",
    "\n",
    "Create a lambda function to calculate the range (max - min) for each category:"
   ]
  },
  {
   "cell_type": "code",
   "execution_count": 5,
   "id": "63b2256b",
   "metadata": {},
   "outputs": [],
   "source": [
    "custom_agg = lambda x: x.max() - x.min() "
   ]
  },
  {
   "cell_type": "code",
   "execution_count": 6,
   "id": "e688f274",
   "metadata": {},
   "outputs": [
    {
     "data": {
      "text/html": [
       "<div>\n",
       "<style scoped>\n",
       "    .dataframe tbody tr th:only-of-type {\n",
       "        vertical-align: middle;\n",
       "    }\n",
       "\n",
       "    .dataframe tbody tr th {\n",
       "        vertical-align: top;\n",
       "    }\n",
       "\n",
       "    .dataframe thead th {\n",
       "        text-align: right;\n",
       "    }\n",
       "</style>\n",
       "<table border=\"1\" class=\"dataframe\">\n",
       "  <thead>\n",
       "    <tr style=\"text-align: right;\">\n",
       "      <th></th>\n",
       "      <th>Category</th>\n",
       "      <th>Value</th>\n",
       "    </tr>\n",
       "  </thead>\n",
       "  <tbody>\n",
       "    <tr>\n",
       "      <th>0</th>\n",
       "      <td>A</td>\n",
       "      <td>10</td>\n",
       "    </tr>\n",
       "    <tr>\n",
       "      <th>1</th>\n",
       "      <td>B</td>\n",
       "      <td>15</td>\n",
       "    </tr>\n",
       "    <tr>\n",
       "      <th>2</th>\n",
       "      <td>A</td>\n",
       "      <td>20</td>\n",
       "    </tr>\n",
       "    <tr>\n",
       "      <th>3</th>\n",
       "      <td>B</td>\n",
       "      <td>25</td>\n",
       "    </tr>\n",
       "    <tr>\n",
       "      <th>4</th>\n",
       "      <td>A</td>\n",
       "      <td>30</td>\n",
       "    </tr>\n",
       "  </tbody>\n",
       "</table>\n",
       "</div>"
      ],
      "text/plain": [
       "  Category  Value\n",
       "0        A     10\n",
       "1        B     15\n",
       "2        A     20\n",
       "3        B     25\n",
       "4        A     30"
      ]
     },
     "execution_count": 6,
     "metadata": {},
     "output_type": "execute_result"
    }
   ],
   "source": [
    "df"
   ]
  },
  {
   "cell_type": "code",
   "execution_count": 7,
   "id": "041fdf21",
   "metadata": {},
   "outputs": [
    {
     "data": {
      "text/html": [
       "<div>\n",
       "<style scoped>\n",
       "    .dataframe tbody tr th:only-of-type {\n",
       "        vertical-align: middle;\n",
       "    }\n",
       "\n",
       "    .dataframe tbody tr th {\n",
       "        vertical-align: top;\n",
       "    }\n",
       "\n",
       "    .dataframe thead th {\n",
       "        text-align: right;\n",
       "    }\n",
       "</style>\n",
       "<table border=\"1\" class=\"dataframe\">\n",
       "  <thead>\n",
       "    <tr style=\"text-align: right;\">\n",
       "      <th></th>\n",
       "      <th>Value</th>\n",
       "    </tr>\n",
       "    <tr>\n",
       "      <th>Category</th>\n",
       "      <th></th>\n",
       "    </tr>\n",
       "  </thead>\n",
       "  <tbody>\n",
       "    <tr>\n",
       "      <th>A</th>\n",
       "      <td>20</td>\n",
       "    </tr>\n",
       "    <tr>\n",
       "      <th>B</th>\n",
       "      <td>10</td>\n",
       "    </tr>\n",
       "  </tbody>\n",
       "</table>\n",
       "</div>"
      ],
      "text/plain": [
       "          Value\n",
       "Category       \n",
       "A            20\n",
       "B            10"
      ]
     },
     "execution_count": 7,
     "metadata": {},
     "output_type": "execute_result"
    }
   ],
   "source": [
    "df.groupby('Category').agg(custom_agg)\n",
    "# or\n",
    "df.groupby('Category').agg({'Value': custom_agg})"
   ]
  },
  {
   "cell_type": "markdown",
   "id": "d32d7502",
   "metadata": {},
   "source": [
    "## 4. Multiple Aggregations\n",
    "\n",
    "You can apply multiple aggregation functions at once to get comprehensive statistics for each group.\n",
    "\n",
    "### Applying Multiple Built-in Functions\n",
    "\n",
    "Calculate count, sum, min, max, and mean for each category:"
   ]
  },
  {
   "cell_type": "code",
   "execution_count": 8,
   "id": "720aacbf",
   "metadata": {},
   "outputs": [
    {
     "data": {
      "text/html": [
       "<div>\n",
       "<style scoped>\n",
       "    .dataframe tbody tr th:only-of-type {\n",
       "        vertical-align: middle;\n",
       "    }\n",
       "\n",
       "    .dataframe tbody tr th {\n",
       "        vertical-align: top;\n",
       "    }\n",
       "\n",
       "    .dataframe thead th {\n",
       "        text-align: right;\n",
       "    }\n",
       "</style>\n",
       "<table border=\"1\" class=\"dataframe\">\n",
       "  <thead>\n",
       "    <tr style=\"text-align: right;\">\n",
       "      <th></th>\n",
       "      <th>count</th>\n",
       "      <th>sum</th>\n",
       "      <th>min</th>\n",
       "      <th>max</th>\n",
       "      <th>mean</th>\n",
       "    </tr>\n",
       "    <tr>\n",
       "      <th>Category</th>\n",
       "      <th></th>\n",
       "      <th></th>\n",
       "      <th></th>\n",
       "      <th></th>\n",
       "      <th></th>\n",
       "    </tr>\n",
       "  </thead>\n",
       "  <tbody>\n",
       "    <tr>\n",
       "      <th>A</th>\n",
       "      <td>3</td>\n",
       "      <td>60</td>\n",
       "      <td>10</td>\n",
       "      <td>30</td>\n",
       "      <td>20.0</td>\n",
       "    </tr>\n",
       "    <tr>\n",
       "      <th>B</th>\n",
       "      <td>2</td>\n",
       "      <td>40</td>\n",
       "      <td>15</td>\n",
       "      <td>25</td>\n",
       "      <td>20.0</td>\n",
       "    </tr>\n",
       "  </tbody>\n",
       "</table>\n",
       "</div>"
      ],
      "text/plain": [
       "          count  sum  min  max  mean\n",
       "Category                            \n",
       "A             3   60   10   30  20.0\n",
       "B             2   40   15   25  20.0"
      ]
     },
     "execution_count": 8,
     "metadata": {},
     "output_type": "execute_result"
    }
   ],
   "source": [
    "df.groupby('Category')['Value'].agg(['count', 'sum', 'min', 'max','mean'])"
   ]
  },
  {
   "cell_type": "markdown",
   "id": "5b4c8938",
   "metadata": {},
   "source": [
    "## 5. Named Custom Functions\n",
    "\n",
    "For more complex logic, you can define named functions and use them in aggregations.\n",
    "\n",
    "### Creating a Custom Mean Function\n",
    "\n",
    "Define a function to calculate mean (demonstrating how custom functions work):"
   ]
  },
  {
   "cell_type": "code",
   "execution_count": 13,
   "id": "fb45f4c1",
   "metadata": {},
   "outputs": [
    {
     "data": {
      "text/plain": [
       "Category\n",
       "A    20.0\n",
       "B    20.0\n",
       "Name: Value, dtype: float64"
      ]
     },
     "execution_count": 13,
     "metadata": {},
     "output_type": "execute_result"
    }
   ],
   "source": [
    "def custom_mean(values):\n",
    "    return sum(values) / len(values)\n",
    "\n",
    "df.groupby('Category')['Value'].agg(custom_mean)"
   ]
  },
  {
   "cell_type": "markdown",
   "id": "60fd8c57",
   "metadata": {},
   "source": [
    "## Summary\n",
    "\n",
    "Data aggregation is a powerful tool for summarizing and analyzing grouped data. In this notebook, you learned:\n",
    "\n",
    "### 🔧 **Built-in Functions**\n",
    "- `sum`, `mean`, `max`: Standard statistical aggregations\n",
    "- Dictionary syntax: `agg({'column': 'function'})`\n",
    "- Multiple functions: `agg(['func1', 'func2'])`\n",
    "\n",
    "### 🎯 **Custom Functions**\n",
    "- **Lambda functions**: Quick, inline custom logic\n",
    "- **Named functions**: Complex logic with reusable functions\n",
    "- **Flexible application**: Apply to specific columns or entire groups\n",
    "\n",
    "### 💡 **Key Concepts**\n",
    "1. **Dictionary Aggregation**: Specify different functions for different columns\n",
    "2. **List Aggregation**: Apply multiple functions to the same column\n",
    "3. **Custom Logic**: Create domain-specific aggregations\n",
    "\n",
    "### 🚀 **Best Practices**\n",
    "- Use built-in functions when possible (more efficient)\n",
    "- Lambda functions for simple custom logic\n",
    "- Named functions for complex, reusable operations\n",
    "- Choose appropriate aggregations based on your data and analysis goals\n",
    "\n",
    "### 📊 **Next Steps**\n",
    "- Explore groupby with multiple columns\n",
    "- Learn about transformation and filtering operations\n",
    "- Practice with real datasets to create meaningful aggregations\n",
    "\n",
    "Mastering aggregation functions will significantly enhance your data analysis capabilities! 🎯📈"
   ]
  }
 ],
 "metadata": {
  "kernelspec": {
   "display_name": "base",
   "language": "python",
   "name": "python3"
  },
  "language_info": {
   "codemirror_mode": {
    "name": "ipython",
    "version": 3
   },
   "file_extension": ".py",
   "mimetype": "text/x-python",
   "name": "python",
   "nbconvert_exporter": "python",
   "pygments_lexer": "ipython3",
   "version": "3.13.5"
  }
 },
 "nbformat": 4,
 "nbformat_minor": 5
}
