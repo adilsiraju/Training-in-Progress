{
 "cells": [
  {
   "cell_type": "markdown",
   "id": "c15b3b5c",
   "metadata": {},
   "source": [
    "---\n",
    "title: \"Pandas: Advanced Techniques for Conditional Filtering and Querying\"\n",
    "author: \"Mohammed Adil Siraju\"\n",
    "date: \"2025-09-16\"\n",
    "categories: [pandas, dataframe, filtering, querying, data-manipulation]\n",
    "description: \"Master advanced pandas techniques for conditional filtering, boolean indexing, query methods, sorting, and ranking data. Learn efficient data manipulation strategies with practical examples.\"\n",
    "---\n",
    "\n",
    "# Pandas: Advanced Conditional Filtering and Querying Techniques\n",
    "\n",
    "Welcome to this comprehensive guide on advanced pandas techniques for data filtering and querying! This notebook covers essential skills for working with pandas DataFrames, including conditional filtering, boolean indexing, query methods, sorting, and ranking operations.\n",
    "\n",
    "## 📋 What You'll Learn\n",
    "\n",
    "- **Conditional Filtering**: Using boolean indexing to filter data based on conditions\n",
    "- **Query Method**: Writing SQL-like queries on pandas DataFrames  \n",
    "- **Sorting Techniques**: Multi-column sorting and custom sort orders\n",
    "- **Ranking Methods**: Different ranking strategies for data analysis\n",
    "- **Best Practices**: Efficient data manipulation patterns\n",
    "\n",
    "## 🎯 Prerequisites\n",
    "\n",
    "- Basic pandas knowledge\n",
    "- Understanding of Python data structures\n",
    "- Familiarity with DataFrame operations\n",
    "\n",
    "Let's dive into the advanced filtering techniques!"
   ]
  },
  {
   "cell_type": "code",
   "execution_count": 1,
   "id": "59809425",
   "metadata": {},
   "outputs": [],
   "source": [
    "import pandas as pd"
   ]
  },
  {
   "cell_type": "markdown",
   "id": "de91c538",
   "metadata": {},
   "source": [
    "## 📊 Setup and Data Loading\n",
    "\n",
    "First, let's import pandas and load our sample dataset to work with."
   ]
  },
  {
   "cell_type": "code",
   "execution_count": 2,
   "id": "9d92ad4b",
   "metadata": {},
   "outputs": [
    {
     "data": {
      "text/html": [
       "<div>\n",
       "<style scoped>\n",
       "    .dataframe tbody tr th:only-of-type {\n",
       "        vertical-align: middle;\n",
       "    }\n",
       "\n",
       "    .dataframe tbody tr th {\n",
       "        vertical-align: top;\n",
       "    }\n",
       "\n",
       "    .dataframe thead th {\n",
       "        text-align: right;\n",
       "    }\n",
       "</style>\n",
       "<table border=\"1\" class=\"dataframe\">\n",
       "  <thead>\n",
       "    <tr style=\"text-align: right;\">\n",
       "      <th></th>\n",
       "      <th>Name</th>\n",
       "      <th>Age</th>\n",
       "      <th>City</th>\n",
       "    </tr>\n",
       "  </thead>\n",
       "  <tbody>\n",
       "    <tr>\n",
       "      <th>0</th>\n",
       "      <td>Adil</td>\n",
       "      <td>23</td>\n",
       "      <td>Matannur</td>\n",
       "    </tr>\n",
       "    <tr>\n",
       "      <th>1</th>\n",
       "      <td>Aman</td>\n",
       "      <td>19</td>\n",
       "      <td>Vellore</td>\n",
       "    </tr>\n",
       "    <tr>\n",
       "      <th>2</th>\n",
       "      <td>Ziya</td>\n",
       "      <td>15</td>\n",
       "      <td>Tly</td>\n",
       "    </tr>\n",
       "    <tr>\n",
       "      <th>3</th>\n",
       "      <td>Zahra</td>\n",
       "      <td>9</td>\n",
       "      <td>Knr</td>\n",
       "    </tr>\n",
       "  </tbody>\n",
       "</table>\n",
       "</div>"
      ],
      "text/plain": [
       "    Name  Age      City\n",
       "0   Adil   23  Matannur\n",
       "1   Aman   19   Vellore\n",
       "2   Ziya   15       Tly\n",
       "3  Zahra    9       Knr"
      ]
     },
     "execution_count": 2,
     "metadata": {},
     "output_type": "execute_result"
    }
   ],
   "source": [
    "df = pd.read_csv('example.csv')\n",
    "df"
   ]
  },
  {
   "cell_type": "markdown",
   "id": "4e45c9e3",
   "metadata": {},
   "source": [
    "## 🔍 Conditional Filtering with Boolean Indexing\n",
    "\n",
    "Boolean indexing allows you to filter DataFrames based on conditions. This is one of the most powerful features of pandas for data manipulation.\n",
    "\n",
    "### Basic Boolean Filtering\n",
    "\n",
    "Let's start with simple conditional filtering using comparison operators."
   ]
  },
  {
   "cell_type": "code",
   "execution_count": 3,
   "id": "94e88238",
   "metadata": {},
   "outputs": [
    {
     "data": {
      "text/html": [
       "<div>\n",
       "<style scoped>\n",
       "    .dataframe tbody tr th:only-of-type {\n",
       "        vertical-align: middle;\n",
       "    }\n",
       "\n",
       "    .dataframe tbody tr th {\n",
       "        vertical-align: top;\n",
       "    }\n",
       "\n",
       "    .dataframe thead th {\n",
       "        text-align: right;\n",
       "    }\n",
       "</style>\n",
       "<table border=\"1\" class=\"dataframe\">\n",
       "  <thead>\n",
       "    <tr style=\"text-align: right;\">\n",
       "      <th></th>\n",
       "      <th>Name</th>\n",
       "      <th>Age</th>\n",
       "      <th>City</th>\n",
       "    </tr>\n",
       "  </thead>\n",
       "  <tbody>\n",
       "    <tr>\n",
       "      <th>1</th>\n",
       "      <td>Aman</td>\n",
       "      <td>19</td>\n",
       "      <td>Vellore</td>\n",
       "    </tr>\n",
       "    <tr>\n",
       "      <th>2</th>\n",
       "      <td>Ziya</td>\n",
       "      <td>15</td>\n",
       "      <td>Tly</td>\n",
       "    </tr>\n",
       "    <tr>\n",
       "      <th>3</th>\n",
       "      <td>Zahra</td>\n",
       "      <td>9</td>\n",
       "      <td>Knr</td>\n",
       "    </tr>\n",
       "  </tbody>\n",
       "</table>\n",
       "</div>"
      ],
      "text/plain": [
       "    Name  Age     City\n",
       "1   Aman   19  Vellore\n",
       "2   Ziya   15      Tly\n",
       "3  Zahra    9      Knr"
      ]
     },
     "execution_count": 3,
     "metadata": {},
     "output_type": "execute_result"
    }
   ],
   "source": [
    "df[df['Age'] < 20]"
   ]
  },
  {
   "cell_type": "markdown",
   "id": "d642eb08",
   "metadata": {},
   "source": [
    "### Simple Condition: Filter by Age\n",
    "\n",
    "Filter rows where Age is less than 20:"
   ]
  },
  {
   "cell_type": "code",
   "execution_count": 5,
   "id": "cf06a0c8",
   "metadata": {},
   "outputs": [
    {
     "data": {
      "text/html": [
       "<div>\n",
       "<style scoped>\n",
       "    .dataframe tbody tr th:only-of-type {\n",
       "        vertical-align: middle;\n",
       "    }\n",
       "\n",
       "    .dataframe tbody tr th {\n",
       "        vertical-align: top;\n",
       "    }\n",
       "\n",
       "    .dataframe thead th {\n",
       "        text-align: right;\n",
       "    }\n",
       "</style>\n",
       "<table border=\"1\" class=\"dataframe\">\n",
       "  <thead>\n",
       "    <tr style=\"text-align: right;\">\n",
       "      <th></th>\n",
       "      <th>Name</th>\n",
       "      <th>Age</th>\n",
       "      <th>City</th>\n",
       "    </tr>\n",
       "  </thead>\n",
       "  <tbody>\n",
       "    <tr>\n",
       "      <th>1</th>\n",
       "      <td>Aman</td>\n",
       "      <td>19</td>\n",
       "      <td>Vellore</td>\n",
       "    </tr>\n",
       "    <tr>\n",
       "      <th>2</th>\n",
       "      <td>Ziya</td>\n",
       "      <td>15</td>\n",
       "      <td>Tly</td>\n",
       "    </tr>\n",
       "    <tr>\n",
       "      <th>3</th>\n",
       "      <td>Zahra</td>\n",
       "      <td>9</td>\n",
       "      <td>Knr</td>\n",
       "    </tr>\n",
       "  </tbody>\n",
       "</table>\n",
       "</div>"
      ],
      "text/plain": [
       "    Name  Age     City\n",
       "1   Aman   19  Vellore\n",
       "2   Ziya   15      Tly\n",
       "3  Zahra    9      Knr"
      ]
     },
     "execution_count": 5,
     "metadata": {},
     "output_type": "execute_result"
    }
   ],
   "source": [
    "df[(df['City']=='Vellore') | (df['Age']<20)]"
   ]
  },
  {
   "cell_type": "markdown",
   "id": "9d108719",
   "metadata": {},
   "source": [
    "### OR Condition: Multiple Criteria (Either condition true)\n",
    "\n",
    "Filter rows where City is 'Vellore' OR Age is less than 20:"
   ]
  },
  {
   "cell_type": "code",
   "execution_count": 6,
   "id": "e7e81311",
   "metadata": {},
   "outputs": [
    {
     "data": {
      "text/html": [
       "<div>\n",
       "<style scoped>\n",
       "    .dataframe tbody tr th:only-of-type {\n",
       "        vertical-align: middle;\n",
       "    }\n",
       "\n",
       "    .dataframe tbody tr th {\n",
       "        vertical-align: top;\n",
       "    }\n",
       "\n",
       "    .dataframe thead th {\n",
       "        text-align: right;\n",
       "    }\n",
       "</style>\n",
       "<table border=\"1\" class=\"dataframe\">\n",
       "  <thead>\n",
       "    <tr style=\"text-align: right;\">\n",
       "      <th></th>\n",
       "      <th>Name</th>\n",
       "      <th>Age</th>\n",
       "      <th>City</th>\n",
       "    </tr>\n",
       "  </thead>\n",
       "  <tbody>\n",
       "    <tr>\n",
       "      <th>1</th>\n",
       "      <td>Aman</td>\n",
       "      <td>19</td>\n",
       "      <td>Vellore</td>\n",
       "    </tr>\n",
       "  </tbody>\n",
       "</table>\n",
       "</div>"
      ],
      "text/plain": [
       "   Name  Age     City\n",
       "1  Aman   19  Vellore"
      ]
     },
     "execution_count": 6,
     "metadata": {},
     "output_type": "execute_result"
    }
   ],
   "source": [
    "df[(df['City']=='Vellore') & (df['Age']<20)]"
   ]
  },
  {
   "cell_type": "markdown",
   "id": "3a731f98",
   "metadata": {},
   "source": [
    "### AND Condition: Multiple Criteria (All conditions true)\n",
    "\n",
    "Filter rows where City is 'Vellore' AND Age is less than 20:"
   ]
  },
  {
   "cell_type": "code",
   "execution_count": 8,
   "id": "fbb1355e",
   "metadata": {},
   "outputs": [
    {
     "data": {
      "text/html": [
       "<div>\n",
       "<style scoped>\n",
       "    .dataframe tbody tr th:only-of-type {\n",
       "        vertical-align: middle;\n",
       "    }\n",
       "\n",
       "    .dataframe tbody tr th {\n",
       "        vertical-align: top;\n",
       "    }\n",
       "\n",
       "    .dataframe thead th {\n",
       "        text-align: right;\n",
       "    }\n",
       "</style>\n",
       "<table border=\"1\" class=\"dataframe\">\n",
       "  <thead>\n",
       "    <tr style=\"text-align: right;\">\n",
       "      <th></th>\n",
       "      <th>Name</th>\n",
       "      <th>Age</th>\n",
       "      <th>City</th>\n",
       "    </tr>\n",
       "  </thead>\n",
       "  <tbody>\n",
       "    <tr>\n",
       "      <th>0</th>\n",
       "      <td>Adil</td>\n",
       "      <td>23</td>\n",
       "      <td>Matannur</td>\n",
       "    </tr>\n",
       "    <tr>\n",
       "      <th>1</th>\n",
       "      <td>Aman</td>\n",
       "      <td>19</td>\n",
       "      <td>Vellore</td>\n",
       "    </tr>\n",
       "    <tr>\n",
       "      <th>2</th>\n",
       "      <td>Ziya</td>\n",
       "      <td>15</td>\n",
       "      <td>Tly</td>\n",
       "    </tr>\n",
       "  </tbody>\n",
       "</table>\n",
       "</div>"
      ],
      "text/plain": [
       "   Name  Age      City\n",
       "0  Adil   23  Matannur\n",
       "1  Aman   19   Vellore\n",
       "2  Ziya   15       Tly"
      ]
     },
     "execution_count": 8,
     "metadata": {},
     "output_type": "execute_result"
    }
   ],
   "source": [
    "df.query('Age > 10')"
   ]
  },
  {
   "cell_type": "markdown",
   "id": "28707e0a",
   "metadata": {},
   "source": [
    "## 🔎 Query Method: SQL-like Filtering\n",
    "\n",
    "The `.query()` method provides a more readable way to filter DataFrames using SQL-like syntax. It's often cleaner than boolean indexing for complex conditions.\n",
    "\n",
    "### Basic Query Syntax\n",
    "\n",
    "Query rows where Age is greater than 10:"
   ]
  },
  {
   "cell_type": "code",
   "execution_count": 12,
   "id": "28c01b4a",
   "metadata": {},
   "outputs": [
    {
     "data": {
      "text/html": [
       "<div>\n",
       "<style scoped>\n",
       "    .dataframe tbody tr th:only-of-type {\n",
       "        vertical-align: middle;\n",
       "    }\n",
       "\n",
       "    .dataframe tbody tr th {\n",
       "        vertical-align: top;\n",
       "    }\n",
       "\n",
       "    .dataframe thead th {\n",
       "        text-align: right;\n",
       "    }\n",
       "</style>\n",
       "<table border=\"1\" class=\"dataframe\">\n",
       "  <thead>\n",
       "    <tr style=\"text-align: right;\">\n",
       "      <th></th>\n",
       "      <th>Name</th>\n",
       "      <th>Age</th>\n",
       "      <th>City</th>\n",
       "    </tr>\n",
       "  </thead>\n",
       "  <tbody>\n",
       "    <tr>\n",
       "      <th>0</th>\n",
       "      <td>Adil</td>\n",
       "      <td>23</td>\n",
       "      <td>Matannur</td>\n",
       "    </tr>\n",
       "  </tbody>\n",
       "</table>\n",
       "</div>"
      ],
      "text/plain": [
       "   Name  Age      City\n",
       "0  Adil   23  Matannur"
      ]
     },
     "execution_count": 12,
     "metadata": {},
     "output_type": "execute_result"
    }
   ],
   "source": [
    "df.query(\"Age > 10 and City == 'Matannur'\")"
   ]
  },
  {
   "cell_type": "markdown",
   "id": "1783a6d0",
   "metadata": {},
   "source": [
    "### Query with AND Condition\n",
    "\n",
    "Query rows where Age > 10 AND City equals 'Matannur':"
   ]
  },
  {
   "cell_type": "code",
   "execution_count": 15,
   "id": "474cc035",
   "metadata": {},
   "outputs": [
    {
     "data": {
      "text/html": [
       "<div>\n",
       "<style scoped>\n",
       "    .dataframe tbody tr th:only-of-type {\n",
       "        vertical-align: middle;\n",
       "    }\n",
       "\n",
       "    .dataframe tbody tr th {\n",
       "        vertical-align: top;\n",
       "    }\n",
       "\n",
       "    .dataframe thead th {\n",
       "        text-align: right;\n",
       "    }\n",
       "</style>\n",
       "<table border=\"1\" class=\"dataframe\">\n",
       "  <thead>\n",
       "    <tr style=\"text-align: right;\">\n",
       "      <th></th>\n",
       "      <th>Name</th>\n",
       "      <th>Age</th>\n",
       "      <th>City</th>\n",
       "    </tr>\n",
       "  </thead>\n",
       "  <tbody>\n",
       "    <tr>\n",
       "      <th>0</th>\n",
       "      <td>Adil</td>\n",
       "      <td>23</td>\n",
       "      <td>Matannur</td>\n",
       "    </tr>\n",
       "    <tr>\n",
       "      <th>2</th>\n",
       "      <td>Ziya</td>\n",
       "      <td>15</td>\n",
       "      <td>Tly</td>\n",
       "    </tr>\n",
       "    <tr>\n",
       "      <th>3</th>\n",
       "      <td>Zahra</td>\n",
       "      <td>9</td>\n",
       "      <td>Knr</td>\n",
       "    </tr>\n",
       "  </tbody>\n",
       "</table>\n",
       "</div>"
      ],
      "text/plain": [
       "    Name  Age      City\n",
       "0   Adil   23  Matannur\n",
       "2   Ziya   15       Tly\n",
       "3  Zahra    9       Knr"
      ]
     },
     "execution_count": 15,
     "metadata": {},
     "output_type": "execute_result"
    }
   ],
   "source": [
    "df.query(\"Age < 18 or City == 'Matannur'\")"
   ]
  },
  {
   "cell_type": "markdown",
   "id": "53fb611d",
   "metadata": {},
   "source": [
    "### Query with OR Condition\n",
    "\n",
    "Query rows where Age < 18 OR City equals 'Matannur':"
   ]
  },
  {
   "cell_type": "code",
   "execution_count": 20,
   "id": "f4f574b9",
   "metadata": {},
   "outputs": [
    {
     "data": {
      "text/html": [
       "<div>\n",
       "<style scoped>\n",
       "    .dataframe tbody tr th:only-of-type {\n",
       "        vertical-align: middle;\n",
       "    }\n",
       "\n",
       "    .dataframe tbody tr th {\n",
       "        vertical-align: top;\n",
       "    }\n",
       "\n",
       "    .dataframe thead th {\n",
       "        text-align: right;\n",
       "    }\n",
       "</style>\n",
       "<table border=\"1\" class=\"dataframe\">\n",
       "  <thead>\n",
       "    <tr style=\"text-align: right;\">\n",
       "      <th></th>\n",
       "      <th>Name</th>\n",
       "      <th>Age</th>\n",
       "      <th>City</th>\n",
       "    </tr>\n",
       "  </thead>\n",
       "  <tbody>\n",
       "    <tr>\n",
       "      <th>0</th>\n",
       "      <td>Adil</td>\n",
       "      <td>23</td>\n",
       "      <td>Matannur</td>\n",
       "    </tr>\n",
       "    <tr>\n",
       "      <th>1</th>\n",
       "      <td>Aman</td>\n",
       "      <td>19</td>\n",
       "      <td>Vellore</td>\n",
       "    </tr>\n",
       "  </tbody>\n",
       "</table>\n",
       "</div>"
      ],
      "text/plain": [
       "   Name  Age      City\n",
       "0  Adil   23  Matannur\n",
       "1  Aman   19   Vellore"
      ]
     },
     "execution_count": 20,
     "metadata": {},
     "output_type": "execute_result"
    }
   ],
   "source": [
    "df.query(\"Age * 2 > 30\")"
   ]
  },
  {
   "cell_type": "markdown",
   "id": "dfdde70e",
   "metadata": {},
   "source": [
    "### Query with Mathematical Operations\n",
    "\n",
    "Query with mathematical expressions - rows where Age * 2 > 30:"
   ]
  },
  {
   "cell_type": "markdown",
   "id": "1ea302a8",
   "metadata": {},
   "source": [
    "## 🔄 Sorting Data\n",
    "\n",
    "Sorting is essential for data analysis. Pandas provides flexible sorting capabilities for both single and multiple columns.\n",
    "\n",
    "### Basic Sorting by Single Column\n",
    "\n",
    "Sort by Age in descending order:"
   ]
  },
  {
   "cell_type": "code",
   "execution_count": 21,
   "id": "b648b336",
   "metadata": {},
   "outputs": [
    {
     "data": {
      "text/html": [
       "<div>\n",
       "<style scoped>\n",
       "    .dataframe tbody tr th:only-of-type {\n",
       "        vertical-align: middle;\n",
       "    }\n",
       "\n",
       "    .dataframe tbody tr th {\n",
       "        vertical-align: top;\n",
       "    }\n",
       "\n",
       "    .dataframe thead th {\n",
       "        text-align: right;\n",
       "    }\n",
       "</style>\n",
       "<table border=\"1\" class=\"dataframe\">\n",
       "  <thead>\n",
       "    <tr style=\"text-align: right;\">\n",
       "      <th></th>\n",
       "      <th>Name</th>\n",
       "      <th>Age</th>\n",
       "      <th>City</th>\n",
       "    </tr>\n",
       "  </thead>\n",
       "  <tbody>\n",
       "    <tr>\n",
       "      <th>0</th>\n",
       "      <td>Adil</td>\n",
       "      <td>23</td>\n",
       "      <td>Matannur</td>\n",
       "    </tr>\n",
       "    <tr>\n",
       "      <th>1</th>\n",
       "      <td>Aman</td>\n",
       "      <td>19</td>\n",
       "      <td>Vellore</td>\n",
       "    </tr>\n",
       "    <tr>\n",
       "      <th>2</th>\n",
       "      <td>Ziya</td>\n",
       "      <td>15</td>\n",
       "      <td>Tly</td>\n",
       "    </tr>\n",
       "    <tr>\n",
       "      <th>3</th>\n",
       "      <td>Zahra</td>\n",
       "      <td>9</td>\n",
       "      <td>Knr</td>\n",
       "    </tr>\n",
       "  </tbody>\n",
       "</table>\n",
       "</div>"
      ],
      "text/plain": [
       "    Name  Age      City\n",
       "0   Adil   23  Matannur\n",
       "1   Aman   19   Vellore\n",
       "2   Ziya   15       Tly\n",
       "3  Zahra    9       Knr"
      ]
     },
     "execution_count": 21,
     "metadata": {},
     "output_type": "execute_result"
    }
   ],
   "source": [
    "df"
   ]
  },
  {
   "cell_type": "code",
   "execution_count": 23,
   "id": "543c1bb8",
   "metadata": {},
   "outputs": [
    {
     "data": {
      "text/html": [
       "<div>\n",
       "<style scoped>\n",
       "    .dataframe tbody tr th:only-of-type {\n",
       "        vertical-align: middle;\n",
       "    }\n",
       "\n",
       "    .dataframe tbody tr th {\n",
       "        vertical-align: top;\n",
       "    }\n",
       "\n",
       "    .dataframe thead th {\n",
       "        text-align: right;\n",
       "    }\n",
       "</style>\n",
       "<table border=\"1\" class=\"dataframe\">\n",
       "  <thead>\n",
       "    <tr style=\"text-align: right;\">\n",
       "      <th></th>\n",
       "      <th>Name</th>\n",
       "      <th>Age</th>\n",
       "      <th>City</th>\n",
       "    </tr>\n",
       "  </thead>\n",
       "  <tbody>\n",
       "    <tr>\n",
       "      <th>0</th>\n",
       "      <td>Adil</td>\n",
       "      <td>23</td>\n",
       "      <td>Matannur</td>\n",
       "    </tr>\n",
       "    <tr>\n",
       "      <th>1</th>\n",
       "      <td>Aman</td>\n",
       "      <td>19</td>\n",
       "      <td>Vellore</td>\n",
       "    </tr>\n",
       "    <tr>\n",
       "      <th>2</th>\n",
       "      <td>Ziya</td>\n",
       "      <td>15</td>\n",
       "      <td>Tly</td>\n",
       "    </tr>\n",
       "    <tr>\n",
       "      <th>3</th>\n",
       "      <td>Zahra</td>\n",
       "      <td>9</td>\n",
       "      <td>Knr</td>\n",
       "    </tr>\n",
       "  </tbody>\n",
       "</table>\n",
       "</div>"
      ],
      "text/plain": [
       "    Name  Age      City\n",
       "0   Adil   23  Matannur\n",
       "1   Aman   19   Vellore\n",
       "2   Ziya   15       Tly\n",
       "3  Zahra    9       Knr"
      ]
     },
     "execution_count": 23,
     "metadata": {},
     "output_type": "execute_result"
    }
   ],
   "source": [
    "df.sort_values('Age',ascending=False)"
   ]
  },
  {
   "cell_type": "code",
   "execution_count": 26,
   "id": "82c0816c",
   "metadata": {},
   "outputs": [
    {
     "data": {
      "text/html": [
       "<div>\n",
       "<style scoped>\n",
       "    .dataframe tbody tr th:only-of-type {\n",
       "        vertical-align: middle;\n",
       "    }\n",
       "\n",
       "    .dataframe tbody tr th {\n",
       "        vertical-align: top;\n",
       "    }\n",
       "\n",
       "    .dataframe thead th {\n",
       "        text-align: right;\n",
       "    }\n",
       "</style>\n",
       "<table border=\"1\" class=\"dataframe\">\n",
       "  <thead>\n",
       "    <tr style=\"text-align: right;\">\n",
       "      <th></th>\n",
       "      <th>Name</th>\n",
       "      <th>Age</th>\n",
       "      <th>City</th>\n",
       "    </tr>\n",
       "  </thead>\n",
       "  <tbody>\n",
       "    <tr>\n",
       "      <th>0</th>\n",
       "      <td>Adil</td>\n",
       "      <td>23</td>\n",
       "      <td>Matannur</td>\n",
       "    </tr>\n",
       "    <tr>\n",
       "      <th>1</th>\n",
       "      <td>Aman</td>\n",
       "      <td>19</td>\n",
       "      <td>Vellore</td>\n",
       "    </tr>\n",
       "    <tr>\n",
       "      <th>3</th>\n",
       "      <td>Zahra</td>\n",
       "      <td>9</td>\n",
       "      <td>Knr</td>\n",
       "    </tr>\n",
       "    <tr>\n",
       "      <th>2</th>\n",
       "      <td>Ziya</td>\n",
       "      <td>15</td>\n",
       "      <td>Tly</td>\n",
       "    </tr>\n",
       "  </tbody>\n",
       "</table>\n",
       "</div>"
      ],
      "text/plain": [
       "    Name  Age      City\n",
       "0   Adil   23  Matannur\n",
       "1   Aman   19   Vellore\n",
       "3  Zahra    9       Knr\n",
       "2   Ziya   15       Tly"
      ]
     },
     "execution_count": 26,
     "metadata": {},
     "output_type": "execute_result"
    }
   ],
   "source": [
    "df.sort_values(['Name', 'Age'],ascending=True)"
   ]
  },
  {
   "cell_type": "markdown",
   "id": "b991b74e",
   "metadata": {},
   "source": [
    "### Multi-Column Sorting\n",
    "\n",
    "Sort by Name first (ascending), then by Age (ascending) for ties:"
   ]
  },
  {
   "cell_type": "markdown",
   "id": "0588a106",
   "metadata": {},
   "source": [
    "## 🏆 Ranking Data\n",
    "\n",
    "Ranking assigns ordinal numbers to data points. This is useful for competitions, percentiles, and comparative analysis.\n",
    "\n",
    "### Default Ranking (Average method)\n",
    "\n",
    "Rank ages - ties get average rank:"
   ]
  },
  {
   "cell_type": "code",
   "execution_count": 29,
   "id": "9256ec5d",
   "metadata": {},
   "outputs": [
    {
     "data": {
      "text/html": [
       "<div>\n",
       "<style scoped>\n",
       "    .dataframe tbody tr th:only-of-type {\n",
       "        vertical-align: middle;\n",
       "    }\n",
       "\n",
       "    .dataframe tbody tr th {\n",
       "        vertical-align: top;\n",
       "    }\n",
       "\n",
       "    .dataframe thead th {\n",
       "        text-align: right;\n",
       "    }\n",
       "</style>\n",
       "<table border=\"1\" class=\"dataframe\">\n",
       "  <thead>\n",
       "    <tr style=\"text-align: right;\">\n",
       "      <th></th>\n",
       "      <th>Name</th>\n",
       "      <th>Age</th>\n",
       "      <th>City</th>\n",
       "    </tr>\n",
       "  </thead>\n",
       "  <tbody>\n",
       "    <tr>\n",
       "      <th>0</th>\n",
       "      <td>Adil</td>\n",
       "      <td>23</td>\n",
       "      <td>Matannur</td>\n",
       "    </tr>\n",
       "    <tr>\n",
       "      <th>1</th>\n",
       "      <td>Aman</td>\n",
       "      <td>19</td>\n",
       "      <td>Vellore</td>\n",
       "    </tr>\n",
       "    <tr>\n",
       "      <th>2</th>\n",
       "      <td>Ziya</td>\n",
       "      <td>15</td>\n",
       "      <td>Tly</td>\n",
       "    </tr>\n",
       "    <tr>\n",
       "      <th>3</th>\n",
       "      <td>Zahra</td>\n",
       "      <td>9</td>\n",
       "      <td>Knr</td>\n",
       "    </tr>\n",
       "  </tbody>\n",
       "</table>\n",
       "</div>"
      ],
      "text/plain": [
       "    Name  Age      City\n",
       "0   Adil   23  Matannur\n",
       "1   Aman   19   Vellore\n",
       "2   Ziya   15       Tly\n",
       "3  Zahra    9       Knr"
      ]
     },
     "execution_count": 29,
     "metadata": {},
     "output_type": "execute_result"
    }
   ],
   "source": [
    "df"
   ]
  },
  {
   "cell_type": "code",
   "execution_count": 27,
   "id": "3b7bec81",
   "metadata": {},
   "outputs": [
    {
     "data": {
      "text/plain": [
       "0    4.0\n",
       "1    3.0\n",
       "2    2.0\n",
       "3    1.0\n",
       "Name: Age, dtype: float64"
      ]
     },
     "execution_count": 27,
     "metadata": {},
     "output_type": "execute_result"
    }
   ],
   "source": [
    "df['Age'].rank()"
   ]
  },
  {
   "cell_type": "code",
   "execution_count": 31,
   "id": "334ac3c2",
   "metadata": {},
   "outputs": [
    {
     "data": {
      "text/plain": [
       "0    4.0\n",
       "1    3.0\n",
       "2    2.0\n",
       "3    1.0\n",
       "Name: Age, dtype: float64"
      ]
     },
     "execution_count": 31,
     "metadata": {},
     "output_type": "execute_result"
    }
   ],
   "source": [
    "df['Age'].rank(method='min')"
   ]
  },
  {
   "cell_type": "markdown",
   "id": "5b832bef",
   "metadata": {},
   "source": [
    "## 🎉 Summary\n",
    "\n",
    "You've now learned advanced pandas techniques for:\n",
    "\n",
    "- **Conditional Filtering**: Using boolean indexing with `&` (AND) and `|` (OR) operators\n",
    "- **Query Method**: Writing SQL-like queries with `.query()` for cleaner, more readable code\n",
    "- **Sorting**: Single and multi-column sorting with `sort_values()`\n",
    "- **Ranking**: Different ranking methods for comparative analysis\n",
    "\n",
    "### Key Takeaways\n",
    "\n",
    "1. **Boolean Indexing**: `df[condition]` is powerful but can get complex with multiple conditions\n",
    "2. **Query Method**: `df.query('condition')` is more readable for complex filtering\n",
    "3. **Sorting**: Use `sort_values()` with lists for multi-column sorting\n",
    "4. **Ranking**: Choose ranking method based on your analysis needs (average, min, max, etc.)\n",
    "\n",
    "### Next Steps\n",
    "\n",
    "- Practice with real datasets\n",
    "- Combine filtering with other pandas operations\n",
    "- Explore advanced query features with variables\n",
    "- Learn about method chaining for efficient data pipelines\n",
    "\n",
    "Happy pandas coding! 🐼"
   ]
  },
  {
   "cell_type": "markdown",
   "id": "7421aeac",
   "metadata": {},
   "source": [
    "### Ranking with 'min' Method\n",
    "\n",
    "Rank ages - ties get minimum rank:"
   ]
  }
 ],
 "metadata": {
  "kernelspec": {
   "display_name": "base",
   "language": "python",
   "name": "python3"
  },
  "language_info": {
   "codemirror_mode": {
    "name": "ipython",
    "version": 3
   },
   "file_extension": ".py",
   "mimetype": "text/x-python",
   "name": "python",
   "nbconvert_exporter": "python",
   "pygments_lexer": "ipython3",
   "version": "3.13.5"
  }
 },
 "nbformat": 4,
 "nbformat_minor": 5
}
