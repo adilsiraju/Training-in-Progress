{
 "cells": [
  {
   "cell_type": "markdown",
   "id": "6e7a0fcd",
   "metadata": {},
   "source": [
    "---\n",
    "title: \"Handling Temporal Data with Pandas\"\n",
    "author: \"Mohammed Adil Siraju\"\n",
    "date: \"2025-09-21\"\n",
    "categories: [pandas, dataframe, temporal-data, time-series]\n",
    "description: \"Master temporal data handling in Pandas: datetime conversion, time series operations, resampling, shifting, and date range generation for effective time-based data analysis.\"\n",
    "---\n",
    "\n",
    "This notebook covers essential techniques for working with temporal (date and time) data in Pandas. Time-based data is ubiquitous in data science, from financial analysis to IoT sensor data. You'll learn how to:\n",
    "\n",
    "- **Convert and manipulate dates**: Parse strings to datetime objects and extract components\n",
    "- **Work with time series**: Create, index, and resample time-based data\n",
    "- **Perform time-based operations**: Shifting, lagging, and date arithmetic\n",
    "- **Generate date ranges**: Create sequences of dates for analysis\n",
    "\n",
    "Temporal data handling is crucial for time series analysis, forecasting, and any analysis involving time dimensions.\n",
    "\n",
    "---"
   ]
  },
  {
   "cell_type": "markdown",
   "id": "30787c95",
   "metadata": {},
   "source": [
    "## 1. Working with Dates and Datetime Objects\n",
    "\n",
    "Pandas provides powerful tools for handling date and time data. Let's start with the fundamentals of datetime conversion and manipulation."
   ]
  },
  {
   "cell_type": "markdown",
   "id": "4b5596e7",
   "metadata": {},
   "source": [
    "### Creating Sample Data with Date Strings\n",
    "\n",
    "Let's start by creating a DataFrame with date information stored as strings. This is a common scenario when loading data from CSV files or databases."
   ]
  },
  {
   "cell_type": "code",
   "execution_count": 31,
   "id": "77bb850f",
   "metadata": {},
   "outputs": [],
   "source": [
    "import pandas as pd\n",
    "\n",
    "data = {\n",
    "    'Date': ['2023-01-01','2023-03-02','2023-05-03'],\n",
    "    'Sales': [100,150,200]\n",
    "}\n",
    "\n",
    "df = pd.DataFrame(data)"
   ]
  },
  {
   "cell_type": "code",
   "execution_count": 32,
   "id": "9136df57",
   "metadata": {},
   "outputs": [
    {
     "data": {
      "text/html": [
       "<div>\n",
       "<style scoped>\n",
       "    .dataframe tbody tr th:only-of-type {\n",
       "        vertical-align: middle;\n",
       "    }\n",
       "\n",
       "    .dataframe tbody tr th {\n",
       "        vertical-align: top;\n",
       "    }\n",
       "\n",
       "    .dataframe thead th {\n",
       "        text-align: right;\n",
       "    }\n",
       "</style>\n",
       "<table border=\"1\" class=\"dataframe\">\n",
       "  <thead>\n",
       "    <tr style=\"text-align: right;\">\n",
       "      <th></th>\n",
       "      <th>Date</th>\n",
       "      <th>Sales</th>\n",
       "    </tr>\n",
       "  </thead>\n",
       "  <tbody>\n",
       "    <tr>\n",
       "      <th>0</th>\n",
       "      <td>2023-01-01</td>\n",
       "      <td>100</td>\n",
       "    </tr>\n",
       "    <tr>\n",
       "      <th>1</th>\n",
       "      <td>2023-03-02</td>\n",
       "      <td>150</td>\n",
       "    </tr>\n",
       "    <tr>\n",
       "      <th>2</th>\n",
       "      <td>2023-05-03</td>\n",
       "      <td>200</td>\n",
       "    </tr>\n",
       "  </tbody>\n",
       "</table>\n",
       "</div>"
      ],
      "text/plain": [
       "         Date  Sales\n",
       "0  2023-01-01    100\n",
       "1  2023-03-02    150\n",
       "2  2023-05-03    200"
      ]
     },
     "execution_count": 32,
     "metadata": {},
     "output_type": "execute_result"
    }
   ],
   "source": [
    "df"
   ]
  },
  {
   "cell_type": "markdown",
   "id": "637efb1a",
   "metadata": {},
   "source": [
    "### Checking Data Types\n",
    "\n",
    "Notice that the 'Date' column is currently stored as object (string) type. We need to convert it to datetime for proper date operations."
   ]
  },
  {
   "cell_type": "code",
   "execution_count": 33,
   "id": "e61320aa",
   "metadata": {},
   "outputs": [
    {
     "data": {
      "text/plain": [
       "Date     object\n",
       "Sales     int64\n",
       "dtype: object"
      ]
     },
     "execution_count": 33,
     "metadata": {},
     "output_type": "execute_result"
    }
   ],
   "source": [
    "df.dtypes"
   ]
  },
  {
   "cell_type": "markdown",
   "id": "bbff1360",
   "metadata": {},
   "source": [
    "### Converting Strings to Datetime\n",
    "\n",
    "Use `pd.to_datetime()` to convert date strings to proper datetime objects. This enables powerful date operations and calculations."
   ]
  },
  {
   "cell_type": "code",
   "execution_count": 34,
   "id": "caafeb77",
   "metadata": {},
   "outputs": [
    {
     "data": {
      "text/html": [
       "<div>\n",
       "<style scoped>\n",
       "    .dataframe tbody tr th:only-of-type {\n",
       "        vertical-align: middle;\n",
       "    }\n",
       "\n",
       "    .dataframe tbody tr th {\n",
       "        vertical-align: top;\n",
       "    }\n",
       "\n",
       "    .dataframe thead th {\n",
       "        text-align: right;\n",
       "    }\n",
       "</style>\n",
       "<table border=\"1\" class=\"dataframe\">\n",
       "  <thead>\n",
       "    <tr style=\"text-align: right;\">\n",
       "      <th></th>\n",
       "      <th>Date</th>\n",
       "      <th>Sales</th>\n",
       "    </tr>\n",
       "  </thead>\n",
       "  <tbody>\n",
       "    <tr>\n",
       "      <th>0</th>\n",
       "      <td>2023-01-01</td>\n",
       "      <td>100</td>\n",
       "    </tr>\n",
       "    <tr>\n",
       "      <th>1</th>\n",
       "      <td>2023-03-02</td>\n",
       "      <td>150</td>\n",
       "    </tr>\n",
       "    <tr>\n",
       "      <th>2</th>\n",
       "      <td>2023-05-03</td>\n",
       "      <td>200</td>\n",
       "    </tr>\n",
       "  </tbody>\n",
       "</table>\n",
       "</div>"
      ],
      "text/plain": [
       "        Date  Sales\n",
       "0 2023-01-01    100\n",
       "1 2023-03-02    150\n",
       "2 2023-05-03    200"
      ]
     },
     "execution_count": 34,
     "metadata": {},
     "output_type": "execute_result"
    }
   ],
   "source": [
    "df['Date'] = pd.to_datetime(df['Date'])\n",
    "df"
   ]
  },
  {
   "cell_type": "markdown",
   "id": "ae823130",
   "metadata": {},
   "source": [
    "### Verifying Datetime Conversion\n",
    "\n",
    "Now the 'Date' column shows as 'datetime64[ns]' type, confirming successful conversion."
   ]
  },
  {
   "cell_type": "code",
   "execution_count": 35,
   "id": "83a21be0",
   "metadata": {},
   "outputs": [
    {
     "data": {
      "text/plain": [
       "Date     datetime64[ns]\n",
       "Sales             int64\n",
       "dtype: object"
      ]
     },
     "execution_count": 35,
     "metadata": {},
     "output_type": "execute_result"
    }
   ],
   "source": [
    "df.dtypes"
   ]
  },
  {
   "cell_type": "markdown",
   "id": "e3a3972d",
   "metadata": {},
   "source": [
    "### Extracting Date Components\n",
    "\n",
    "Once you have datetime objects, you can easily extract year, month, day, and other components using the `.dt` accessor. This is useful for grouping and analysis."
   ]
  },
  {
   "cell_type": "code",
   "execution_count": 36,
   "id": "f2811de5",
   "metadata": {},
   "outputs": [
    {
     "data": {
      "text/html": [
       "<div>\n",
       "<style scoped>\n",
       "    .dataframe tbody tr th:only-of-type {\n",
       "        vertical-align: middle;\n",
       "    }\n",
       "\n",
       "    .dataframe tbody tr th {\n",
       "        vertical-align: top;\n",
       "    }\n",
       "\n",
       "    .dataframe thead th {\n",
       "        text-align: right;\n",
       "    }\n",
       "</style>\n",
       "<table border=\"1\" class=\"dataframe\">\n",
       "  <thead>\n",
       "    <tr style=\"text-align: right;\">\n",
       "      <th></th>\n",
       "      <th>Date</th>\n",
       "      <th>Sales</th>\n",
       "      <th>Year</th>\n",
       "      <th>Month</th>\n",
       "      <th>Day</th>\n",
       "    </tr>\n",
       "  </thead>\n",
       "  <tbody>\n",
       "    <tr>\n",
       "      <th>0</th>\n",
       "      <td>2023-01-01</td>\n",
       "      <td>100</td>\n",
       "      <td>2023</td>\n",
       "      <td>January</td>\n",
       "      <td>1</td>\n",
       "    </tr>\n",
       "    <tr>\n",
       "      <th>1</th>\n",
       "      <td>2023-03-02</td>\n",
       "      <td>150</td>\n",
       "      <td>2023</td>\n",
       "      <td>March</td>\n",
       "      <td>2</td>\n",
       "    </tr>\n",
       "    <tr>\n",
       "      <th>2</th>\n",
       "      <td>2023-05-03</td>\n",
       "      <td>200</td>\n",
       "      <td>2023</td>\n",
       "      <td>May</td>\n",
       "      <td>3</td>\n",
       "    </tr>\n",
       "  </tbody>\n",
       "</table>\n",
       "</div>"
      ],
      "text/plain": [
       "        Date  Sales  Year    Month  Day\n",
       "0 2023-01-01    100  2023  January    1\n",
       "1 2023-03-02    150  2023    March    2\n",
       "2 2023-05-03    200  2023      May    3"
      ]
     },
     "execution_count": 36,
     "metadata": {},
     "output_type": "execute_result"
    }
   ],
   "source": [
    "df['Year'] = df['Date'].dt.year\n",
    "df['Month'] = df['Date'].dt.month_name()\n",
    "df['Day'] = df['Date'].dt.day\n",
    "\n",
    "df"
   ]
  },
  {
   "cell_type": "markdown",
   "id": "3b36844e",
   "metadata": {},
   "source": [
    "## 2. Working with Time Series Data\n",
    "\n",
    "Time series data has dates/times as the index. Pandas provides powerful tools for time series analysis, including resampling, shifting, and date range generation.\n",
    "\n",
    "### Creating Time Series Data\n",
    "\n",
    "Let's create a time series by setting dates as the index and associating values with specific time points."
   ]
  },
  {
   "cell_type": "markdown",
   "id": "5dbf08a5",
   "metadata": {},
   "source": [
    "### Creating a DateTime Index\n",
    "\n",
    "Use `pd.date_range()` to create sequences of dates. The `freq='D'` parameter creates daily intervals."
   ]
  },
  {
   "cell_type": "code",
   "execution_count": 37,
   "id": "4a451f0a",
   "metadata": {},
   "outputs": [],
   "source": [
    "time_index = pd.date_range('2025-01-01', periods=5, freq='D')\n",
    "ts_data = pd.Series([100,120,80,110,90], index=time_index)"
   ]
  },
  {
   "cell_type": "markdown",
   "id": "8cbfce5a",
   "metadata": {},
   "source": [
    "### Viewing Time Series Data\n",
    "\n",
    "The time series now has datetime values as the index, making it easy to perform time-based operations."
   ]
  },
  {
   "cell_type": "code",
   "execution_count": 38,
   "id": "e51cf730",
   "metadata": {},
   "outputs": [
    {
     "data": {
      "text/plain": [
       "2025-01-01    100\n",
       "2025-01-02    120\n",
       "2025-01-03     80\n",
       "2025-01-04    110\n",
       "2025-01-05     90\n",
       "Freq: D, dtype: int64"
      ]
     },
     "execution_count": 38,
     "metadata": {},
     "output_type": "execute_result"
    }
   ],
   "source": [
    "ts_data"
   ]
  },
  {
   "cell_type": "markdown",
   "id": "2dec4b47",
   "metadata": {},
   "source": [
    "### Resampling Time Series Data\n",
    "\n",
    "Resampling changes the frequency of your time series data. Here we resample daily data to weekly frequency using the mean aggregation."
   ]
  },
  {
   "cell_type": "code",
   "execution_count": 39,
   "id": "28b2fc2f",
   "metadata": {},
   "outputs": [
    {
     "data": {
      "text/plain": [
       "2025-01-05    100.0\n",
       "Freq: W-SUN, dtype: float64"
      ]
     },
     "execution_count": 39,
     "metadata": {},
     "output_type": "execute_result"
    }
   ],
   "source": [
    "ts_resampled = ts_data.resample('W').mean()\n",
    "ts_resampled"
   ]
  },
  {
   "cell_type": "markdown",
   "id": "a372b51e",
   "metadata": {},
   "source": [
    "## 3. Time Series Operations: Shifting and Lagging\n",
    "\n",
    "Shifting operations are crucial for time series analysis, allowing you to compare values across different time periods.\n",
    "\n",
    "### Setting Up Time Series Data for Shifting\n",
    "\n",
    "Let's create a time series dataset and set the date column as the index."
   ]
  },
  {
   "cell_type": "code",
   "execution_count": 40,
   "id": "4639b17f",
   "metadata": {},
   "outputs": [
    {
     "data": {
      "text/html": [
       "<div>\n",
       "<style scoped>\n",
       "    .dataframe tbody tr th:only-of-type {\n",
       "        vertical-align: middle;\n",
       "    }\n",
       "\n",
       "    .dataframe tbody tr th {\n",
       "        vertical-align: top;\n",
       "    }\n",
       "\n",
       "    .dataframe thead th {\n",
       "        text-align: right;\n",
       "    }\n",
       "</style>\n",
       "<table border=\"1\" class=\"dataframe\">\n",
       "  <thead>\n",
       "    <tr style=\"text-align: right;\">\n",
       "      <th></th>\n",
       "      <th>Date</th>\n",
       "      <th>Sales</th>\n",
       "    </tr>\n",
       "  </thead>\n",
       "  <tbody>\n",
       "    <tr>\n",
       "      <th>0</th>\n",
       "      <td>2023-01-01</td>\n",
       "      <td>100</td>\n",
       "    </tr>\n",
       "    <tr>\n",
       "      <th>1</th>\n",
       "      <td>2023-01-02</td>\n",
       "      <td>150</td>\n",
       "    </tr>\n",
       "    <tr>\n",
       "      <th>2</th>\n",
       "      <td>2023-01-03</td>\n",
       "      <td>200</td>\n",
       "    </tr>\n",
       "    <tr>\n",
       "      <th>3</th>\n",
       "      <td>2023-01-04</td>\n",
       "      <td>120</td>\n",
       "    </tr>\n",
       "    <tr>\n",
       "      <th>4</th>\n",
       "      <td>2023-01-05</td>\n",
       "      <td>180</td>\n",
       "    </tr>\n",
       "  </tbody>\n",
       "</table>\n",
       "</div>"
      ],
      "text/plain": [
       "         Date  Sales\n",
       "0  2023-01-01    100\n",
       "1  2023-01-02    150\n",
       "2  2023-01-03    200\n",
       "3  2023-01-04    120\n",
       "4  2023-01-05    180"
      ]
     },
     "execution_count": 40,
     "metadata": {},
     "output_type": "execute_result"
    }
   ],
   "source": [
    "data = {\n",
    "    'Date': ['2023-01-01', '2023-01-02', '2023-01-03', '2023-01-04', '2023-01-05'],\n",
    "    'Sales': [100,150,200,120,180]\n",
    "}\n",
    "\n",
    "df = pd.DataFrame(data)\n",
    "df"
   ]
  },
  {
   "cell_type": "markdown",
   "id": "c73d21e5",
   "metadata": {},
   "source": [
    "### Converting to Datetime and Setting Index\n",
    "\n",
    "Convert the date strings to datetime objects and set the Date column as the DataFrame index."
   ]
  },
  {
   "cell_type": "code",
   "execution_count": 41,
   "id": "c638fbca",
   "metadata": {},
   "outputs": [],
   "source": [
    "df['Date'] = pd.to_datetime(df['Date'])"
   ]
  },
  {
   "cell_type": "markdown",
   "id": "0621e832",
   "metadata": {},
   "source": [
    "### Setting Date as Index\n",
    "\n",
    "Now the Date column becomes the DataFrame index, enabling time-based operations."
   ]
  },
  {
   "cell_type": "code",
   "execution_count": 42,
   "id": "1efd6800",
   "metadata": {},
   "outputs": [
    {
     "data": {
      "text/html": [
       "<div>\n",
       "<style scoped>\n",
       "    .dataframe tbody tr th:only-of-type {\n",
       "        vertical-align: middle;\n",
       "    }\n",
       "\n",
       "    .dataframe tbody tr th {\n",
       "        vertical-align: top;\n",
       "    }\n",
       "\n",
       "    .dataframe thead th {\n",
       "        text-align: right;\n",
       "    }\n",
       "</style>\n",
       "<table border=\"1\" class=\"dataframe\">\n",
       "  <thead>\n",
       "    <tr style=\"text-align: right;\">\n",
       "      <th></th>\n",
       "      <th>Sales</th>\n",
       "    </tr>\n",
       "    <tr>\n",
       "      <th>Date</th>\n",
       "      <th></th>\n",
       "    </tr>\n",
       "  </thead>\n",
       "  <tbody>\n",
       "    <tr>\n",
       "      <th>2023-01-01</th>\n",
       "      <td>100</td>\n",
       "    </tr>\n",
       "    <tr>\n",
       "      <th>2023-01-02</th>\n",
       "      <td>150</td>\n",
       "    </tr>\n",
       "    <tr>\n",
       "      <th>2023-01-03</th>\n",
       "      <td>200</td>\n",
       "    </tr>\n",
       "    <tr>\n",
       "      <th>2023-01-04</th>\n",
       "      <td>120</td>\n",
       "    </tr>\n",
       "    <tr>\n",
       "      <th>2023-01-05</th>\n",
       "      <td>180</td>\n",
       "    </tr>\n",
       "  </tbody>\n",
       "</table>\n",
       "</div>"
      ],
      "text/plain": [
       "            Sales\n",
       "Date             \n",
       "2023-01-01    100\n",
       "2023-01-02    150\n",
       "2023-01-03    200\n",
       "2023-01-04    120\n",
       "2023-01-05    180"
      ]
     },
     "execution_count": 42,
     "metadata": {},
     "output_type": "execute_result"
    }
   ],
   "source": [
    "df.set_index('Date', inplace=True)\n",
    "df"
   ]
  },
  {
   "cell_type": "markdown",
   "id": "01c153e3",
   "metadata": {},
   "source": [
    "### Shifting Data for Time Series Analysis\n",
    "\n",
    "The `shift()` method moves data points forward or backward in time. This is essential for calculating period-over-period changes, creating lag features, and time series forecasting.\n",
    "\n",
    "- `shift(1)`: Moves values forward by 1 period (creates lag)\n",
    "- `shift(-1)`: Moves values backward by 1 period (creates lead)"
   ]
  },
  {
   "cell_type": "code",
   "execution_count": 43,
   "id": "ebea5ac0",
   "metadata": {},
   "outputs": [],
   "source": [
    "df['Shifted Sales'] = df['Sales'].shift(1)\n",
    "df['Lagged Sales'] = df['Sales'].shift(-1)"
   ]
  },
  {
   "cell_type": "code",
   "execution_count": 44,
   "id": "07c7e9cd",
   "metadata": {},
   "outputs": [
    {
     "data": {
      "text/html": [
       "<div>\n",
       "<style scoped>\n",
       "    .dataframe tbody tr th:only-of-type {\n",
       "        vertical-align: middle;\n",
       "    }\n",
       "\n",
       "    .dataframe tbody tr th {\n",
       "        vertical-align: top;\n",
       "    }\n",
       "\n",
       "    .dataframe thead th {\n",
       "        text-align: right;\n",
       "    }\n",
       "</style>\n",
       "<table border=\"1\" class=\"dataframe\">\n",
       "  <thead>\n",
       "    <tr style=\"text-align: right;\">\n",
       "      <th></th>\n",
       "      <th>Sales</th>\n",
       "      <th>Shifted Sales</th>\n",
       "      <th>Lagged Sales</th>\n",
       "    </tr>\n",
       "    <tr>\n",
       "      <th>Date</th>\n",
       "      <th></th>\n",
       "      <th></th>\n",
       "      <th></th>\n",
       "    </tr>\n",
       "  </thead>\n",
       "  <tbody>\n",
       "    <tr>\n",
       "      <th>2023-01-01</th>\n",
       "      <td>100</td>\n",
       "      <td>NaN</td>\n",
       "      <td>150.0</td>\n",
       "    </tr>\n",
       "    <tr>\n",
       "      <th>2023-01-02</th>\n",
       "      <td>150</td>\n",
       "      <td>100.0</td>\n",
       "      <td>200.0</td>\n",
       "    </tr>\n",
       "    <tr>\n",
       "      <th>2023-01-03</th>\n",
       "      <td>200</td>\n",
       "      <td>150.0</td>\n",
       "      <td>120.0</td>\n",
       "    </tr>\n",
       "    <tr>\n",
       "      <th>2023-01-04</th>\n",
       "      <td>120</td>\n",
       "      <td>200.0</td>\n",
       "      <td>180.0</td>\n",
       "    </tr>\n",
       "    <tr>\n",
       "      <th>2023-01-05</th>\n",
       "      <td>180</td>\n",
       "      <td>120.0</td>\n",
       "      <td>NaN</td>\n",
       "    </tr>\n",
       "  </tbody>\n",
       "</table>\n",
       "</div>"
      ],
      "text/plain": [
       "            Sales  Shifted Sales  Lagged Sales\n",
       "Date                                          \n",
       "2023-01-01    100            NaN         150.0\n",
       "2023-01-02    150          100.0         200.0\n",
       "2023-01-03    200          150.0         120.0\n",
       "2023-01-04    120          200.0         180.0\n",
       "2023-01-05    180          120.0           NaN"
      ]
     },
     "execution_count": 44,
     "metadata": {},
     "output_type": "execute_result"
    }
   ],
   "source": [
    "df"
   ]
  },
  {
   "cell_type": "markdown",
   "id": "708c33cc",
   "metadata": {},
   "source": [
    "## 4. Generating Date Ranges\n",
    "\n",
    "Pandas makes it easy to create sequences of dates for time series analysis, filling missing dates, or creating time-based indices.\n",
    "\n",
    "### Creating Weekly Date Ranges\n",
    "\n",
    "Generate a sequence of dates with weekly frequency."
   ]
  },
  {
   "cell_type": "code",
   "execution_count": 45,
   "id": "111dea9b",
   "metadata": {},
   "outputs": [
    {
     "data": {
      "text/plain": [
       "DatetimeIndex(['2023-01-01', '2023-01-08', '2023-01-15', '2023-01-22',\n",
       "               '2023-01-29', '2023-02-05', '2023-02-12', '2023-02-19',\n",
       "               '2023-02-26', '2023-03-05'],\n",
       "              dtype='datetime64[ns]', freq='W-SUN')"
      ]
     },
     "execution_count": 45,
     "metadata": {},
     "output_type": "execute_result"
    }
   ],
   "source": [
    "date_range = pd.date_range(start='2023-01-01', periods=10, freq='W')\n",
    "date_range"
   ]
  },
  {
   "cell_type": "markdown",
   "id": "b82d3f29",
   "metadata": {},
   "source": [
    "### Creating Monthly Date Ranges\n",
    "\n",
    "Generate a sequence of dates with monthly frequency using 'ME' (Month End)."
   ]
  },
  {
   "cell_type": "code",
   "execution_count": 46,
   "id": "b39d4356",
   "metadata": {},
   "outputs": [
    {
     "data": {
      "text/plain": [
       "DatetimeIndex(['2023-01-31', '2023-02-28', '2023-03-31', '2023-04-30',\n",
       "               '2023-05-31', '2023-06-30', '2023-07-31', '2023-08-31',\n",
       "               '2023-09-30', '2023-10-31', '2023-11-30', '2023-12-31',\n",
       "               '2024-01-31', '2024-02-29', '2024-03-31', '2024-04-30',\n",
       "               '2024-05-31', '2024-06-30', '2024-07-31', '2024-08-31',\n",
       "               '2024-09-30', '2024-10-31', '2024-11-30', '2024-12-31',\n",
       "               '2025-01-31', '2025-02-28', '2025-03-31', '2025-04-30',\n",
       "               '2025-05-31', '2025-06-30', '2025-07-31', '2025-08-31',\n",
       "               '2025-09-30', '2025-10-31', '2025-11-30', '2025-12-31',\n",
       "               '2026-01-31', '2026-02-28', '2026-03-31', '2026-04-30',\n",
       "               '2026-05-31', '2026-06-30', '2026-07-31', '2026-08-31',\n",
       "               '2026-09-30', '2026-10-31', '2026-11-30', '2026-12-31',\n",
       "               '2027-01-31', '2027-02-28'],\n",
       "              dtype='datetime64[ns]', freq='ME')"
      ]
     },
     "execution_count": 46,
     "metadata": {},
     "output_type": "execute_result"
    }
   ],
   "source": [
    "date_range = pd.date_range(start='2023-01-01', periods=50, freq='ME')\n",
    "date_range"
   ]
  },
  {
   "cell_type": "markdown",
   "id": "8a84eb88",
   "metadata": {},
   "source": [
    "## Summary\n",
    "\n",
    "In this notebook, you learned comprehensive techniques for handling temporal data in Pandas:\n",
    "\n",
    "### 🔧 **Datetime Conversion & Manipulation**\n",
    "- Convert string dates to datetime objects with `pd.to_datetime()`\n",
    "- Extract date components (year, month, day) using `.dt` accessor\n",
    "- Handle different date formats and timezones\n",
    "\n",
    "### 📊 **Time Series Operations**\n",
    "- Create time series data with datetime indexing\n",
    "- Resample data to different frequencies (daily → weekly, etc.)\n",
    "- Set datetime columns as DataFrame index for time-based operations\n",
    "\n",
    "### ⏱️ **Time Series Analysis**\n",
    "- Use `shift()` for creating lag/lead features\n",
    "- Perform period-over-period comparisons\n",
    "- Handle time-based data transformations\n",
    "\n",
    "### 📅 **Date Range Generation**\n",
    "- Create sequences of dates with `pd.date_range()`\n",
    "- Specify different frequencies (daily, weekly, monthly)\n",
    "- Generate date ranges for filling missing data or creating time indices\n",
    "\n",
    "### 🚀 **Key Takeaways**\n",
    "1. **Always convert dates**: Use `pd.to_datetime()` for proper date handling\n",
    "2. **Set datetime index**: For time series analysis, make dates the index\n",
    "3. **Use `.dt` accessor**: Extract components like year, month, day easily\n",
    "4. **Master shifting**: `shift()` is essential for time series features\n",
    "5. **Resample wisely**: Change data frequency based on your analysis needs\n",
    "\n",
    "### 📈 **Next Steps**\n",
    "- Practice with real time series datasets (stock prices, weather data, etc.)\n",
    "- Explore advanced topics like timezones and business day calculations\n",
    "- Learn about rolling windows and expanding operations\n",
    "- Combine temporal data with other Pandas operations for comprehensive analysis\n",
    "\n",
    "Temporal data is everywhere - master these techniques and you'll be equipped to handle any time-based analysis! 🕐📊"
   ]
  }
 ],
 "metadata": {
  "kernelspec": {
   "display_name": "base",
   "language": "python",
   "name": "python3"
  },
  "language_info": {
   "codemirror_mode": {
    "name": "ipython",
    "version": 3
   },
   "file_extension": ".py",
   "mimetype": "text/x-python",
   "name": "python",
   "nbconvert_exporter": "python",
   "pygments_lexer": "ipython3",
   "version": "3.13.5"
  }
 },
 "nbformat": 4,
 "nbformat_minor": 5
}
