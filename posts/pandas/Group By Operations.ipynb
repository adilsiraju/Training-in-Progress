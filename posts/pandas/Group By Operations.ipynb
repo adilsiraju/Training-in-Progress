{
 "cells": [
  {
   "cell_type": "markdown",
   "id": "6e7a0fcd",
   "metadata": {},
   "source": [
    "---\n",
    "title: \"Group By Operations in Pandas\"\n",
    "author: \"Mohammed Adil Siraju\"\n",
    "date: \"2025-09-21\"\n",
    "categories: [pandas, dataframe, group-by, aggregation]\n",
    "description: \"Master Pandas groupby operations: splitting data by categories, applying functions, and combining results. Learn aggregation, transformation, and filtering techniques for data analysis.\"\n",
    "---\n",
    "\n",
    "GroupBy operations are one of the most powerful features in Pandas for data analysis. They allow you to:\n",
    "\n",
    "- **Split** data into groups based on criteria\n",
    "- **Apply** functions to each group independently\n",
    "- **Combine** the results back into a DataFrame\n",
    "\n",
    "This notebook covers essential groupby techniques including aggregation functions, multiple aggregations, and advanced operations.\n",
    "\n",
    "## 1. Setting Up Sample Data\n",
    "\n",
    "Let's create a sample dataset to demonstrate groupby operations. We'll work with categorical data and numerical values."
   ]
  },
  {
   "cell_type": "code",
   "execution_count": 4,
   "id": "77bb850f",
   "metadata": {},
   "outputs": [],
   "source": [
    "import pandas as pd\n",
    "\n",
    "data = {\n",
    "    'Category': ['A', 'B', 'A', 'B', 'A'],\n",
    "    'Value': [10,15,20,25,30]\n",
    "}\n",
    "\n",
    "df = pd.DataFrame(data)"
   ]
  },
  {
   "cell_type": "markdown",
   "id": "4b5596e7",
   "metadata": {},
   "source": [
    "## 2. Basic Aggregation Functions\n",
    "\n",
    "Groupby operations allow you to calculate summary statistics for each group. Here are the most common aggregation functions:\n",
    "\n",
    "### Sum Aggregation\n",
    "\n",
    "Calculate the total sum of values for each category:"
   ]
  },
  {
   "cell_type": "code",
   "execution_count": 8,
   "id": "9136df57",
   "metadata": {},
   "outputs": [
    {
     "data": {
      "text/html": [
       "<div>\n",
       "<style scoped>\n",
       "    .dataframe tbody tr th:only-of-type {\n",
       "        vertical-align: middle;\n",
       "    }\n",
       "\n",
       "    .dataframe tbody tr th {\n",
       "        vertical-align: top;\n",
       "    }\n",
       "\n",
       "    .dataframe thead th {\n",
       "        text-align: right;\n",
       "    }\n",
       "</style>\n",
       "<table border=\"1\" class=\"dataframe\">\n",
       "  <thead>\n",
       "    <tr style=\"text-align: right;\">\n",
       "      <th></th>\n",
       "      <th>Value</th>\n",
       "    </tr>\n",
       "    <tr>\n",
       "      <th>Category</th>\n",
       "      <th></th>\n",
       "    </tr>\n",
       "  </thead>\n",
       "  <tbody>\n",
       "    <tr>\n",
       "      <th>A</th>\n",
       "      <td>60</td>\n",
       "    </tr>\n",
       "    <tr>\n",
       "      <th>B</th>\n",
       "      <td>40</td>\n",
       "    </tr>\n",
       "  </tbody>\n",
       "</table>\n",
       "</div>"
      ],
      "text/plain": [
       "          Value\n",
       "Category       \n",
       "A            60\n",
       "B            40"
      ]
     },
     "execution_count": 8,
     "metadata": {},
     "output_type": "execute_result"
    }
   ],
   "source": [
    "df.groupby('Category').sum()"
   ]
  },
  {
   "cell_type": "markdown",
   "id": "b9542c57",
   "metadata": {},
   "source": [
    "### Mean Aggregation\n",
    "\n",
    "Calculate the average value for each category:"
   ]
  },
  {
   "cell_type": "code",
   "execution_count": 9,
   "id": "54217d5c",
   "metadata": {},
   "outputs": [
    {
     "data": {
      "text/html": [
       "<div>\n",
       "<style scoped>\n",
       "    .dataframe tbody tr th:only-of-type {\n",
       "        vertical-align: middle;\n",
       "    }\n",
       "\n",
       "    .dataframe tbody tr th {\n",
       "        vertical-align: top;\n",
       "    }\n",
       "\n",
       "    .dataframe thead th {\n",
       "        text-align: right;\n",
       "    }\n",
       "</style>\n",
       "<table border=\"1\" class=\"dataframe\">\n",
       "  <thead>\n",
       "    <tr style=\"text-align: right;\">\n",
       "      <th></th>\n",
       "      <th>Value</th>\n",
       "    </tr>\n",
       "    <tr>\n",
       "      <th>Category</th>\n",
       "      <th></th>\n",
       "    </tr>\n",
       "  </thead>\n",
       "  <tbody>\n",
       "    <tr>\n",
       "      <th>A</th>\n",
       "      <td>20.0</td>\n",
       "    </tr>\n",
       "    <tr>\n",
       "      <th>B</th>\n",
       "      <td>20.0</td>\n",
       "    </tr>\n",
       "  </tbody>\n",
       "</table>\n",
       "</div>"
      ],
      "text/plain": [
       "          Value\n",
       "Category       \n",
       "A          20.0\n",
       "B          20.0"
      ]
     },
     "execution_count": 9,
     "metadata": {},
     "output_type": "execute_result"
    }
   ],
   "source": [
    "df.groupby('Category').mean()"
   ]
  },
  {
   "cell_type": "markdown",
   "id": "9816c2b4",
   "metadata": {},
   "source": [
    "### Median Aggregation\n",
    "\n",
    "Calculate the median (middle) value for each category:"
   ]
  },
  {
   "cell_type": "code",
   "execution_count": 10,
   "id": "4f289c84",
   "metadata": {},
   "outputs": [
    {
     "data": {
      "text/html": [
       "<div>\n",
       "<style scoped>\n",
       "    .dataframe tbody tr th:only-of-type {\n",
       "        vertical-align: middle;\n",
       "    }\n",
       "\n",
       "    .dataframe tbody tr th {\n",
       "        vertical-align: top;\n",
       "    }\n",
       "\n",
       "    .dataframe thead th {\n",
       "        text-align: right;\n",
       "    }\n",
       "</style>\n",
       "<table border=\"1\" class=\"dataframe\">\n",
       "  <thead>\n",
       "    <tr style=\"text-align: right;\">\n",
       "      <th></th>\n",
       "      <th>Value</th>\n",
       "    </tr>\n",
       "    <tr>\n",
       "      <th>Category</th>\n",
       "      <th></th>\n",
       "    </tr>\n",
       "  </thead>\n",
       "  <tbody>\n",
       "    <tr>\n",
       "      <th>A</th>\n",
       "      <td>20.0</td>\n",
       "    </tr>\n",
       "    <tr>\n",
       "      <th>B</th>\n",
       "      <td>20.0</td>\n",
       "    </tr>\n",
       "  </tbody>\n",
       "</table>\n",
       "</div>"
      ],
      "text/plain": [
       "          Value\n",
       "Category       \n",
       "A          20.0\n",
       "B          20.0"
      ]
     },
     "execution_count": 10,
     "metadata": {},
     "output_type": "execute_result"
    }
   ],
   "source": [
    "df.groupby('Category').median()"
   ]
  },
  {
   "cell_type": "markdown",
   "id": "2a03cbcf",
   "metadata": {},
   "source": [
    "### Maximum Values\n",
    "\n",
    "Find the highest value in each category:"
   ]
  },
  {
   "cell_type": "code",
   "execution_count": 11,
   "id": "7f646ae3",
   "metadata": {},
   "outputs": [
    {
     "data": {
      "text/html": [
       "<div>\n",
       "<style scoped>\n",
       "    .dataframe tbody tr th:only-of-type {\n",
       "        vertical-align: middle;\n",
       "    }\n",
       "\n",
       "    .dataframe tbody tr th {\n",
       "        vertical-align: top;\n",
       "    }\n",
       "\n",
       "    .dataframe thead th {\n",
       "        text-align: right;\n",
       "    }\n",
       "</style>\n",
       "<table border=\"1\" class=\"dataframe\">\n",
       "  <thead>\n",
       "    <tr style=\"text-align: right;\">\n",
       "      <th></th>\n",
       "      <th>Value</th>\n",
       "    </tr>\n",
       "    <tr>\n",
       "      <th>Category</th>\n",
       "      <th></th>\n",
       "    </tr>\n",
       "  </thead>\n",
       "  <tbody>\n",
       "    <tr>\n",
       "      <th>A</th>\n",
       "      <td>30</td>\n",
       "    </tr>\n",
       "    <tr>\n",
       "      <th>B</th>\n",
       "      <td>25</td>\n",
       "    </tr>\n",
       "  </tbody>\n",
       "</table>\n",
       "</div>"
      ],
      "text/plain": [
       "          Value\n",
       "Category       \n",
       "A            30\n",
       "B            25"
      ]
     },
     "execution_count": 11,
     "metadata": {},
     "output_type": "execute_result"
    }
   ],
   "source": [
    "df.groupby('Category').max()"
   ]
  },
  {
   "cell_type": "markdown",
   "id": "9c0fc43f",
   "metadata": {},
   "source": [
    "### Minimum Values\n",
    "\n",
    "Find the lowest value in each category:"
   ]
  },
  {
   "cell_type": "code",
   "execution_count": 12,
   "id": "bf5cf1af",
   "metadata": {},
   "outputs": [
    {
     "data": {
      "text/html": [
       "<div>\n",
       "<style scoped>\n",
       "    .dataframe tbody tr th:only-of-type {\n",
       "        vertical-align: middle;\n",
       "    }\n",
       "\n",
       "    .dataframe tbody tr th {\n",
       "        vertical-align: top;\n",
       "    }\n",
       "\n",
       "    .dataframe thead th {\n",
       "        text-align: right;\n",
       "    }\n",
       "</style>\n",
       "<table border=\"1\" class=\"dataframe\">\n",
       "  <thead>\n",
       "    <tr style=\"text-align: right;\">\n",
       "      <th></th>\n",
       "      <th>Value</th>\n",
       "    </tr>\n",
       "    <tr>\n",
       "      <th>Category</th>\n",
       "      <th></th>\n",
       "    </tr>\n",
       "  </thead>\n",
       "  <tbody>\n",
       "    <tr>\n",
       "      <th>A</th>\n",
       "      <td>10</td>\n",
       "    </tr>\n",
       "    <tr>\n",
       "      <th>B</th>\n",
       "      <td>15</td>\n",
       "    </tr>\n",
       "  </tbody>\n",
       "</table>\n",
       "</div>"
      ],
      "text/plain": [
       "          Value\n",
       "Category       \n",
       "A            10\n",
       "B            15"
      ]
     },
     "execution_count": 12,
     "metadata": {},
     "output_type": "execute_result"
    }
   ],
   "source": [
    "df.groupby('Category').min()"
   ]
  },
  {
   "cell_type": "markdown",
   "id": "885cb206",
   "metadata": {},
   "source": [
    "### Standard Deviation\n",
    "\n",
    "Measure the spread of values within each category:"
   ]
  },
  {
   "cell_type": "code",
   "execution_count": 13,
   "id": "06957fe6",
   "metadata": {},
   "outputs": [
    {
     "data": {
      "text/html": [
       "<div>\n",
       "<style scoped>\n",
       "    .dataframe tbody tr th:only-of-type {\n",
       "        vertical-align: middle;\n",
       "    }\n",
       "\n",
       "    .dataframe tbody tr th {\n",
       "        vertical-align: top;\n",
       "    }\n",
       "\n",
       "    .dataframe thead th {\n",
       "        text-align: right;\n",
       "    }\n",
       "</style>\n",
       "<table border=\"1\" class=\"dataframe\">\n",
       "  <thead>\n",
       "    <tr style=\"text-align: right;\">\n",
       "      <th></th>\n",
       "      <th>Value</th>\n",
       "    </tr>\n",
       "    <tr>\n",
       "      <th>Category</th>\n",
       "      <th></th>\n",
       "    </tr>\n",
       "  </thead>\n",
       "  <tbody>\n",
       "    <tr>\n",
       "      <th>A</th>\n",
       "      <td>10.000000</td>\n",
       "    </tr>\n",
       "    <tr>\n",
       "      <th>B</th>\n",
       "      <td>7.071068</td>\n",
       "    </tr>\n",
       "  </tbody>\n",
       "</table>\n",
       "</div>"
      ],
      "text/plain": [
       "              Value\n",
       "Category           \n",
       "A         10.000000\n",
       "B          7.071068"
      ]
     },
     "execution_count": 13,
     "metadata": {},
     "output_type": "execute_result"
    }
   ],
   "source": [
    "df.groupby('Category').std()"
   ]
  },
  {
   "cell_type": "markdown",
   "id": "603646da",
   "metadata": {},
   "source": [
    "### Variance\n",
    "\n",
    "Calculate the variance (squared standard deviation) for each category:"
   ]
  },
  {
   "cell_type": "code",
   "execution_count": 14,
   "id": "e39ddcad",
   "metadata": {},
   "outputs": [
    {
     "data": {
      "text/html": [
       "<div>\n",
       "<style scoped>\n",
       "    .dataframe tbody tr th:only-of-type {\n",
       "        vertical-align: middle;\n",
       "    }\n",
       "\n",
       "    .dataframe tbody tr th {\n",
       "        vertical-align: top;\n",
       "    }\n",
       "\n",
       "    .dataframe thead th {\n",
       "        text-align: right;\n",
       "    }\n",
       "</style>\n",
       "<table border=\"1\" class=\"dataframe\">\n",
       "  <thead>\n",
       "    <tr style=\"text-align: right;\">\n",
       "      <th></th>\n",
       "      <th>Value</th>\n",
       "    </tr>\n",
       "    <tr>\n",
       "      <th>Category</th>\n",
       "      <th></th>\n",
       "    </tr>\n",
       "  </thead>\n",
       "  <tbody>\n",
       "    <tr>\n",
       "      <th>A</th>\n",
       "      <td>100.0</td>\n",
       "    </tr>\n",
       "    <tr>\n",
       "      <th>B</th>\n",
       "      <td>50.0</td>\n",
       "    </tr>\n",
       "  </tbody>\n",
       "</table>\n",
       "</div>"
      ],
      "text/plain": [
       "          Value\n",
       "Category       \n",
       "A         100.0\n",
       "B          50.0"
      ]
     },
     "execution_count": 14,
     "metadata": {},
     "output_type": "execute_result"
    }
   ],
   "source": [
    "df.groupby('Category').var()"
   ]
  },
  {
   "cell_type": "markdown",
   "id": "9faee324",
   "metadata": {},
   "source": [
    "## 3. Multiple Aggregations\n",
    "\n",
    "You can apply multiple aggregation functions at once using the `agg()` method. This provides a comprehensive view of your grouped data.\n",
    "\n",
    "### Applying Multiple Functions\n",
    "\n",
    "Calculate sum, mean, and maximum for each category in one operation:"
   ]
  },
  {
   "cell_type": "code",
   "execution_count": 15,
   "id": "d2b10acf",
   "metadata": {},
   "outputs": [
    {
     "data": {
      "text/html": [
       "<div>\n",
       "<style scoped>\n",
       "    .dataframe tbody tr th:only-of-type {\n",
       "        vertical-align: middle;\n",
       "    }\n",
       "\n",
       "    .dataframe tbody tr th {\n",
       "        vertical-align: top;\n",
       "    }\n",
       "\n",
       "    .dataframe thead tr th {\n",
       "        text-align: left;\n",
       "    }\n",
       "\n",
       "    .dataframe thead tr:last-of-type th {\n",
       "        text-align: right;\n",
       "    }\n",
       "</style>\n",
       "<table border=\"1\" class=\"dataframe\">\n",
       "  <thead>\n",
       "    <tr>\n",
       "      <th></th>\n",
       "      <th colspan=\"3\" halign=\"left\">Value</th>\n",
       "    </tr>\n",
       "    <tr>\n",
       "      <th></th>\n",
       "      <th>sum</th>\n",
       "      <th>mean</th>\n",
       "      <th>max</th>\n",
       "    </tr>\n",
       "    <tr>\n",
       "      <th>Category</th>\n",
       "      <th></th>\n",
       "      <th></th>\n",
       "      <th></th>\n",
       "    </tr>\n",
       "  </thead>\n",
       "  <tbody>\n",
       "    <tr>\n",
       "      <th>A</th>\n",
       "      <td>60</td>\n",
       "      <td>20.0</td>\n",
       "      <td>30</td>\n",
       "    </tr>\n",
       "    <tr>\n",
       "      <th>B</th>\n",
       "      <td>40</td>\n",
       "      <td>20.0</td>\n",
       "      <td>25</td>\n",
       "    </tr>\n",
       "  </tbody>\n",
       "</table>\n",
       "</div>"
      ],
      "text/plain": [
       "         Value          \n",
       "           sum  mean max\n",
       "Category                \n",
       "A           60  20.0  30\n",
       "B           40  20.0  25"
      ]
     },
     "execution_count": 15,
     "metadata": {},
     "output_type": "execute_result"
    }
   ],
   "source": [
    "df.groupby('Category').agg(['sum', 'mean', 'max'])"
   ]
  },
  {
   "cell_type": "markdown",
   "id": "082f0179",
   "metadata": {},
   "source": [
    "## Summary\n",
    "\n",
    "GroupBy operations are essential for data analysis in Pandas. In this notebook, you learned:\n",
    "\n",
    "### 🔢 **Basic Aggregation Functions**\n",
    "- `sum()`: Total values per group\n",
    "- `mean()`: Average values per group  \n",
    "- `median()`: Middle value per group\n",
    "- `max()` / `min()`: Highest/lowest values per group\n",
    "- `std()` / `var()`: Measure spread within groups\n",
    "\n",
    "### 📊 **Advanced Operations**\n",
    "- `agg()`: Apply multiple functions simultaneously\n",
    "- Combine statistics for comprehensive group analysis\n",
    "\n",
    "### 💡 **Key Concepts**\n",
    "1. **Split-Apply-Combine**: The three-step process of groupby operations\n",
    "2. **Aggregation**: Reducing groups to single values (sum, mean, etc.)\n",
    "3. **Multiple Functions**: Use `agg()` for comprehensive summaries\n",
    "\n",
    "### 🚀 **Best Practices**\n",
    "- Choose appropriate aggregation functions for your data type\n",
    "- Use multiple aggregations to get complete group insights\n",
    "- Consider data distribution when selecting measures (mean vs median)\n",
    "\n",
    "### 📈 **Next Steps**\n",
    "- Explore groupby with multiple columns\n",
    "- Learn filtering and transformation operations\n",
    "- Practice with real datasets for business insights\n",
    "\n",
    "Mastering groupby operations will significantly enhance your data analysis capabilities! 🎯"
   ]
  }
 ],
 "metadata": {
  "kernelspec": {
   "display_name": "base",
   "language": "python",
   "name": "python3"
  },
  "language_info": {
   "codemirror_mode": {
    "name": "ipython",
    "version": 3
   },
   "file_extension": ".py",
   "mimetype": "text/x-python",
   "name": "python",
   "nbconvert_exporter": "python",
   "pygments_lexer": "ipython3",
   "version": "3.13.5"
  }
 },
 "nbformat": 4,
 "nbformat_minor": 5
}
