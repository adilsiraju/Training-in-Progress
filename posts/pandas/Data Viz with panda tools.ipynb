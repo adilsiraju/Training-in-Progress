{
 "cells": [
  {
   "cell_type": "markdown",
   "id": "6e7a0fcd",
   "metadata": {},
   "source": [
    "---\n",
    "title: \"Data Viz with pandas tools\"\n",
    "author: \"Mohammed Adil Siraju\"\n",
    "date: \"2025-09-21\"\n",
    "categories: [pandas, dataframe, data-visualisation]\n",
    "description: \"Quick examples of plotting with pandas and matplotlib (line, bar, scatter) and visualization best practices.\"\n",
    "---\n",
    "# Data Visualization with pandas tools\n",
    "\n",
    "This notebook shows simple, reusable examples of creating line, bar, and scatter charts directly from pandas using matplotlib as the backend. Each section includes a short explanation and code snippet."
   ]
  },
  {
   "cell_type": "code",
   "execution_count": 1,
   "id": "77bb850f",
   "metadata": {},
   "outputs": [
    {
     "data": {
      "text/html": [
       "<div>\n",
       "<style scoped>\n",
       "    .dataframe tbody tr th:only-of-type {\n",
       "        vertical-align: middle;\n",
       "    }\n",
       "\n",
       "    .dataframe tbody tr th {\n",
       "        vertical-align: top;\n",
       "    }\n",
       "\n",
       "    .dataframe thead th {\n",
       "        text-align: right;\n",
       "    }\n",
       "</style>\n",
       "<table border=\"1\" class=\"dataframe\">\n",
       "  <thead>\n",
       "    <tr style=\"text-align: right;\">\n",
       "      <th></th>\n",
       "      <th>Year</th>\n",
       "      <th>Revenue</th>\n",
       "    </tr>\n",
       "  </thead>\n",
       "  <tbody>\n",
       "    <tr>\n",
       "      <th>0</th>\n",
       "      <td>2015</td>\n",
       "      <td>500</td>\n",
       "    </tr>\n",
       "    <tr>\n",
       "      <th>1</th>\n",
       "      <td>2016</td>\n",
       "      <td>700</td>\n",
       "    </tr>\n",
       "    <tr>\n",
       "      <th>2</th>\n",
       "      <td>2017</td>\n",
       "      <td>650</td>\n",
       "    </tr>\n",
       "    <tr>\n",
       "      <th>3</th>\n",
       "      <td>2018</td>\n",
       "      <td>800</td>\n",
       "    </tr>\n",
       "    <tr>\n",
       "      <th>4</th>\n",
       "      <td>2019</td>\n",
       "      <td>950</td>\n",
       "    </tr>\n",
       "  </tbody>\n",
       "</table>\n",
       "</div>"
      ],
      "text/plain": [
       "   Year  Revenue\n",
       "0  2015      500\n",
       "1  2016      700\n",
       "2  2017      650\n",
       "3  2018      800\n",
       "4  2019      950"
      ]
     },
     "execution_count": 1,
     "metadata": {},
     "output_type": "execute_result"
    }
   ],
   "source": [
    "# Import libraries and create sample DataFrame\n",
    "import pandas as pd\n",
    "import matplotlib.pyplot as plt\n",
    "\n",
    "data = {\n",
    "    'Year': [2015,2016,2017,2018,2019],\n",
    "    'Revenue': [500,700,650,800,950]\n",
    "}\n",
    "\n",
    "df = pd.DataFrame(data)\n",
    "df"
   ]
  },
  {
   "cell_type": "code",
   "execution_count": 9,
   "id": "cfd5754a",
   "metadata": {},
   "outputs": [
    {
     "data": {
      "image/png": "[encoded data removed]",
      "text/plain": [
       "<Figure size 640x480 with 1 Axes>"
      ]
     },
     "metadata": {},
     "output_type": "display_data"
    }
   ],
   "source": [
    "df.plot(x='Year', y='Revenue', kind='line', marker='o', color='black', legend=False)\n",
    "plt.title('Revenue over years')\n",
    "plt.xlabel('Year')\n",
    "plt.ylabel('Revenue')\n",
    "plt.grid()\n",
    "plt.show()"
   ]
  },
  {
   "cell_type": "markdown",
   "id": "bb31d678",
   "metadata": {},
   "source": [
    "## Line Chart: Revenue over Years\n",
    "\n",
    "Line charts are useful for showing trends over time. Use pandas' `DataFrame.plot(kind='line')` for quick exploration."
   ]
  },
  {
   "cell_type": "code",
   "execution_count": null,
   "id": "3da065b4",
   "metadata": {},
   "outputs": [
    {
     "data": {
      "text/html": [
       "<div>\n",
       "<style scoped>\n",
       "    .dataframe tbody tr th:only-of-type {\n",
       "        vertical-align: middle;\n",
       "    }\n",
       "\n",
       "    .dataframe tbody tr th {\n",
       "        vertical-align: top;\n",
       "    }\n",
       "\n",
       "    .dataframe thead th {\n",
       "        text-align: right;\n",
       "    }\n",
       "</style>\n",
       "<table border=\"1\" class=\"dataframe\">\n",
       "  <thead>\n",
       "    <tr style=\"text-align: right;\">\n",
       "      <th></th>\n",
       "      <th>City</th>\n",
       "      <th>Population</th>\n",
       "    </tr>\n",
       "  </thead>\n",
       "  <tbody>\n",
       "    <tr>\n",
       "      <th>0</th>\n",
       "      <td>New York</td>\n",
       "      <td>850000</td>\n",
       "    </tr>\n",
       "    <tr>\n",
       "      <th>1</th>\n",
       "      <td>London</td>\n",
       "      <td>890000</td>\n",
       "    </tr>\n",
       "    <tr>\n",
       "      <th>2</th>\n",
       "      <td>Tokyo</td>\n",
       "      <td>900000</td>\n",
       "    </tr>\n",
       "    <tr>\n",
       "      <th>3</th>\n",
       "      <td>Sydney</td>\n",
       "      <td>520000</td>\n",
       "    </tr>\n",
       "    <tr>\n",
       "      <th>4</th>\n",
       "      <td>Paris</td>\n",
       "      <td>1100000</td>\n",
       "    </tr>\n",
       "  </tbody>\n",
       "</table>\n",
       "</div>"
      ],
      "text/plain": [
       "       City  Population\n",
       "0  New York      850000\n",
       "1    London      890000\n",
       "2     Tokyo      900000\n",
       "3    Sydney      520000\n",
       "4     Paris     1100000"
      ]
     },
     "execution_count": 10,
     "metadata": {},
     "output_type": "execute_result"
    }
   ],
   "source": [
    "# Bar chart example data\n",
    "data = {\n",
    "    'City': ['New York', 'London', 'Tokyo', 'Sydney', 'Paris'],\n",
    "    'Population': [850000, 890000, 900000, 520000, 1100000]\n",
    "}\n",
    "\n",
    "df_cities = pd.DataFrame(data)\n",
    "df_cities"
   ]
  },
  {
   "cell_type": "code",
   "execution_count": null,
   "id": "f9c6a872",
   "metadata": {},
   "outputs": [
    {
     "data": {
      "image/png": "[encoded data removed]",
      "text/plain": [
       "<Figure size 640x480 with 1 Axes>"
      ]
     },
     "metadata": {},
     "output_type": "display_data"
    }
   ],
   "source": [
    "# Bar chart (sorted by population)\n",
    "df_cities.sort_values(by='Population', ascending=False).plot(x='City', y='Population', kind='bar', color='tab:red', legend=False)\n",
    "plt.title('Population in Major Cities')\n",
    "plt.xlabel('City')\n",
    "plt.ylabel('Population')\n",
    "plt.tight_layout()\n",
    "plt.show()"
   ]
  },
  {
   "cell_type": "markdown",
   "id": "22c4682b",
   "metadata": {},
   "source": [
    "## Scatter Plot: Relationship between X and Y\n",
    "\n",
    "Scatter plots are useful to visualize relationships between two numeric variables. Use `plt.scatter` or `DataFrame.plot(kind='scatter')`."
   ]
  },
  {
   "cell_type": "code",
   "execution_count": null,
   "id": "53ea5a62",
   "metadata": {},
   "outputs": [
    {
     "data": {
      "text/html": [
       "<div>\n",
       "<style scoped>\n",
       "    .dataframe tbody tr th:only-of-type {\n",
       "        vertical-align: middle;\n",
       "    }\n",
       "\n",
       "    .dataframe tbody tr th {\n",
       "        vertical-align: top;\n",
       "    }\n",
       "\n",
       "    .dataframe thead th {\n",
       "        text-align: right;\n",
       "    }\n",
       "</style>\n",
       "<table border=\"1\" class=\"dataframe\">\n",
       "  <thead>\n",
       "    <tr style=\"text-align: right;\">\n",
       "      <th></th>\n",
       "      <th>X</th>\n",
       "      <th>Y</th>\n",
       "    </tr>\n",
       "  </thead>\n",
       "  <tbody>\n",
       "    <tr>\n",
       "      <th>0</th>\n",
       "      <td>1</td>\n",
       "      <td>2</td>\n",
       "    </tr>\n",
       "    <tr>\n",
       "      <th>1</th>\n",
       "      <td>2</td>\n",
       "      <td>3</td>\n",
       "    </tr>\n",
       "    <tr>\n",
       "      <th>2</th>\n",
       "      <td>3</td>\n",
       "      <td>4</td>\n",
       "    </tr>\n",
       "    <tr>\n",
       "      <th>3</th>\n",
       "      <td>4</td>\n",
       "      <td>8</td>\n",
       "    </tr>\n",
       "    <tr>\n",
       "      <th>4</th>\n",
       "      <td>5</td>\n",
       "      <td>10</td>\n",
       "    </tr>\n",
       "  </tbody>\n",
       "</table>\n",
       "</div>"
      ],
      "text/plain": [
       "   X   Y\n",
       "0  1   2\n",
       "1  2   3\n",
       "2  3   4\n",
       "3  4   8\n",
       "4  5  10"
      ]
     },
     "execution_count": 15,
     "metadata": {},
     "output_type": "execute_result"
    }
   ],
   "source": [
    "# Scatter data\n",
    "df_scatter = pd.DataFrame({'X': [1, 2, 3, 4, 5], 'Y': [2, 3, 4, 8, 10]})\n",
    "df_scatter"
   ]
  },
  {
   "cell_type": "code",
   "execution_count": null,
   "id": "49dfc6e7",
   "metadata": {},
   "outputs": [
    {
     "data": {
      "image/png": "[encoded data removed]",
      "text/plain": [
       "<Figure size 640x480 with 1 Axes>"
      ]
     },
     "metadata": {},
     "output_type": "display_data"
    }
   ],
   "source": [
    "# Scatter plot\n",
    "plt.scatter(df_scatter['X'], df_scatter['Y'], color='g')\n",
    "plt.title('Scatter: X vs Y')\n",
    "plt.xlabel('X')\n",
    "plt.ylabel('Y')\n",
    "plt.grid(alpha=0.3)\n",
    "plt.show()"
   ]
  },
  {
   "cell_type": "markdown",
   "id": "3002f611",
   "metadata": {},
   "source": [
    "## Best Practices\n",
    "\n",
    "- Use descriptive titles and axis labels.\n",
    "- Prefer `plt.tight_layout()` after plotting to avoid overlap in labels.\n",
    "- For large datasets, consider sampling or using alpha blending (`alpha`) to avoid over-plotting.\n",
    "- Use color palettes from `matplotlib` or `seaborn` for consistent visuals."
   ]
  },
  {
   "cell_type": "markdown",
   "id": "7cccd6ab",
   "metadata": {},
   "source": [
    "## Summary\n",
    "\n",
    "This notebook provided quick examples of line, bar, and scatter charts using pandas + matplotlib. Use these snippets as a starting point for exploratory data analysis and adapt styling as needed."
   ]
  }
 ],
 "metadata": {
  "kernelspec": {
   "display_name": "base",
   "language": "python",
   "name": "python3"
  },
  "language_info": {
   "codemirror_mode": {
    "name": "ipython",
    "version": 3
   },
   "file_extension": ".py",
   "mimetype": "text/x-python",
   "name": "python",
   "nbconvert_exporter": "python",
   "pygments_lexer": "ipython3",
   "version": "3.13.5"
  }
 },
 "nbformat": 4,
 "nbformat_minor": 5
}
