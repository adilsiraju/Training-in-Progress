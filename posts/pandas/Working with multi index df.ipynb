{
 "cells": [
  {
   "cell_type": "markdown",
   "id": "6e7a0fcd",
   "metadata": {},
   "source": [
    "---\n",
    "title: \"Working with MultiIndex DataFrames\"\n",
    "author: \"Mohammed Adil Siraju\"\n",
    "date: \"2025-09-23\"\n",
    "categories: [pandas, dataframe, multi-index]\n",
    "description: \"Guide to creating, inspecting, and working with MultiIndex DataFrames in pandas, including integration with NumPy.\"\n",
    "---\n",
    "# Working with MultiIndex DataFrames\n",
    "\n",
    "This notebook covers MultiIndex DataFrames in pandas: creation, inspection, and combining with NumPy arrays. MultiIndex allows hierarchical indexing for complex data structures."
   ]
  },
  {
   "cell_type": "markdown",
   "id": "b8c3d19f",
   "metadata": {},
   "source": [
    "## Introduction to MultiIndex\n",
    "\n",
    "MultiIndex in pandas allows you to have multiple levels of indexing on rows or columns. It's useful for hierarchical data like time series with multiple categories."
   ]
  },
  {
   "cell_type": "code",
   "execution_count": 9,
   "id": "59a39690",
   "metadata": {},
   "outputs": [],
   "source": [
    "import pandas as pd"
   ]
  },
  {
   "cell_type": "markdown",
   "id": "ddcbe5c8",
   "metadata": {},
   "source": [
    "## Creating a MultiIndex DataFrame\n",
    "\n",
    "Use `pd.MultiIndex.from_arrays()` to create a MultiIndex from arrays. Here, we create a DataFrame with a two-level row index."
   ]
  },
  {
   "cell_type": "code",
   "execution_count": 10,
   "id": "26dd1525",
   "metadata": {},
   "outputs": [
    {
     "data": {
      "text/html": [
       "<div>\n",
       "<style scoped>\n",
       "    .dataframe tbody tr th:only-of-type {\n",
       "        vertical-align: middle;\n",
       "    }\n",
       "\n",
       "    .dataframe tbody tr th {\n",
       "        vertical-align: top;\n",
       "    }\n",
       "\n",
       "    .dataframe thead th {\n",
       "        text-align: right;\n",
       "    }\n",
       "</style>\n",
       "<table border=\"1\" class=\"dataframe\">\n",
       "  <thead>\n",
       "    <tr style=\"text-align: right;\">\n",
       "      <th></th>\n",
       "      <th></th>\n",
       "      <th>Data</th>\n",
       "    </tr>\n",
       "    <tr>\n",
       "      <th>First</th>\n",
       "      <th>Second</th>\n",
       "      <th></th>\n",
       "    </tr>\n",
       "  </thead>\n",
       "  <tbody>\n",
       "    <tr>\n",
       "      <th rowspan=\"2\" valign=\"top\">A</th>\n",
       "      <th>1</th>\n",
       "      <td>10</td>\n",
       "    </tr>\n",
       "    <tr>\n",
       "      <th>2</th>\n",
       "      <td>20</td>\n",
       "    </tr>\n",
       "    <tr>\n",
       "      <th rowspan=\"2\" valign=\"top\">B</th>\n",
       "      <th>1</th>\n",
       "      <td>30</td>\n",
       "    </tr>\n",
       "    <tr>\n",
       "      <th>2</th>\n",
       "      <td>40</td>\n",
       "    </tr>\n",
       "  </tbody>\n",
       "</table>\n",
       "</div>"
      ],
      "text/plain": [
       "              Data\n",
       "First Second      \n",
       "A     1         10\n",
       "      2         20\n",
       "B     1         30\n",
       "      2         40"
      ]
     },
     "execution_count": 10,
     "metadata": {},
     "output_type": "execute_result"
    }
   ],
   "source": [
    "arrays = [['A','A','B','B',], [1,2,1,2]]\n",
    "index = pd.MultiIndex.from_arrays(arrays, names=('First', 'Second'))\n",
    "df = pd.DataFrame({'Data': [10,20,30,40]}, index=index)\n",
    "\n",
    "df"
   ]
  },
  {
   "cell_type": "markdown",
   "id": "a0cf8136",
   "metadata": {},
   "source": [
    "## Inspecting the MultiIndex\n",
    "\n",
    "Access the index with `df.index`. It shows the hierarchical structure."
   ]
  },
  {
   "cell_type": "code",
   "execution_count": 11,
   "id": "0c8305a5",
   "metadata": {},
   "outputs": [
    {
     "data": {
      "text/plain": [
       "MultiIndex([('A', 1),\n",
       "            ('A', 2),\n",
       "            ('B', 1),\n",
       "            ('B', 2)],\n",
       "           names=['First', 'Second'])"
      ]
     },
     "execution_count": 11,
     "metadata": {},
     "output_type": "execute_result"
    }
   ],
   "source": [
    "df.index"
   ]
  },
  {
   "cell_type": "markdown",
   "id": "ee27c875",
   "metadata": {},
   "source": [
    "## Combining pandas with NumPy\n",
    "\n",
    "Pandas integrates seamlessly with NumPy. You can create DataFrames from NumPy arrays and use NumPy functions on DataFrame data."
   ]
  },
  {
   "cell_type": "markdown",
   "id": "3c2d1cfd",
   "metadata": {},
   "source": [
    "## Creating DataFrames from NumPy Arrays\n",
    "\n",
    "Use `pd.DataFrame()` with a NumPy array to create a DataFrame. Specify column names for clarity."
   ]
  },
  {
   "cell_type": "code",
   "execution_count": 12,
   "id": "0983ba2b",
   "metadata": {},
   "outputs": [],
   "source": [
    "import numpy as np"
   ]
  },
  {
   "cell_type": "code",
   "execution_count": 13,
   "id": "2d910e8a",
   "metadata": {},
   "outputs": [
    {
     "data": {
      "text/html": [
       "<div>\n",
       "<style scoped>\n",
       "    .dataframe tbody tr th:only-of-type {\n",
       "        vertical-align: middle;\n",
       "    }\n",
       "\n",
       "    .dataframe tbody tr th {\n",
       "        vertical-align: top;\n",
       "    }\n",
       "\n",
       "    .dataframe thead th {\n",
       "        text-align: right;\n",
       "    }\n",
       "</style>\n",
       "<table border=\"1\" class=\"dataframe\">\n",
       "  <thead>\n",
       "    <tr style=\"text-align: right;\">\n",
       "      <th></th>\n",
       "      <th>Sales A</th>\n",
       "      <th>Sales B</th>\n",
       "      <th>Sales C</th>\n",
       "    </tr>\n",
       "  </thead>\n",
       "  <tbody>\n",
       "    <tr>\n",
       "      <th>0</th>\n",
       "      <td>1</td>\n",
       "      <td>2</td>\n",
       "      <td>3</td>\n",
       "    </tr>\n",
       "    <tr>\n",
       "      <th>1</th>\n",
       "      <td>4</td>\n",
       "      <td>5</td>\n",
       "      <td>6</td>\n",
       "    </tr>\n",
       "    <tr>\n",
       "      <th>2</th>\n",
       "      <td>7</td>\n",
       "      <td>8</td>\n",
       "      <td>9</td>\n",
       "    </tr>\n",
       "  </tbody>\n",
       "</table>\n",
       "</div>"
      ],
      "text/plain": [
       "   Sales A  Sales B  Sales C\n",
       "0        1        2        3\n",
       "1        4        5        6\n",
       "2        7        8        9"
      ]
     },
     "execution_count": 13,
     "metadata": {},
     "output_type": "execute_result"
    }
   ],
   "source": [
    "array_data = np.array([[1,2,3], [4,5,6], [7,8,9]])\n",
    "df_np = pd.DataFrame(array_data, columns=['Sales A', 'Sales B', 'Sales C'])\n",
    "\n",
    "df_np"
   ]
  },
  {
   "cell_type": "markdown",
   "id": "20bbea8f",
   "metadata": {},
   "source": [
    "## Best Practices\n",
    "\n",
    "- Use meaningful names for MultiIndex levels (e.g., 'Category', 'Subcategory').\n",
    "- When selecting data, use `.loc[]` with tuples for MultiIndex access.\n",
    "- Reset index with `df.reset_index()` if you need to flatten the hierarchy.\n",
    "\n",
    "## Summary\n",
    "\n",
    "This notebook demonstrated creating and inspecting MultiIndex DataFrames and integrating pandas with NumPy arrays. MultiIndex is powerful for complex data but can be tricky—practice with real datasets!"
   ]
  }
 ],
 "metadata": {
  "kernelspec": {
   "display_name": "base",
   "language": "python",
   "name": "python3"
  },
  "language_info": {
   "codemirror_mode": {
    "name": "ipython",
    "version": 3
   },
   "file_extension": ".py",
   "mimetype": "text/x-python",
   "name": "python",
   "nbconvert_exporter": "python",
   "pygments_lexer": "ipython3",
   "version": "3.13.5"
  }
 },
 "nbformat": 4,
 "nbformat_minor": 5
}
