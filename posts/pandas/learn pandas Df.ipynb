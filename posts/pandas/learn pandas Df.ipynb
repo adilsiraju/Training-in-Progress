{
 "cells": [
  {
   "cell_type": "markdown",
   "id": "676e1548",
   "metadata": {},
   "source": [
    "---\n",
    "title: \"Pandas: Intro to DataFrames\"\n",
    "author: \"Mohammed Adil Siraju\"\n",
    "date: \"2025-09-16\"\n",
    "categories: [pandas, dataframe]\n",
    "description: \"Understanding basics of Pandas DataFrames, a core data structure for data analysis in Python.\"\n",
    "---"
   ]
  },
  {
   "cell_type": "markdown",
   "id": "f33cf9ae",
   "metadata": {},
   "source": [
    "DataFrames are the core data structure in pandas for tabular data. This notebook covers creating DataFrames from various sources and basic operations.\n",
    "\n",
    "You will learn how to:\n",
    "- Import essential libraries (Pandas, Seaborn, Matplotlib, NumPy)\n",
    "- Create DataFrames from dictionaries, lists, and NumPy arrays\n",
    "- View and manipulate DataFrames\n",
    "- Export DataFrames to CSV and Excel files"
   ]
  },
  {
   "cell_type": "markdown",
   "id": "6f1deffd",
   "metadata": {},
   "source": [
    "## Importing Libraries\n",
    "\n",
    "Start by importing pandas and other useful libraries for data analysis and visualization."
   ]
  },
  {
   "cell_type": "code",
   "execution_count": 1,
   "id": "cc7ce097",
   "metadata": {},
   "outputs": [],
   "source": [
    "import pandas as pd\n",
    "import seaborn as sns\n",
    "import matplotlib.pyplot as plt"
   ]
  },
  {
   "cell_type": "markdown",
   "id": "81bf9e1a",
   "metadata": {},
   "source": [
    "## Creating DataFrames from Dictionaries\n",
    "\n",
    "DataFrames can be created from Python dictionaries where keys become column names."
   ]
  },
  {
   "cell_type": "code",
   "execution_count": 2,
   "id": "88d1e1ab",
   "metadata": {},
   "outputs": [
    {
     "data": {
      "text/plain": [
       "{'Name': ['Adil', 'Aman', 'Ziya', 'Zahra'],\n",
       " 'Age': [23, 19, 15, 9],\n",
       " 'City': ['Matannur', 'Vellore', 'Tly', 'Knr']}"
      ]
     },
     "execution_count": 2,
     "metadata": {},
     "output_type": "execute_result"
    }
   ],
   "source": [
    "data = {'Name': ['Adil', 'Aman', 'Ziya', 'Zahra'],\n",
    "        'Age': [23,19,15,9],\n",
    "        'City': ['Matannur','Vellore', 'Tly', 'Knr' ]\n",
    "        }\n",
    "data"
   ]
  },
  {
   "cell_type": "code",
   "execution_count": 3,
   "id": "a26df912",
   "metadata": {},
   "outputs": [
    {
     "data": {
      "text/html": [
       "<div>\n",
       "<style scoped>\n",
       "    .dataframe tbody tr th:only-of-type {\n",
       "        vertical-align: middle;\n",
       "    }\n",
       "\n",
       "    .dataframe tbody tr th {\n",
       "        vertical-align: top;\n",
       "    }\n",
       "\n",
       "    .dataframe thead th {\n",
       "        text-align: right;\n",
       "    }\n",
       "</style>\n",
       "<table border=\"1\" class=\"dataframe\">\n",
       "  <thead>\n",
       "    <tr style=\"text-align: right;\">\n",
       "      <th></th>\n",
       "      <th>Name</th>\n",
       "      <th>Age</th>\n",
       "      <th>City</th>\n",
       "    </tr>\n",
       "  </thead>\n",
       "  <tbody>\n",
       "    <tr>\n",
       "      <th>0</th>\n",
       "      <td>Adil</td>\n",
       "      <td>23</td>\n",
       "      <td>Matannur</td>\n",
       "    </tr>\n",
       "    <tr>\n",
       "      <th>1</th>\n",
       "      <td>Aman</td>\n",
       "      <td>19</td>\n",
       "      <td>Vellore</td>\n",
       "    </tr>\n",
       "    <tr>\n",
       "      <th>2</th>\n",
       "      <td>Ziya</td>\n",
       "      <td>15</td>\n",
       "      <td>Tly</td>\n",
       "    </tr>\n",
       "    <tr>\n",
       "      <th>3</th>\n",
       "      <td>Zahra</td>\n",
       "      <td>9</td>\n",
       "      <td>Knr</td>\n",
       "    </tr>\n",
       "  </tbody>\n",
       "</table>\n",
       "</div>"
      ],
      "text/plain": [
       "    Name  Age      City\n",
       "0   Adil   23  Matannur\n",
       "1   Aman   19   Vellore\n",
       "2   Ziya   15       Tly\n",
       "3  Zahra    9       Knr"
      ]
     },
     "execution_count": 3,
     "metadata": {},
     "output_type": "execute_result"
    }
   ],
   "source": [
    "df = pd.DataFrame(data)\n",
    "df"
   ]
  },
  {
   "cell_type": "markdown",
   "id": "949404be",
   "metadata": {},
   "source": [
    "## Creating DataFrames from Lists\n",
    "\n",
    "You can also create DataFrames from lists of lists, specifying column names."
   ]
  },
  {
   "cell_type": "code",
   "execution_count": 4,
   "id": "da03a30a",
   "metadata": {},
   "outputs": [
    {
     "data": {
      "text/plain": [
       "[['Adil', 23, 'Mattanur'],\n",
       " ['Aman', 19, 'Vellore'],\n",
       " ['Siraj', 55, 'Tly'],\n",
       " ['Faritha', 40, 'Chokli']]"
      ]
     },
     "execution_count": 4,
     "metadata": {},
     "output_type": "execute_result"
    }
   ],
   "source": [
    "data_list = [ \n",
    "    ['Adil', 23, 'Mattanur'],\n",
    "    ['Aman', 19, 'Vellore'],\n",
    "    ['Siraj', 55, 'Tly'],\n",
    "    ['Faritha', 40, 'Chokli']\n",
    "    ]\n",
    "\n",
    "data_list"
   ]
  },
  {
   "cell_type": "code",
   "execution_count": 5,
   "id": "2e69bf9e",
   "metadata": {},
   "outputs": [
    {
     "data": {
      "text/html": [
       "<div>\n",
       "<style scoped>\n",
       "    .dataframe tbody tr th:only-of-type {\n",
       "        vertical-align: middle;\n",
       "    }\n",
       "\n",
       "    .dataframe tbody tr th {\n",
       "        vertical-align: top;\n",
       "    }\n",
       "\n",
       "    .dataframe thead th {\n",
       "        text-align: right;\n",
       "    }\n",
       "</style>\n",
       "<table border=\"1\" class=\"dataframe\">\n",
       "  <thead>\n",
       "    <tr style=\"text-align: right;\">\n",
       "      <th></th>\n",
       "      <th>Name</th>\n",
       "      <th>Age</th>\n",
       "      <th>City</th>\n",
       "    </tr>\n",
       "  </thead>\n",
       "  <tbody>\n",
       "    <tr>\n",
       "      <th>0</th>\n",
       "      <td>Adil</td>\n",
       "      <td>23</td>\n",
       "      <td>Mattanur</td>\n",
       "    </tr>\n",
       "    <tr>\n",
       "      <th>1</th>\n",
       "      <td>Aman</td>\n",
       "      <td>19</td>\n",
       "      <td>Vellore</td>\n",
       "    </tr>\n",
       "    <tr>\n",
       "      <th>2</th>\n",
       "      <td>Siraj</td>\n",
       "      <td>55</td>\n",
       "      <td>Tly</td>\n",
       "    </tr>\n",
       "    <tr>\n",
       "      <th>3</th>\n",
       "      <td>Faritha</td>\n",
       "      <td>40</td>\n",
       "      <td>Chokli</td>\n",
       "    </tr>\n",
       "  </tbody>\n",
       "</table>\n",
       "</div>"
      ],
      "text/plain": [
       "      Name  Age      City\n",
       "0     Adil   23  Mattanur\n",
       "1     Aman   19   Vellore\n",
       "2    Siraj   55       Tly\n",
       "3  Faritha   40    Chokli"
      ]
     },
     "execution_count": 5,
     "metadata": {},
     "output_type": "execute_result"
    }
   ],
   "source": [
    "df_list = pd.DataFrame(data_list, columns=['Name', 'Age', 'City'])\n",
    "df_list"
   ]
  },
  {
   "cell_type": "markdown",
   "id": "4f508854",
   "metadata": {},
   "source": [
    "## Creating DataFrames from NumPy Arrays\n",
    "\n",
    "Pandas integrates with NumPy; create DataFrames from arrays with column names."
   ]
  },
  {
   "cell_type": "code",
   "execution_count": 6,
   "id": "7360070e",
   "metadata": {},
   "outputs": [],
   "source": [
    "import numpy as np"
   ]
  },
  {
   "cell_type": "code",
   "execution_count": 7,
   "id": "ab66795a",
   "metadata": {},
   "outputs": [
    {
     "data": {
      "text/plain": [
       "array([[1, 2, 3],\n",
       "       [4, 5, 6],\n",
       "       [7, 8, 9]])"
      ]
     },
     "execution_count": 7,
     "metadata": {},
     "output_type": "execute_result"
    }
   ],
   "source": [
    "data_array = np.array([[1,2,3],\n",
    "                       [4,5,6],\n",
    "                       [7,8,9]])\n",
    "\n",
    "data_array"
   ]
  },
  {
   "cell_type": "code",
   "execution_count": 8,
   "id": "3aa4172f",
   "metadata": {},
   "outputs": [
    {
     "data": {
      "text/html": [
       "<div>\n",
       "<style scoped>\n",
       "    .dataframe tbody tr th:only-of-type {\n",
       "        vertical-align: middle;\n",
       "    }\n",
       "\n",
       "    .dataframe tbody tr th {\n",
       "        vertical-align: top;\n",
       "    }\n",
       "\n",
       "    .dataframe thead th {\n",
       "        text-align: right;\n",
       "    }\n",
       "</style>\n",
       "<table border=\"1\" class=\"dataframe\">\n",
       "  <thead>\n",
       "    <tr style=\"text-align: right;\">\n",
       "      <th></th>\n",
       "      <th>A</th>\n",
       "      <th>B</th>\n",
       "      <th>C</th>\n",
       "    </tr>\n",
       "  </thead>\n",
       "  <tbody>\n",
       "    <tr>\n",
       "      <th>0</th>\n",
       "      <td>1</td>\n",
       "      <td>2</td>\n",
       "      <td>3</td>\n",
       "    </tr>\n",
       "    <tr>\n",
       "      <th>1</th>\n",
       "      <td>4</td>\n",
       "      <td>5</td>\n",
       "      <td>6</td>\n",
       "    </tr>\n",
       "    <tr>\n",
       "      <th>2</th>\n",
       "      <td>7</td>\n",
       "      <td>8</td>\n",
       "      <td>9</td>\n",
       "    </tr>\n",
       "  </tbody>\n",
       "</table>\n",
       "</div>"
      ],
      "text/plain": [
       "   A  B  C\n",
       "0  1  2  3\n",
       "1  4  5  6\n",
       "2  7  8  9"
      ]
     },
     "execution_count": 8,
     "metadata": {},
     "output_type": "execute_result"
    }
   ],
   "source": [
    "df_array = pd.DataFrame(data_array, columns=['A', 'B', 'C'])\n",
    "df_array"
   ]
  },
  {
   "cell_type": "markdown",
   "id": "9d5739b1",
   "metadata": {},
   "source": [
    "## Exporting DataFrames\n",
    "\n",
    "Save DataFrames to files like CSV or Excel for sharing or further analysis."
   ]
  },
  {
   "cell_type": "code",
   "execution_count": 9,
   "id": "5c16069c",
   "metadata": {},
   "outputs": [],
   "source": [
    "df.to_csv('example.csv', index=False)"
   ]
  },
  {
   "cell_type": "code",
   "execution_count": 10,
   "id": "632f5947",
   "metadata": {},
   "outputs": [],
   "source": [
    "df.to_excel('example.xlsx', index=False)"
   ]
  },
  {
   "cell_type": "markdown",
   "id": "93a4a203",
   "metadata": {},
   "source": [
    "## Best Practices\n",
    "\n",
    "- Use descriptive column names.\n",
    "- Check data types with `df.dtypes` after creation.\n",
    "- Handle missing data appropriately.\n",
    "\n",
    "## Summary\n",
    "\n",
    "This notebook introduced creating and exporting DataFrames. DataFrames are versatile for data manipulation—explore more operations next!"
   ]
  }
 ],
 "metadata": {
  "kernelspec": {
   "display_name": "base",
   "language": "python",
   "name": "python3"
  },
  "language_info": {
   "codemirror_mode": {
    "name": "ipython",
    "version": 3
   },
   "file_extension": ".py",
   "mimetype": "text/x-python",
   "name": "python",
   "nbconvert_exporter": "python",
   "pygments_lexer": "ipython3",
   "version": "3.13.5"
  }
 },
 "nbformat": 4,
 "nbformat_minor": 5
}
