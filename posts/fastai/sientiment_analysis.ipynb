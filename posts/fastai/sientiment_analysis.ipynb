{
 "cells": [
  {
   "cell_type": "markdown",
   "id": "77e1a01f",
   "metadata": {},
   "source": [
    "---\n",
    "title: \"Sentiment Analysis with DistilBERT\"\n",
    "author: \"Mohammed Adil Siraju\"\n",
    "date: \"2025-09-26\"\n",
    "categories: [nlp, transformers, sentiment-analysis, distilbert]\n",
    "description: \"Using Hugging Face transformers pipeline for sentiment analysis with DistilBERT model.\"\n",
    "---\n",
    "This notebook demonstrates how to perform sentiment analysis using Hugging Face's pipeline API with a pre-trained DistilBERT model."
   ]
  },
  {
   "cell_type": "markdown",
   "id": "d9d29533",
   "metadata": {},
   "source": [
    "## Importing Pipeline\n",
    "\n",
    "Import the pipeline function from transformers to create a ready-to-use sentiment analysis model."
   ]
  },
  {
   "cell_type": "code",
   "execution_count": 1,
   "id": "cf021591",
   "metadata": {},
   "outputs": [],
   "source": [
    "from transformers import pipeline"
   ]
  },
  {
   "cell_type": "markdown",
   "id": "8d013e8c",
   "metadata": {},
   "source": [
    "## Creating Sentiment Analysis Pipeline\n",
    "\n",
    "Create a sentiment analysis pipeline using DistilBERT, a smaller and faster version of BERT that's been fine-tuned on the Stanford Sentiment Treebank dataset."
   ]
  },
  {
   "cell_type": "code",
   "execution_count": 3,
   "id": "b9b87c30",
   "metadata": {},
   "outputs": [
    {
     "data": {
      "application/vnd.jupyter.widget-view+json": {
       "model_id": "37bce5d723614535a533501d3b40adea",
       "version_major": 2,
       "version_minor": 0
      },
      "text/plain": [
       "model.safetensors:   0%|          | 0.00/268M [00:00<?, ?B/s]"
      ]
     },
     "metadata": {},
     "output_type": "display_data"
    },
    {
     "data": {
      "application/vnd.jupyter.widget-view+json": {
       "model_id": "fc77a9a4d54941d0b812c20f6a9c2ba2",
       "version_major": 2,
       "version_minor": 0
      },
      "text/plain": [
       "tokenizer_config.json:   0%|          | 0.00/48.0 [00:00<?, ?B/s]"
      ]
     },
     "metadata": {},
     "output_type": "display_data"
    },
    {
     "data": {
      "application/vnd.jupyter.widget-view+json": {
       "model_id": "a49d0848dfd841aa96d09c10ccb7ea4d",
       "version_major": 2,
       "version_minor": 0
      },
      "text/plain": [
       "vocab.txt:   0%|          | 0.00/232k [00:00<?, ?B/s]"
      ]
     },
     "metadata": {},
     "output_type": "display_data"
    },
    {
     "name": "stderr",
     "output_type": "stream",
     "text": [
      "Device set to use cuda:0\n"
     ]
    }
   ],
   "source": [
    "sentiment_analyzer = pipeline('sentiment-analysis', model='distilbert-base-uncased-finetuned-sst-2-english')"
   ]
  },
  {
   "cell_type": "code",
   "execution_count": 4,
   "id": "074c3303",
   "metadata": {},
   "outputs": [
    {
     "name": "stdout",
     "output_type": "stream",
     "text": [
      "{'label': 'POSITIVE', 'score': 0.9997660517692566}\n",
      "{'label': 'NEGATIVE', 'score': 0.9990317821502686}\n"
     ]
    }
   ],
   "source": [
    "texts = [\n",
    "    'I love to play and watch cricket',\n",
    "    'I hate when virat kohli misses a century'\n",
    "]\n",
    "\n",
    "results = sentiment_analyzer(texts)\n",
    "for res in results:\n",
    "    print(res)"
   ]
  },
  {
   "cell_type": "markdown",
   "id": "b19601aa",
   "metadata": {},
   "source": [
    "## Understanding the Results\n",
    "\n",
    "The model returns:\n",
    "- **LABEL**: Either 'POSITIVE' or 'NEGATIVE'\n",
    "- **Score**: Confidence level (0-1) for the prediction\n",
    "\n",
    "Higher scores indicate more confidence in the classification.\n",
    "\n",
    "## Best Practices\n",
    "\n",
    "- Test with various text types to understand model behavior\n",
    "- Consider domain-specific fine-tuning for specialized use cases\n",
    "- Be aware that models may have biases based on training data\n",
    "\n",
    "## Summary\n",
    "\n",
    "This notebook demonstrated:\n",
    "- Using Hugging Face pipeline for sentiment analysis\n",
    "- Working with the DistilBERT model\n",
    "- Analyzing multiple texts at once\n",
    "- Interpreting confidence scores\n",
    "\n",
    "The pipeline API makes sentiment analysis accessible with just a few lines of code!"
   ]
  },
  {
   "cell_type": "markdown",
   "id": "9eb76251",
   "metadata": {},
   "source": [
    "## Testing with Sample Texts\n",
    "\n",
    "Test the sentiment analyzer with cricket-related texts to see how it classifies positive and negative sentiments."
   ]
  }
 ],
 "metadata": {
  "kernelspec": {
   "display_name": "fastai",
   "language": "python",
   "name": "python3"
  },
  "language_info": {
   "codemirror_mode": {
    "name": "ipython",
    "version": 3
   },
   "file_extension": ".py",
   "mimetype": "text/x-python",
   "name": "python",
   "nbconvert_exporter": "python",
   "pygments_lexer": "ipython3",
   "version": "3.10.18"
  }
 },
 "nbformat": 4,
 "nbformat_minor": 5
}
