{
 "cells": [
  {
   "cell_type": "markdown",
   "id": "1dce5ba1",
   "metadata": {},
   "source": [
    "# Medical Document Classifier\n",
    "\n",
    "This notebook demonstrates how to build a medical document classifier using the Hugging Face transformers library. We'll classify medical texts into different categories like:\n",
    "- Clinical Notes\n",
    "- Research Papers\n",
    "- Patient Records\n",
    "- Medical Reports\n",
    "- Prescriptions"
   ]
  },
  {
   "cell_type": "code",
   "execution_count": 1,
   "id": "b681c6c9",
   "metadata": {},
   "outputs": [],
   "source": [
    "from transformers import pipeline\n",
    "from datasets import load_dataset\n",
    "import pandas as pd"
   ]
  },
  {
   "cell_type": "code",
   "execution_count": 2,
   "id": "f933212f",
   "metadata": {},
   "outputs": [
    {
     "data": {
      "application/vnd.jupyter.widget-view+json": {
       "model_id": "4d7bd613a9c148cd8cb744f2786bb44f",
       "version_major": 2,
       "version_minor": 0
      },
      "text/plain": [
       "README.md:   0%|          | 0.00/192 [00:00<?, ?B/s]"
      ]
     },
     "metadata": {},
     "output_type": "display_data"
    },
    {
     "name": "stderr",
     "output_type": "stream",
     "text": [
      "Repo card metadata block was not found. Setting CardData to empty.\n"
     ]
    },
    {
     "data": {
      "application/vnd.jupyter.widget-view+json": {
       "model_id": "7987009f29754c6d8d2efb91b7744ce3",
       "version_major": 2,
       "version_minor": 0
      },
      "text/plain": [
       "medical_cases_train.csv: 0.00B [00:00, ?B/s]"
      ]
     },
     "metadata": {},
     "output_type": "display_data"
    },
    {
     "data": {
      "application/vnd.jupyter.widget-view+json": {
       "model_id": "fe467c9297124ec8b900fe50e9e257b0",
       "version_major": 2,
       "version_minor": 0
      },
      "text/plain": [
       "medical_cases_validation.csv: 0.00B [00:00, ?B/s]"
      ]
     },
     "metadata": {},
     "output_type": "display_data"
    },
    {
     "data": {
      "application/vnd.jupyter.widget-view+json": {
       "model_id": "1787c3290aa54d15a9ca21cdee7d080c",
       "version_major": 2,
       "version_minor": 0
      },
      "text/plain": [
       "medical_cases_test.csv: 0.00B [00:00, ?B/s]"
      ]
     },
     "metadata": {},
     "output_type": "display_data"
    },
    {
     "data": {
      "application/vnd.jupyter.widget-view+json": {
       "model_id": "c310dde3d5a34d85add8501040128853",
       "version_major": 2,
       "version_minor": 0
      },
      "text/plain": [
       "Generating train split:   0%|          | 0/1724 [00:00<?, ? examples/s]"
      ]
     },
     "metadata": {},
     "output_type": "display_data"
    },
    {
     "data": {
      "application/vnd.jupyter.widget-view+json": {
       "model_id": "0682500100764f6194a39fd44d2aac6b",
       "version_major": 2,
       "version_minor": 0
      },
      "text/plain": [
       "Generating validation split:   0%|          | 0/370 [00:00<?, ? examples/s]"
      ]
     },
     "metadata": {},
     "output_type": "display_data"
    },
    {
     "data": {
      "application/vnd.jupyter.widget-view+json": {
       "model_id": "69b6401dd5c3494f88f1ffebb44b4623",
       "version_major": 2,
       "version_minor": 0
      },
      "text/plain": [
       "Generating test split:   0%|          | 0/370 [00:00<?, ? examples/s]"
      ]
     },
     "metadata": {},
     "output_type": "display_data"
    },
    {
     "name": "stdout",
     "output_type": "stream",
     "text": [
      "Dataset keys: ['train', 'validation', 'test']\n",
      "Train dataset size: 1724\n",
      "\n",
      "Dataset features:\n",
      "{'description': Value('string'), 'transcription': Value('string'), 'sample_name': Value('string'), 'medical_specialty': Value('string'), 'keywords': Value('string')}\n",
      "\n",
      "First 3 examples:\n",
      "\n",
      "Example 1:\n",
      "description: Pacemaker ICD interrogation.  Severe nonischemic cardiomyopathy with prior ventricular tachycardia.\n",
      "transcription: PROCEDURE NOTE: , Pacemaker ICD interrogation.,HISTORY OF PRESENT ILLNESS: , The patient is a 67-year-old gentleman who was admitted to the hospital.  He has had ICD pacemaker implantation.  This is a...\n",
      "sample_name: Pacemaker Interrogation\n",
      "medical_specialty: Cardiovascular / Pulmonary\n",
      "keywords: cardiovascular / pulmonary, cardiomyopathy, ventricular, tachycardia, pacemaker icd interrogation, millivolts, impendence, interrogation, pacemaker,\n",
      "\n",
      "Example 2:\n",
      "description: Erythema of the right knee and leg, possible septic knee. Aspiration through the anterolateral portal of knee joint.\n",
      "transcription: PREOPERATIVE DIAGNOSES: , Erythema of the right knee and leg, possible septic knee.,POSTOPERATIVE DIAGNOSES:,  Erythema of the right knee superficial and leg, right septic knee ruled out.,INDICATIONS:...\n",
      "sample_name: Aspiration - Knee Joint\n",
      "medical_specialty: Orthopedic\n",
      "keywords: orthopedic, knee and leg, anterolateral portal, emergency department, spinal needle, septic knee, knee joint, knee, emergency, department, gauge, spinal, needle, aspiration, anterolateral, portal, asp...\n",
      "\n",
      "Example 3:\n",
      "description: Left cardiac catheterization with selective right and left coronary angiography.   Post infarct angina.\n",
      "transcription: PREOPERATIVE DIAGNOSIS: , Post infarct angina.,TYPE OF PROCEDURE: , Left cardiac catheterization with selective right and left coronary angiography.,PROCEDURE: , After informed consent was obtained, t...\n",
      "sample_name: Cardiac Cath & Selective Coronary Angiography\n",
      "medical_specialty: Cardiovascular / Pulmonary\n",
      "keywords: cardiovascular / pulmonary, selective, angiography, post infarct angina, engaged cineangiograms, coronary angiography, hemodynamic monitoring, cardiac catheterization, catheterization, cineangiograms,...\n"
     ]
    }
   ],
   "source": [
    "# Load the medical cases classification dataset\n",
    "dataset = load_dataset(\"hpe-ai/medical-cases-classification-tutorial\")\n",
    "\n",
    "# Display basic information about the dataset\n",
    "print(f\"Dataset keys: {list(dataset.keys())}\")\n",
    "print(f\"Train dataset size: {len(dataset['train'])}\")\n",
    "\n",
    "# Show the structure of the dataset\n",
    "print(\"\\nDataset features:\")\n",
    "print(dataset['train'].features)\n",
    "\n",
    "# Display first few examples\n",
    "print(\"\\nFirst 3 examples:\")\n",
    "for i in range(3):\n",
    "    example = dataset['train'][i]\n",
    "    print(f\"\\nExample {i+1}:\")\n",
    "    for key, value in example.items():\n",
    "        if isinstance(value, str) and len(value) > 200:\n",
    "            print(f\"{key}: {value[:200]}...\")\n",
    "        else:\n",
    "            print(f\"{key}: {value}\")"
   ]
  },
  {
   "cell_type": "code",
   "execution_count": 3,
   "id": "d06f2bb0",
   "metadata": {},
   "outputs": [
    {
     "name": "stdout",
     "output_type": "stream",
     "text": [
      "Selected 10 medical texts for analysis\n",
      "Medical specialties found: {'Neurology', 'Orthopedic', 'Nephrology', 'ENT - Otolaryngology', 'Obstetrics / Gynecology', 'Cardiovascular / Pulmonary', 'Ophthalmology', 'Gastroenterology'}\n",
      "\n",
      "Example text: Pacemaker ICD interrogation.  Severe nonischemic cardiomyopathy with prior ventricular tachycardia.. PROCEDURE NOTE: , Pacemaker ICD interrogation.,HISTORY OF PRESENT ILLNESS: , The patient is a 67-ye...\n",
      "Actual specialty: Cardiovascular / Pulmonary\n",
      "Sample name: Pacemaker Interrogation\n"
     ]
    }
   ],
   "source": [
    "# Since the dataset already has medical specialties, let's use that for classification\n",
    "# We'll demonstrate with a subset and show how to use the actual medical specialty labels\n",
    "\n",
    "# Let's work with a sample of the dataset for demonstration\n",
    "sample_size = 10\n",
    "train_sample = dataset['train'].select(range(sample_size))\n",
    "\n",
    "# Extract the medical texts and their actual labels\n",
    "medical_texts = []\n",
    "actual_specialties = []\n",
    "sample_names = []\n",
    "\n",
    "for i in range(sample_size):\n",
    "    description = train_sample[i]['description']\n",
    "    transcription = train_sample[i]['transcription'][:300]  # First 300 chars of transcription\n",
    "    combined_text = f\"{description}. {transcription}\"\n",
    "    \n",
    "    medical_texts.append(combined_text)\n",
    "    actual_specialties.append(train_sample[i]['medical_specialty'])\n",
    "    sample_names.append(train_sample[i]['sample_name'])\n",
    "\n",
    "print(f\"Selected {len(medical_texts)} medical texts for analysis\")\n",
    "print(f\"Medical specialties found: {set(actual_specialties)}\")\n",
    "print(f\"\\nExample text: {medical_texts[0][:200]}...\")\n",
    "print(f\"Actual specialty: {actual_specialties[0]}\")\n",
    "print(f\"Sample name: {sample_names[0]}\")"
   ]
  },
  {
   "cell_type": "code",
   "execution_count": 5,
   "id": "ba86d2bb",
   "metadata": {},
   "outputs": [
    {
     "name": "stdout",
     "output_type": "stream",
     "text": [
      "Medical Document Classification Results\n",
      "============================================================\n",
      "\n",
      "Document 1: Pacemaker Interrogation\n",
      "Text: Pacemaker ICD interrogation.  Severe nonischemic cardiomyopathy with prior ventricular tachycardia.. PROCEDURE NOTE: , Pacemaker ICD interrogation.,HI...\n",
      "Actual Medical Specialty: Cardiovascular / Pulmonary\n",
      "Keywords: cardiovascular / pulmonary, cardiomyopathy, ventricular, tachycardia, pacemaker icd interrogation, m...\n",
      "----------------------------------------\n",
      "\n",
      "Document 2: Aspiration - Knee Joint\n",
      "Text: Erythema of the right knee and leg, possible septic knee. Aspiration through the anterolateral portal of knee joint.. PREOPERATIVE DIAGNOSES: , Erythe...\n",
      "Actual Medical Specialty: Orthopedic\n",
      "Keywords: orthopedic, knee and leg, anterolateral portal, emergency department, spinal needle, septic knee, kn...\n",
      "----------------------------------------\n",
      "\n",
      "Document 3: Cardiac Cath & Selective Coronary Angiography\n",
      "Text: Left cardiac catheterization with selective right and left coronary angiography.   Post infarct angina.. PREOPERATIVE DIAGNOSIS: , Post infarct angina...\n",
      "Actual Medical Specialty: Cardiovascular / Pulmonary\n",
      "Keywords: cardiovascular / pulmonary, selective, angiography, post infarct angina, engaged cineangiograms, cor...\n",
      "----------------------------------------\n",
      "\n",
      "Document 4: Acute Kidney Failure\n",
      "Text: Patient with a history of coronary artery disease, hypertension, diabetes, and stage III CKD.. REASON FOR VISIT: , Acute kidney failure.,HISTORY OF PR...\n",
      "Actual Medical Specialty: Nephrology\n",
      "Keywords: No keywords available\n",
      "----------------------------------------\n",
      "\n",
      "Document 5: Cardiac Consultation - 6\n",
      "Text: Cardiac evaluation and treatment in a patient who came in the hospital with abdominal pain.. REASON FOR REFERRAL: , Cardiac evaluation and treatment i...\n",
      "Actual Medical Specialty: Cardiovascular / Pulmonary\n",
      "Keywords: No keywords available\n",
      "----------------------------------------\n",
      "\n",
      "Document 6: Gardnerella Bacterial Vaginosis\n",
      "Text: Vaginal discharge with a foul odor.. CHIEF COMPLAINT: , Vaginal discharge with a foul odor.,HISTORY OF PRESENT ILLNESS: , This is a 25-year-old Africa...\n",
      "Actual Medical Specialty: Obstetrics / Gynecology\n",
      "Keywords: No keywords available\n",
      "----------------------------------------\n",
      "\n",
      "Document 7: Diplopia\n",
      "Text: He awoke one morning and had double vision.  He states when he closed each eye, the double vision dissipated.  The double vision entirely dissipated w...\n",
      "Actual Medical Specialty: Ophthalmology\n",
      "Keywords: No keywords available\n",
      "----------------------------------------\n",
      "\n",
      "Document 8: Flex Sig - 2\n",
      "Text: Flexible sigmoidoscopy.  The Olympus video colonoscope then introduced into the rectum and passed by directed vision to the distal descending colon.. ...\n",
      "Actual Medical Specialty: Gastroenterology\n",
      "Keywords: gastroenterology, flexible sigmoidoscopy, flex sig, colonoscope, olympus video colonoscope, rectumNO...\n",
      "----------------------------------------\n",
      "\n",
      "Document 9: Lumbar Puncture\n",
      "Text: Possible CSF malignancy.  This is an 83-year-old woman referred for diagnostic lumbar puncture for possible malignancy by Dr. X.   The patient has gra...\n",
      "Actual Medical Specialty: Neurology\n",
      "Keywords: No keywords available\n",
      "----------------------------------------\n",
      "\n",
      "Document 10: Ear Pain - Drainage\n",
      "Text: Right ear pain with drainage - otitis media and otorrhea.. CHIEF COMPLAINT:,  Right ear pain with drainage.,HISTORY OF PRESENT ILLNESS:,  This is a 12...\n",
      "Actual Medical Specialty: ENT - Otolaryngology\n",
      "Keywords: ent - otolaryngology, drainage, ear hurting, ear pain, otitis media, otorrhea, ear pain with drainag...\n",
      "----------------------------------------\n",
      "\n",
      "Medical Specialty Distribution in Sample:\n",
      "- Cardiovascular / Pulmonary: 3 cases\n",
      "- Orthopedic: 1 cases\n",
      "- Nephrology: 1 cases\n",
      "- Obstetrics / Gynecology: 1 cases\n",
      "- Ophthalmology: 1 cases\n",
      "- Gastroenterology: 1 cases\n",
      "- Neurology: 1 cases\n",
      "- ENT - Otolaryngology: 1 cases\n",
      "\n",
      "Dataset Overview:\n",
      "- Total training examples: 1724\n",
      "- Validation examples: 370\n",
      "- Test examples: 370\n",
      "\n",
      "All Medical Specialties in Dataset (13 total):\n",
      "- Cardiovascular / Pulmonary: 526 cases\n",
      "- ENT - Otolaryngology: 53 cases\n",
      "- Gastroenterology: 152 cases\n",
      "- Hematology - Oncology: 86 cases\n",
      "- Nephrology: 45 cases\n",
      "- Neurology: 187 cases\n",
      "- Neurosurgery: 76 cases\n",
      "- Obstetrics / Gynecology: 126 cases\n",
      "- Ophthalmology: 45 cases\n",
      "- Orthopedic: 289 cases\n",
      "- Pediatrics - Neonatal: 51 cases\n",
      "- Psychiatry / Psychology: 49 cases\n",
      "- Radiology: 39 cases\n",
      "- Neurosurgery: 76 cases\n",
      "- Obstetrics / Gynecology: 126 cases\n",
      "- Ophthalmology: 45 cases\n",
      "- Orthopedic: 289 cases\n",
      "- Pediatrics - Neonatal: 51 cases\n",
      "- Psychiatry / Psychology: 49 cases\n",
      "- Radiology: 39 cases\n"
     ]
    }
   ],
   "source": [
    "# Display the results in a structured format\n",
    "print(\"Medical Document Classification Results\")\n",
    "print(\"=\" * 60)\n",
    "\n",
    "for idx in range(len(medical_texts)):\n",
    "    keywords = train_sample[idx]['keywords']\n",
    "    keywords_display = keywords[:100] + \"...\" if keywords and len(keywords) > 100 else (keywords or \"No keywords available\")\n",
    "    \n",
    "    print(f\"\\nDocument {idx + 1}: {sample_names[idx]}\")\n",
    "    print(f\"Text: {medical_texts[idx][:150]}...\")\n",
    "    print(f\"Actual Medical Specialty: {actual_specialties[idx]}\")\n",
    "    print(f\"Keywords: {keywords_display}\")\n",
    "    print(\"-\" * 40)\n",
    "\n",
    "# Show distribution of medical specialties in our sample\n",
    "specialty_counts = {}\n",
    "for specialty in actual_specialties:\n",
    "    specialty_counts[specialty] = specialty_counts.get(specialty, 0) + 1\n",
    "\n",
    "print(f\"\\nMedical Specialty Distribution in Sample:\")\n",
    "for specialty, count in specialty_counts.items():\n",
    "    print(f\"- {specialty}: {count} cases\")\n",
    "\n",
    "# Show overall dataset statistics\n",
    "print(f\"\\nDataset Overview:\")\n",
    "print(f\"- Total training examples: {len(dataset['train'])}\")\n",
    "print(f\"- Validation examples: {len(dataset['validation'])}\")  \n",
    "print(f\"- Test examples: {len(dataset['test'])}\")\n",
    "\n",
    "# Get unique medical specialties in the full dataset\n",
    "all_specialties = set(dataset['train']['medical_specialty'])\n",
    "print(f\"\\nAll Medical Specialties in Dataset ({len(all_specialties)} total):\")\n",
    "for specialty in sorted(all_specialties):\n",
    "    count = dataset['train']['medical_specialty'].count(specialty)\n",
    "    print(f\"- {specialty}: {count} cases\")"
   ]
  },
  {
   "cell_type": "code",
   "execution_count": 7,
   "id": "067cdeea",
   "metadata": {},
   "outputs": [
    {
     "data": {
      "application/vnd.jupyter.widget-view+json": {
       "model_id": "b428b4a0e9964511bd78f8b8dec8fcd8",
       "version_major": 2,
       "version_minor": 0
      },
      "text/plain": [
       "model.safetensors:   0%|          | 0.00/1.63G [00:00<?, ?B/s]"
      ]
     },
     "metadata": {},
     "output_type": "display_data"
    },
    {
     "data": {
      "application/vnd.jupyter.widget-view+json": {
       "model_id": "4ff828e48b5b41df89f6fbe4deceefa6",
       "version_major": 2,
       "version_minor": 0
      },
      "text/plain": [
       "tokenizer_config.json:   0%|          | 0.00/26.0 [00:00<?, ?B/s]"
      ]
     },
     "metadata": {},
     "output_type": "display_data"
    },
    {
     "data": {
      "application/vnd.jupyter.widget-view+json": {
       "model_id": "49a2dc1c2bb04c5889438f7adab465bd",
       "version_major": 2,
       "version_minor": 0
      },
      "text/plain": [
       "vocab.json: 0.00B [00:00, ?B/s]"
      ]
     },
     "metadata": {},
     "output_type": "display_data"
    },
    {
     "data": {
      "application/vnd.jupyter.widget-view+json": {
       "model_id": "ea8d6bf1b6624877ab54c3626b2d2767",
       "version_major": 2,
       "version_minor": 0
      },
      "text/plain": [
       "merges.txt: 0.00B [00:00, ?B/s]"
      ]
     },
     "metadata": {},
     "output_type": "display_data"
    },
    {
     "data": {
      "application/vnd.jupyter.widget-view+json": {
       "model_id": "10cafe09efd94398bf219d5894bcede8",
       "version_major": 2,
       "version_minor": 0
      },
      "text/plain": [
       "tokenizer.json: 0.00B [00:00, ?B/s]"
      ]
     },
     "metadata": {},
     "output_type": "display_data"
    },
    {
     "name": "stderr",
     "output_type": "stream",
     "text": [
      "Device set to use cuda:0\n"
     ]
    },
    {
     "name": "stdout",
     "output_type": "stream",
     "text": [
      "Zero-Shot Medical Document Classification Results\n",
      "============================================================\n",
      "\n",
      "Document 1: Pacemaker Interrogation\n",
      "Text: Pacemaker ICD interrogation.  Severe nonischemic cardiomyopathy with prior ventricular tachycardia.. PROCEDURE NOTE: , Pacemaker ICD interrogation.,HI...\n",
      "Actual Specialty: Cardiovascular / Pulmonary\n",
      "Predicted Specialty: Radiology\n",
      "Confidence: 0.309\n",
      "Top 3 predictions:\n",
      "  1. Radiology: 0.309\n",
      "  2. Cardiovascular Pulmonary: 0.284\n",
      "  3. Nephrology: 0.086\n",
      "--------------------------------------------------\n",
      "\n",
      "Document 1: Pacemaker Interrogation\n",
      "Text: Pacemaker ICD interrogation.  Severe nonischemic cardiomyopathy with prior ventricular tachycardia.. PROCEDURE NOTE: , Pacemaker ICD interrogation.,HI...\n",
      "Actual Specialty: Cardiovascular / Pulmonary\n",
      "Predicted Specialty: Radiology\n",
      "Confidence: 0.309\n",
      "Top 3 predictions:\n",
      "  1. Radiology: 0.309\n",
      "  2. Cardiovascular Pulmonary: 0.284\n",
      "  3. Nephrology: 0.086\n",
      "--------------------------------------------------\n",
      "\n",
      "Document 2: Aspiration - Knee Joint\n",
      "Text: Erythema of the right knee and leg, possible septic knee. Aspiration through the anterolateral portal of knee joint.. PREOPERATIVE DIAGNOSES: , Erythe...\n",
      "Actual Specialty: Orthopedic\n",
      "Predicted Specialty: Orthopedic\n",
      "Confidence: 0.271\n",
      "Top 3 predictions:\n",
      "  1. Orthopedic: 0.271\n",
      "  2. Nephrology: 0.115\n",
      "  3. Cardiovascular Pulmonary: 0.109\n",
      "--------------------------------------------------\n",
      "\n",
      "Document 2: Aspiration - Knee Joint\n",
      "Text: Erythema of the right knee and leg, possible septic knee. Aspiration through the anterolateral portal of knee joint.. PREOPERATIVE DIAGNOSES: , Erythe...\n",
      "Actual Specialty: Orthopedic\n",
      "Predicted Specialty: Orthopedic\n",
      "Confidence: 0.271\n",
      "Top 3 predictions:\n",
      "  1. Orthopedic: 0.271\n",
      "  2. Nephrology: 0.115\n",
      "  3. Cardiovascular Pulmonary: 0.109\n",
      "--------------------------------------------------\n",
      "\n",
      "Document 3: Cardiac Cath & Selective Coronary Angiography\n",
      "Text: Left cardiac catheterization with selective right and left coronary angiography.   Post infarct angina.. PREOPERATIVE DIAGNOSIS: , Post infarct angina...\n",
      "Actual Specialty: Cardiovascular / Pulmonary\n",
      "Predicted Specialty: Cardiovascular Pulmonary\n",
      "Confidence: 0.303\n",
      "Top 3 predictions:\n",
      "  1. Cardiovascular Pulmonary: 0.303\n",
      "  2. Radiology: 0.096\n",
      "  3. Neurology: 0.071\n",
      "--------------------------------------------------\n",
      "\n",
      "Note: This is a zero-shot classification example.\n",
      "For better accuracy, you would typically fine-tune a model\n",
      "specifically on the medical cases classification dataset.\n",
      "\n",
      "Document 3: Cardiac Cath & Selective Coronary Angiography\n",
      "Text: Left cardiac catheterization with selective right and left coronary angiography.   Post infarct angina.. PREOPERATIVE DIAGNOSIS: , Post infarct angina...\n",
      "Actual Specialty: Cardiovascular / Pulmonary\n",
      "Predicted Specialty: Cardiovascular Pulmonary\n",
      "Confidence: 0.303\n",
      "Top 3 predictions:\n",
      "  1. Cardiovascular Pulmonary: 0.303\n",
      "  2. Radiology: 0.096\n",
      "  3. Neurology: 0.071\n",
      "--------------------------------------------------\n",
      "\n",
      "Note: This is a zero-shot classification example.\n",
      "For better accuracy, you would typically fine-tune a model\n",
      "specifically on the medical cases classification dataset.\n"
     ]
    }
   ],
   "source": [
    "# Let's demonstrate actual medical document classification using a fine-tuned model\n",
    "# For this example, we'll use a clinical BERT model that's better suited for medical texts\n",
    "\n",
    "from transformers import AutoTokenizer, AutoModelForSequenceClassification, pipeline\n",
    "import torch\n",
    "\n",
    "# Try to use a medical-domain specific model\n",
    "try:\n",
    "    # Use a clinical BERT model if available\n",
    "    model_name = \"emilyalsentzer/Bio_ClinicalBERT\"\n",
    "    tokenizer = AutoTokenizer.from_pretrained(model_name)\n",
    "    \n",
    "    # Create a zero-shot classification pipeline for medical specialties\n",
    "    classifier = pipeline(\n",
    "        \"zero-shot-classification\",\n",
    "        model=\"facebook/bart-large-mnli\"\n",
    "    )\n",
    "    \n",
    "    # Define the medical specialties from our dataset as candidate labels\n",
    "    medical_specialties = [\n",
    "        \"Cardiovascular Pulmonary\",\n",
    "        \"Orthopedic\", \n",
    "        \"Nephrology\",\n",
    "        \"ENT Otolaryngology\",\n",
    "        \"Obstetrics Gynecology\",\n",
    "        \"Ophthalmology\",\n",
    "        \"Gastroenterology\",\n",
    "        \"Neurology\",\n",
    "        \"Radiology\",\n",
    "        \"Psychiatry Psychology\",\n",
    "        \"Pediatrics Neonatal\",\n",
    "        \"Hematology Oncology\",\n",
    "        \"Neurosurgery\"\n",
    "    ]\n",
    "    \n",
    "    # Test classification on first 3 samples\n",
    "    print(\"Zero-Shot Medical Document Classification Results\")\n",
    "    print(\"=\" * 60)\n",
    "    \n",
    "    for i in range(3):\n",
    "        text_to_classify = medical_texts[i]\n",
    "        actual_specialty = actual_specialties[i]\n",
    "        \n",
    "        # Perform zero-shot classification\n",
    "        result = classifier(text_to_classify, medical_specialties)\n",
    "        \n",
    "        print(f\"\\nDocument {i+1}: {sample_names[i]}\")\n",
    "        print(f\"Text: {text_to_classify[:150]}...\")\n",
    "        print(f\"Actual Specialty: {actual_specialty}\")\n",
    "        print(f\"Predicted Specialty: {result['labels'][0]}\")\n",
    "        print(f\"Confidence: {result['scores'][0]:.3f}\")\n",
    "        \n",
    "        # Show top 3 predictions\n",
    "        print(\"Top 3 predictions:\")\n",
    "        for j in range(min(3, len(result['labels']))):\n",
    "            print(f\"  {j+1}. {result['labels'][j]}: {result['scores'][j]:.3f}\")\n",
    "        print(\"-\" * 50)\n",
    "        \n",
    "    print(\"\\nNote: This is a zero-shot classification example.\")\n",
    "    print(\"For better accuracy, you would typically fine-tune a model\")\n",
    "    print(\"specifically on the medical cases classification dataset.\")\n",
    "    \n",
    "except Exception as e:\n",
    "    print(f\"Note: Advanced classification model not available: {e}\")\n",
    "    print(\"The dataset is ready for use with any medical text classification model.\")\n",
    "    print(\"You can fine-tune models like Bio_ClinicalBERT, ClinicalBERT, or other medical domain models.\")"
   ]
  }
 ],
 "metadata": {
  "kernelspec": {
   "display_name": "fastai",
   "language": "python",
   "name": "python3"
  },
  "language_info": {
   "codemirror_mode": {
    "name": "ipython",
    "version": 3
   },
   "file_extension": ".py",
   "mimetype": "text/x-python",
   "name": "python",
   "nbconvert_exporter": "python",
   "pygments_lexer": "ipython3",
   "version": "3.10.18"
  }
 },
 "nbformat": 4,
 "nbformat_minor": 5
}
