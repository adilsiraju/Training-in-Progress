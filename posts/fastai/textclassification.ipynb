{
 "cells": [
  {
   "cell_type": "code",
   "execution_count": 2,
   "id": "b681c6c9",
   "metadata": {},
   "outputs": [],
   "source": [
    "from transformers import pipeline"
   ]
  },
  {
   "cell_type": "code",
   "execution_count": 3,
   "id": "f933212f",
   "metadata": {},
   "outputs": [
    {
     "data": {
      "application/vnd.jupyter.widget-view+json": {
       "model_id": "a352c3818bc24adda1dafe24aa17beca",
       "version_major": 2,
       "version_minor": 0
      },
      "text/plain": [
       "config.json:   0%|          | 0.00/814 [00:00<?, ?B/s]"
      ]
     },
     "metadata": {},
     "output_type": "display_data"
    },
    {
     "data": {
      "application/vnd.jupyter.widget-view+json": {
       "model_id": "03314c26283a4decbaf6bf3a8bdbc4d6",
       "version_major": 2,
       "version_minor": 0
      },
      "text/plain": [
       "pytorch_model.bin:   0%|          | 0.00/541M [00:00<?, ?B/s]"
      ]
     },
     "metadata": {},
     "output_type": "display_data"
    },
    {
     "data": {
      "application/vnd.jupyter.widget-view+json": {
       "model_id": "7a4cef49830545f392295e0bbbe3df55",
       "version_major": 2,
       "version_minor": 0
      },
      "text/plain": [
       "tokenizer_config.json:   0%|          | 0.00/345 [00:00<?, ?B/s]"
      ]
     },
     "metadata": {},
     "output_type": "display_data"
    },
    {
     "data": {
      "application/vnd.jupyter.widget-view+json": {
       "model_id": "c0d8e6dcdef84e9087985ec73e671adb",
       "version_major": 2,
       "version_minor": 0
      },
      "text/plain": [
       "model.safetensors:   0%|          | 0.00/541M [00:00<?, ?B/s]"
      ]
     },
     "metadata": {},
     "output_type": "display_data"
    },
    {
     "data": {
      "application/vnd.jupyter.widget-view+json": {
       "model_id": "c76d2037153b41ffbf06bb8866e2c755",
       "version_major": 2,
       "version_minor": 0
      },
      "text/plain": [
       "vocab.txt: 0.00B [00:00, ?B/s]"
      ]
     },
     "metadata": {},
     "output_type": "display_data"
    },
    {
     "data": {
      "application/vnd.jupyter.widget-view+json": {
       "model_id": "b986abfb26e24d72b3569df5d4a19026",
       "version_major": 2,
       "version_minor": 0
      },
      "text/plain": [
       "tokenizer.json: 0.00B [00:00, ?B/s]"
      ]
     },
     "metadata": {},
     "output_type": "display_data"
    },
    {
     "data": {
      "application/vnd.jupyter.widget-view+json": {
       "model_id": "628d090741dc46f2977ff36135cf6e51",
       "version_major": 2,
       "version_minor": 0
      },
      "text/plain": [
       "special_tokens_map.json:   0%|          | 0.00/112 [00:00<?, ?B/s]"
      ]
     },
     "metadata": {},
     "output_type": "display_data"
    },
    {
     "name": "stderr",
     "output_type": "stream",
     "text": [
      "Device set to use cuda:0\n"
     ]
    }
   ],
   "source": [
    "spam_classifier = pipeline(\n",
    "    'text-classification',\n",
    "    model='philschmid/distilbert-base-multilingual-cased-sentiment'\n",
    ")"
   ]
  },
  {
   "cell_type": "code",
   "execution_count": 5,
   "id": "d06f2bb0",
   "metadata": {},
   "outputs": [],
   "source": [
    "docs = [\n",
    "    \"Congartulations! You've won 5oo INR Amazon gift voucher\",\n",
    "    'Hey Amit. Lets have a meeting tomorrow',\n",
    "    'URGENT: Youre gmail has been comprimsed. Click this link to revive it',\n",
    "    'URGENT: Youre Credit Card has been comprimsed. Click this link to revive it'\n",
    "]\n",
    "\n",
    "results = spam_classifier(docs)"
   ]
  },
  {
   "cell_type": "code",
   "execution_count": 9,
   "id": "ba86d2bb",
   "metadata": {},
   "outputs": [
    {
     "name": "stdout",
     "output_type": "stream",
     "text": [
      "Label: SPAM, Confidence: 0.96\n",
      "Label: NOT SPAM, Confidence: 0.80\n",
      "Label: SPAM, Confidence: 0.92\n",
      "Label: SPAM, Confidence: 0.94\n"
     ]
    }
   ],
   "source": [
    "label_mapping = {'negative': 'SPAM',\n",
    "                 'neutral':'NOT SPAM',\n",
    "                 'positive':'NOT SPAM'}\n",
    "\n",
    "for res in results:\n",
    "    label = label_mapping[res['label']]\n",
    "    score = res['score']\n",
    "    print(f\"Label: {label}, Confidence: {score:.2f}\")"
   ]
  }
 ],
 "metadata": {
  "kernelspec": {
   "display_name": "fastai",
   "language": "python",
   "name": "python3"
  },
  "language_info": {
   "codemirror_mode": {
    "name": "ipython",
    "version": 3
   },
   "file_extension": ".py",
   "mimetype": "text/x-python",
   "name": "python",
   "nbconvert_exporter": "python",
   "pygments_lexer": "ipython3",
   "version": "3.10.18"
  }
 },
 "nbformat": 4,
 "nbformat_minor": 5
}
